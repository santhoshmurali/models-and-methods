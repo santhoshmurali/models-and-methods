{
 "cells": [
  {
   "cell_type": "code",
   "execution_count": 2,
   "metadata": {},
   "outputs": [
    {
     "name": "stderr",
     "output_type": "stream",
     "text": [
      "C:\\Home\\Apps\\Anaconda\\lib\\site-packages\\sklearn\\cross_validation.py:41: DeprecationWarning: This module was deprecated in version 0.18 in favor of the model_selection module into which all the refactored classes and functions are moved. Also note that the interface of the new CV iterators are different from that of this module. This module will be removed in 0.20.\n",
      "  \"This module will be removed in 0.20.\", DeprecationWarning)\n"
     ]
    }
   ],
   "source": [
    "import numpy as np\n",
    "import pandas as pd\n",
    "import seaborn as sb\n",
    "import matplotlib.pyplot as plt\n",
    "import sklearn\n",
    "\n",
    "\n",
    "\n",
    "from pandas import Series, DataFrame\n",
    "from pylab import rcParams\n",
    "from sklearn import preprocessing\n",
    "from sklearn.linear_model import LogisticRegression\n",
    "from sklearn.linear_model import LinearRegression\n",
    "from sklearn.cross_validation import train_test_split\n",
    "from sklearn import metrics \n",
    "from sklearn.metrics import classification_report"
   ]
  },
  {
   "cell_type": "code",
   "execution_count": 6,
   "metadata": {
    "collapsed": true
   },
   "outputs": [],
   "source": [
    "import copy as cp"
   ]
  },
  {
   "cell_type": "code",
   "execution_count": 7,
   "metadata": {
    "collapsed": true
   },
   "outputs": [],
   "source": [
    "%matplotlib inline\n",
    "rcParams['figure.figsize'] = 10, 8\n",
    "sb.set_style('whitegrid')"
   ]
  },
  {
   "cell_type": "markdown",
   "metadata": {},
   "source": [
    "# Logistic Regression of Churn Prediction model"
   ]
  },
  {
   "cell_type": "code",
   "execution_count": 8,
   "metadata": {
    "collapsed": true
   },
   "outputs": [],
   "source": [
    "dataSource = pd.read_csv(\"Telco Churn-1.csv\")"
   ]
  },
  {
   "cell_type": "code",
   "execution_count": 9,
   "metadata": {
    "scrolled": true
   },
   "outputs": [
    {
     "data": {
      "text/html": [
       "<div>\n",
       "<style>\n",
       "    .dataframe thead tr:only-child th {\n",
       "        text-align: right;\n",
       "    }\n",
       "\n",
       "    .dataframe thead th {\n",
       "        text-align: left;\n",
       "    }\n",
       "\n",
       "    .dataframe tbody tr th {\n",
       "        vertical-align: top;\n",
       "    }\n",
       "</style>\n",
       "<table border=\"1\" class=\"dataframe\">\n",
       "  <thead>\n",
       "    <tr style=\"text-align: right;\">\n",
       "      <th></th>\n",
       "      <th>0</th>\n",
       "      <th>1</th>\n",
       "      <th>2</th>\n",
       "    </tr>\n",
       "  </thead>\n",
       "  <tbody>\n",
       "    <tr>\n",
       "      <th>customerID</th>\n",
       "      <td>7590-VHVEG</td>\n",
       "      <td>5575-GNVDE</td>\n",
       "      <td>3668-QPYBK</td>\n",
       "    </tr>\n",
       "    <tr>\n",
       "      <th>gender</th>\n",
       "      <td>Female</td>\n",
       "      <td>Male</td>\n",
       "      <td>Male</td>\n",
       "    </tr>\n",
       "    <tr>\n",
       "      <th>SeniorCitizen</th>\n",
       "      <td>0</td>\n",
       "      <td>0</td>\n",
       "      <td>0</td>\n",
       "    </tr>\n",
       "    <tr>\n",
       "      <th>Partner</th>\n",
       "      <td>Yes</td>\n",
       "      <td>No</td>\n",
       "      <td>No</td>\n",
       "    </tr>\n",
       "    <tr>\n",
       "      <th>Dependents</th>\n",
       "      <td>No</td>\n",
       "      <td>No</td>\n",
       "      <td>No</td>\n",
       "    </tr>\n",
       "    <tr>\n",
       "      <th>tenure</th>\n",
       "      <td>1</td>\n",
       "      <td>34</td>\n",
       "      <td>2</td>\n",
       "    </tr>\n",
       "    <tr>\n",
       "      <th>PhoneService</th>\n",
       "      <td>No</td>\n",
       "      <td>Yes</td>\n",
       "      <td>Yes</td>\n",
       "    </tr>\n",
       "    <tr>\n",
       "      <th>MultipleLines</th>\n",
       "      <td>No phone service</td>\n",
       "      <td>No</td>\n",
       "      <td>No</td>\n",
       "    </tr>\n",
       "    <tr>\n",
       "      <th>InternetService</th>\n",
       "      <td>DSL</td>\n",
       "      <td>DSL</td>\n",
       "      <td>DSL</td>\n",
       "    </tr>\n",
       "    <tr>\n",
       "      <th>OnlineSecurity</th>\n",
       "      <td>No</td>\n",
       "      <td>Yes</td>\n",
       "      <td>Yes</td>\n",
       "    </tr>\n",
       "    <tr>\n",
       "      <th>OnlineBackup</th>\n",
       "      <td>Yes</td>\n",
       "      <td>No</td>\n",
       "      <td>Yes</td>\n",
       "    </tr>\n",
       "    <tr>\n",
       "      <th>DeviceProtection</th>\n",
       "      <td>No</td>\n",
       "      <td>Yes</td>\n",
       "      <td>No</td>\n",
       "    </tr>\n",
       "    <tr>\n",
       "      <th>TechSupport</th>\n",
       "      <td>No</td>\n",
       "      <td>No</td>\n",
       "      <td>No</td>\n",
       "    </tr>\n",
       "    <tr>\n",
       "      <th>StreamingTV</th>\n",
       "      <td>No</td>\n",
       "      <td>No</td>\n",
       "      <td>No</td>\n",
       "    </tr>\n",
       "    <tr>\n",
       "      <th>StreamingMovies</th>\n",
       "      <td>No</td>\n",
       "      <td>No</td>\n",
       "      <td>No</td>\n",
       "    </tr>\n",
       "    <tr>\n",
       "      <th>Contract</th>\n",
       "      <td>Month-to-month</td>\n",
       "      <td>One year</td>\n",
       "      <td>Month-to-month</td>\n",
       "    </tr>\n",
       "    <tr>\n",
       "      <th>PaperlessBilling</th>\n",
       "      <td>Yes</td>\n",
       "      <td>No</td>\n",
       "      <td>Yes</td>\n",
       "    </tr>\n",
       "    <tr>\n",
       "      <th>PaymentMethod</th>\n",
       "      <td>Electronic check</td>\n",
       "      <td>Mailed check</td>\n",
       "      <td>Mailed check</td>\n",
       "    </tr>\n",
       "    <tr>\n",
       "      <th>MonthlyCharges</th>\n",
       "      <td>29.85</td>\n",
       "      <td>56.95</td>\n",
       "      <td>53.85</td>\n",
       "    </tr>\n",
       "    <tr>\n",
       "      <th>TotalCharges</th>\n",
       "      <td>29.85</td>\n",
       "      <td>1889.5</td>\n",
       "      <td>108.15</td>\n",
       "    </tr>\n",
       "    <tr>\n",
       "      <th>Churn</th>\n",
       "      <td>No</td>\n",
       "      <td>No</td>\n",
       "      <td>Yes</td>\n",
       "    </tr>\n",
       "  </tbody>\n",
       "</table>\n",
       "</div>"
      ],
      "text/plain": [
       "                                 0             1               2\n",
       "customerID              7590-VHVEG    5575-GNVDE      3668-QPYBK\n",
       "gender                      Female          Male            Male\n",
       "SeniorCitizen                    0             0               0\n",
       "Partner                        Yes            No              No\n",
       "Dependents                      No            No              No\n",
       "tenure                           1            34               2\n",
       "PhoneService                    No           Yes             Yes\n",
       "MultipleLines     No phone service            No              No\n",
       "InternetService                DSL           DSL             DSL\n",
       "OnlineSecurity                  No           Yes             Yes\n",
       "OnlineBackup                   Yes            No             Yes\n",
       "DeviceProtection                No           Yes              No\n",
       "TechSupport                     No            No              No\n",
       "StreamingTV                     No            No              No\n",
       "StreamingMovies                 No            No              No\n",
       "Contract            Month-to-month      One year  Month-to-month\n",
       "PaperlessBilling               Yes            No             Yes\n",
       "PaymentMethod     Electronic check  Mailed check    Mailed check\n",
       "MonthlyCharges               29.85         56.95           53.85\n",
       "TotalCharges                 29.85        1889.5          108.15\n",
       "Churn                           No            No             Yes"
      ]
     },
     "execution_count": 9,
     "metadata": {},
     "output_type": "execute_result"
    }
   ],
   "source": [
    "dataSource.head(3).T"
   ]
  },
  {
   "cell_type": "markdown",
   "metadata": {},
   "source": [
    "# Variable Description"
   ]
  },
  {
   "cell_type": "markdown",
   "metadata": {},
   "source": [
    "- customerID \n",
    "  - unique customer identification number\n",
    " \n",
    " \n",
    "- gender\n",
    "  - Male or Femalae\n",
    " \n",
    " \n",
    "- SeniorCitizen\n",
    "  - If a Customer is a Senior Citizen or not, generally it is defined if age is more than 58\n",
    "\n",
    "\n",
    "- Partner\n",
    "  - Tells if a custer is single or married\n",
    "\n",
    "\n",
    "- Dependents\n",
    "  - If a custer is a parent or not.\n",
    "  \n",
    "  \n",
    "- tenure\n",
    "  - for how many months the given person was a customer\n",
    "  \n",
    " \n",
    "- PhoneService\n",
    "  - Does the customer has a voice product subscribed\n",
    "  \n",
    "  \n",
    "- MultipleLines\n",
    "  - Does the customer has more than one line sunscribed\n",
    "  \n",
    "  \n",
    "- InternetService\n",
    "  - Does the user has internet services also subscribed. what type is it?\n",
    "  \n",
    "  \n",
    "- OnlineSecurity\n",
    "  - If the customer has internet facility, has he subscribed for online security\n",
    "  \n",
    " \n",
    "- OnlineBackup\n",
    "  - If the customer has internet facility, has he subscribed for Online backup\n",
    "\n",
    "\n",
    "- DeviceProtection\n",
    "  - If a customer has opted for devicem does he/she also subscribed for Device protection\n",
    "\n",
    "\n",
    "- TechSupport\n",
    "  - Does the Customer subscribed for technical support feature\n",
    "  \n",
    "  \n",
    "- StreamingTV\n",
    "  - If the customer subscribed for Internet, did the customer also subscribe for Streaming TV\n",
    "  \n",
    "  \n",
    "- StreamingMovies\n",
    "  - If the customer subscribed for Internet, did the customer also subscribe for Streaming Movies\n",
    "  \n",
    "\n",
    "- Contract\n",
    "  - What type of Contract does the customer Subscribe for\n",
    "  \n",
    "  \n",
    "- PaperlessBilling\n",
    "  - Has the customer Subscribe for paperless billing?\n",
    "  \n",
    "\n",
    "- PaymentMethod\n",
    "  - What is the preferred method payment opted by the customer?\n",
    "  \n",
    "  \n",
    "- MonthlyCharges\n",
    "  - What is the average monthly charges for this Customer?\n",
    "\n",
    "\n",
    "- TotalCharges\n",
    "  - Till date what is the amount payed by customer?\n",
    "  \n",
    "  \n",
    "- Churn\n",
    "  - Has this customer churned or not? [**Target Variable**]"
   ]
  },
  {
   "cell_type": "markdown",
   "metadata": {},
   "source": [
    "when we look at the variables, many of those are string categorical variables and we have to convert those to numeric categorical using dummy coding"
   ]
  },
  {
   "cell_type": "code",
   "execution_count": 10,
   "metadata": {
    "collapsed": true
   },
   "outputs": [],
   "source": [
    "workingData = cp.deepcopy(dataSource)"
   ]
  },
  {
   "cell_type": "markdown",
   "metadata": {},
   "source": [
    "### Checking if the Target Variable is Binary\n",
    "Since we are building a model to predict Customer Churn from Telecom Data, our target is going to be \"Churn\" variable from the workingData dataframe. To make sure that it's a binary variable, let's use Seaborn's countplot() function."
   ]
  },
  {
   "cell_type": "code",
   "execution_count": 11,
   "metadata": {},
   "outputs": [
    {
     "data": {
      "text/plain": [
       "<matplotlib.axes._subplots.AxesSubplot at 0x136d8dc1c88>"
      ]
     },
     "execution_count": 11,
     "metadata": {},
     "output_type": "execute_result"
    },
    {
     "data": {
      "image/png": "[encoded data removed]",
      "text/plain": [
       "<matplotlib.figure.Figure at 0x136d8c6ddd8>"
      ]
     },
     "metadata": {},
     "output_type": "display_data"
    }
   ],
   "source": [
    "sb.countplot('Churn', data=workingData, palette='hls')"
   ]
  },
  {
   "cell_type": "markdown",
   "metadata": {},
   "source": [
    "Ok, so we see that the Churn variable is binary (No - did not Churn / Yes - Churned)"
   ]
  },
  {
   "cell_type": "markdown",
   "metadata": {},
   "source": [
    "### Checking for missing values\n",
    "It's easy to check for missing values by calling the isnull() method, and the sum() method off of that, to return a tally of all the True values that are returned by the isnull() method."
   ]
  },
  {
   "cell_type": "code",
   "execution_count": 12,
   "metadata": {},
   "outputs": [
    {
     "data": {
      "text/plain": [
       "customerID          0\n",
       "gender              0\n",
       "SeniorCitizen       0\n",
       "Partner             0\n",
       "Dependents          0\n",
       "tenure              0\n",
       "PhoneService        0\n",
       "MultipleLines       0\n",
       "InternetService     0\n",
       "OnlineSecurity      0\n",
       "OnlineBackup        0\n",
       "DeviceProtection    0\n",
       "TechSupport         0\n",
       "StreamingTV         0\n",
       "StreamingMovies     0\n",
       "Contract            0\n",
       "PaperlessBilling    0\n",
       "PaymentMethod       0\n",
       "MonthlyCharges      0\n",
       "TotalCharges        0\n",
       "Churn               0\n",
       "dtype: int64"
      ]
     },
     "execution_count": 12,
     "metadata": {},
     "output_type": "execute_result"
    }
   ],
   "source": [
    "workingData.isnull().sum()"
   ]
  },
  {
   "cell_type": "markdown",
   "metadata": {},
   "source": [
    "Ok, We see no null values in any of the variables provided in the dataset. This will mean little work to do for missing value computation and sampling technique."
   ]
  },
  {
   "cell_type": "code",
   "execution_count": 13,
   "metadata": {},
   "outputs": [
    {
     "name": "stdout",
     "output_type": "stream",
     "text": [
      "<class 'pandas.core.frame.DataFrame'>\n",
      "RangeIndex: 7043 entries, 0 to 7042\n",
      "Data columns (total 21 columns):\n",
      "customerID          7043 non-null object\n",
      "gender              7043 non-null object\n",
      "SeniorCitizen       7043 non-null int64\n",
      "Partner             7043 non-null object\n",
      "Dependents          7043 non-null object\n",
      "tenure              7043 non-null int64\n",
      "PhoneService        7043 non-null object\n",
      "MultipleLines       7043 non-null object\n",
      "InternetService     7043 non-null object\n",
      "OnlineSecurity      7043 non-null object\n",
      "OnlineBackup        7043 non-null object\n",
      "DeviceProtection    7043 non-null object\n",
      "TechSupport         7043 non-null object\n",
      "StreamingTV         7043 non-null object\n",
      "StreamingMovies     7043 non-null object\n",
      "Contract            7043 non-null object\n",
      "PaperlessBilling    7043 non-null object\n",
      "PaymentMethod       7043 non-null object\n",
      "MonthlyCharges      7043 non-null float64\n",
      "TotalCharges        7043 non-null object\n",
      "Churn               7043 non-null object\n",
      "dtypes: float64(1), int64(2), object(18)\n",
      "memory usage: 1.1+ MB\n"
     ]
    }
   ],
   "source": [
    "workingData.info()"
   ]
  },
  {
   "cell_type": "markdown",
   "metadata": {},
   "source": [
    "### Feature Selection for Logistic Regression"
   ]
  },
  {
   "cell_type": "markdown",
   "metadata": {},
   "source": [
    "- **customerID** \n",
    "  - unique customer identification number, this value is absolutely irrelevant predicting churn. So, let’s not have this for model building\n",
    " \n",
    " \n",
    "- **gender**\n",
    "  - Does gender play a critical role in for Churn? yes, it does equally as buying decision.  This is very important variable for predicting the Churn.\n",
    "  \n",
    " \n",
    "- **SeniorCitizen**\n",
    "  - The behavior, impulse, reaction and factors that are considered for churn. Some of the Senior Citizen might not earn as much as non-Senior Citizens would, so that might make them to Quit. So, Lets have this variable for our prediction.\n",
    "\n",
    "\n",
    "- **Partner**\n",
    "  - Tells if a Customer is single or married, this might not have a direct impact, probably it would. Lets have this and based on the significance we can decide on it later.\n",
    "\n",
    "\n",
    "- **Dependents**\n",
    "  - If a Customer is a parent or not.this might not have a direct impact, probably it would. Lets have this and based on the significance we can decide on it later.\n",
    "  \n",
    "  \n",
    "- **tenure**\n",
    "  - for how many months the given person was a customer. This will have a significant impact on Churn Decision. Lets have it.\n",
    "  \n",
    " \n",
    "- **PhoneService**\n",
    "- **MultipleLines**\n",
    "- **InternetService**\n",
    "   - All the above 3 are primary products offered by the Telecom company. Customers will expect a good quality of service on all three, anything less than excellent will make customer to Churn. These are very important variables for Churn Prediction.  \n",
    "  \n",
    "\n",
    "- **TechSupport**\n",
    "- **DeviceProtection**\n",
    "   - Technical support and Device Protection are Add-on feature that is provided to customers. But, customers don't perceive this as add-on, they expect same level of services as their core products. Anything less will increase the probability of a customer churning out.\n",
    "\n",
    "- **OnlineSecurity**\n",
    "- **OnlineBackup**\n",
    "- **StreamingTV**\n",
    "- **StreamingMovies**\n",
    "  - These are again, add-on products that customer subscribe to in addition to Core products. There are equal chances for a customer to churn or not to churn based on this variable.  Let us continue to keep this in our model.\n",
    "\n",
    "\n",
    "- **Contract**\n",
    "- **PaperlessBilling**\n",
    "- **PaymentMethod**\n",
    "- **MonthlyCharges**\n",
    "  - These are the variables which Customer measure the loyalty of the telecom company. Customers have 0 tolerance on this variable and they are very likely to churn if anything goes even insignificantly here. These are very important variables for Churn prediction model\n",
    "\n",
    "\n",
    "- **TotalCharges**\n",
    "  - This is just a aggregate of product of Monthly changes and tenure. This might lead to collinearity if we have this. So, we can take this out from our model.\n",
    "  \n",
    "  \n",
    "- **Churn**\n",
    "  - Has this customer churned or not? [**Target Variable**]"
   ]
  },
  {
   "cell_type": "markdown",
   "metadata": {},
   "source": [
    "## Dummy Coding"
   ]
  },
  {
   "cell_type": "code",
   "execution_count": 14,
   "metadata": {
    "collapsed": true
   },
   "outputs": [],
   "source": [
    "dummyWorkingFile = cp.deepcopy(dataSource)"
   ]
  },
  {
   "cell_type": "code",
   "execution_count": 16,
   "metadata": {
    "collapsed": true
   },
   "outputs": [],
   "source": [
    "gender_dummy = pd.get_dummies(dummyWorkingFile['gender'], drop_first=True)\n",
    "\n",
    "partner_dummy = pd.get_dummies(dummyWorkingFile['Partner'], drop_first=True)\n",
    "\n",
    "partner_dummy.columns = ['Partner']\n",
    "\n",
    "dependents_dummy = pd.get_dummies(dummyWorkingFile['Dependents'], drop_first=True)\n",
    "\n",
    "dependents_dummy.columns = ['Dependents']\n",
    "\n",
    "phoneservice_dummy = pd.get_dummies(dummyWorkingFile['PhoneService'], drop_first=True)\n",
    "\n",
    "phoneservice_dummy.columns= ['PhoneService']\n",
    "\n",
    "multiplelines_dummy = pd.get_dummies(dummyWorkingFile['MultipleLines'], drop_first=True)\n",
    "\n",
    "multiplelines_dummy.columns = ['MultiLines_No_Phone_Service', 'MultipleLines']\n",
    "\n",
    "internetservice_dummy = pd.get_dummies(dummyWorkingFile['InternetService'])\n",
    "\n",
    "internetservice_dummy.columns = ['DSL','FiberOptic','NoInternetService']\n",
    "\n",
    "onlinesecurity_dummy = pd.get_dummies(dummyWorkingFile['OnlineSecurity'], drop_first=True)\n",
    "\n",
    "onlinesecurity_dummy.columns = ['NoInternetService','OnlineSecurity']\n",
    "\n",
    "OnlineBackup_dummy = pd.get_dummies(dummyWorkingFile.OnlineBackup, drop_first=True)\n",
    "\n",
    "OnlineBackup_dummy.columns = ['NoInternetService','OnlineBackup']\n",
    "\n",
    "DeviceProtection_dummy = pd.get_dummies(dummyWorkingFile.DeviceProtection, drop_first=True)\n",
    "\n",
    "DeviceProtection_dummy.columns  = ['NoInternetService','DeviceProtection']\n",
    "\n",
    "TechSupport_dummy = pd.get_dummies(dummyWorkingFile.TechSupport, drop_first=True)\n",
    "\n",
    "TechSupport_dummy.columns  = ['NoInternetService','TechSupport']\n",
    "\n",
    "StreamingTV_dummy = pd.get_dummies(dummyWorkingFile.StreamingTV, drop_first=True)\n",
    "\n",
    "StreamingTV_dummy.columns  = ['NoInternetService','StreamingTV']\n",
    "\n",
    "StreamingMovies_dummy = pd.get_dummies(dummyWorkingFile.StreamingMovies, drop_first=True)\n",
    "\n",
    "StreamingMovies_dummy.columns= ['NoInternetService','StreamingMovies']\n",
    "\n",
    "Contract_dummy = pd.get_dummies(dummyWorkingFile.Contract)\n",
    "\n",
    "Contract_dummy.columns = ['c_Month-to-month','c_One year','c_Two year']\n",
    "\n",
    "PaperlessBilling_dummy = pd.get_dummies(dummyWorkingFile.PaperlessBilling, drop_first=True)\n",
    "\n",
    "PaperlessBilling_dummy.columns = ['PaperlessBilling']\n",
    "\n",
    "PaymentMethod_dummy = pd.get_dummies(dummyWorkingFile.PaymentMethod)\n",
    "\n",
    "PaymentMethod_dummy.columns = ['PM_Bank transfer (automatic)','PM_Credit card (automatic)','PM_Electronic check','PM_Mailed check']\n",
    "\n",
    "Churn_dummy = pd.get_dummies(dummyWorkingFile.Churn, drop_first=True)\n",
    "\n",
    "Churn_dummy.columns = ['Churn']"
   ]
  },
  {
   "cell_type": "code",
   "execution_count": 17,
   "metadata": {
    "collapsed": true
   },
   "outputs": [],
   "source": [
    "dummyWorkingFile = cp.deepcopy(dummyWorkingFile.loc[:,['SeniorCitizen','tenure','MonthlyCharges']])"
   ]
  },
  {
   "cell_type": "code",
   "execution_count": 18,
   "metadata": {
    "scrolled": false
   },
   "outputs": [
    {
     "data": {
      "text/html": [
       "<div>\n",
       "<style>\n",
       "    .dataframe thead tr:only-child th {\n",
       "        text-align: right;\n",
       "    }\n",
       "\n",
       "    .dataframe thead th {\n",
       "        text-align: left;\n",
       "    }\n",
       "\n",
       "    .dataframe tbody tr th {\n",
       "        vertical-align: top;\n",
       "    }\n",
       "</style>\n",
       "<table border=\"1\" class=\"dataframe\">\n",
       "  <thead>\n",
       "    <tr style=\"text-align: right;\">\n",
       "      <th></th>\n",
       "      <th>0</th>\n",
       "      <th>1</th>\n",
       "      <th>2</th>\n",
       "      <th>3</th>\n",
       "    </tr>\n",
       "  </thead>\n",
       "  <tbody>\n",
       "    <tr>\n",
       "      <th>SeniorCitizen</th>\n",
       "      <td>0.00</td>\n",
       "      <td>0.00</td>\n",
       "      <td>0.00</td>\n",
       "      <td>0.0</td>\n",
       "    </tr>\n",
       "    <tr>\n",
       "      <th>tenure</th>\n",
       "      <td>1.00</td>\n",
       "      <td>34.00</td>\n",
       "      <td>2.00</td>\n",
       "      <td>45.0</td>\n",
       "    </tr>\n",
       "    <tr>\n",
       "      <th>MonthlyCharges</th>\n",
       "      <td>29.85</td>\n",
       "      <td>56.95</td>\n",
       "      <td>53.85</td>\n",
       "      <td>42.3</td>\n",
       "    </tr>\n",
       "  </tbody>\n",
       "</table>\n",
       "</div>"
      ],
      "text/plain": [
       "                    0      1      2     3\n",
       "SeniorCitizen    0.00   0.00   0.00   0.0\n",
       "tenure           1.00  34.00   2.00  45.0\n",
       "MonthlyCharges  29.85  56.95  53.85  42.3"
      ]
     },
     "execution_count": 18,
     "metadata": {},
     "output_type": "execute_result"
    }
   ],
   "source": [
    "dummyWorkingFile.head(4).T"
   ]
  },
  {
   "cell_type": "code",
   "execution_count": 19,
   "metadata": {
    "collapsed": true
   },
   "outputs": [],
   "source": [
    "FinalWorkingFile = cp.deepcopy(dummyWorkingFile)\n",
    "\n",
    "FinalWorkingFile['Male'] = gender_dummy\n",
    "\n",
    "FinalWorkingFile['Partner'] = partner_dummy\n",
    "\n",
    "FinalWorkingFile['Dependents'] = dependents_dummy\n",
    "\n",
    "FinalWorkingFile['PhoneService'] = phoneservice_dummy\n",
    "\n",
    "FinalWorkingFile['MultiLines_No_Phone_Service'] = multiplelines_dummy['MultiLines_No_Phone_Service']\n",
    "\n",
    "FinalWorkingFile['MultipleLines'] = multiplelines_dummy['MultipleLines']\n",
    "\n",
    "FinalWorkingFile['DSL'] = internetservice_dummy['DSL']\n",
    "FinalWorkingFile['FiberOptic'] = internetservice_dummy['FiberOptic']\n",
    "FinalWorkingFile['NoInternetService'] = internetservice_dummy['NoInternetService']\n",
    "\n",
    "FinalWorkingFile['OnlineSecurity'] = onlinesecurity_dummy['OnlineSecurity']\n",
    "\n",
    "FinalWorkingFile['OnlineBackup'] = OnlineBackup_dummy['OnlineBackup']\n",
    "\n",
    "FinalWorkingFile['DeviceProtection'] = DeviceProtection_dummy['DeviceProtection']\n",
    "\n",
    "FinalWorkingFile['TechSupport'] = TechSupport_dummy['TechSupport']\n",
    "\n",
    "FinalWorkingFile['StreamingTV'] = StreamingTV_dummy['StreamingTV']\n",
    "\n",
    "FinalWorkingFile['StreamingMovies'] = StreamingMovies_dummy['StreamingMovies']\n",
    "\n",
    "FinalWorkingFile['c_Month-to-month'] = Contract_dummy['c_Month-to-month']\n",
    "FinalWorkingFile['c_One year'] = Contract_dummy['c_One year']\n",
    "FinalWorkingFile['c_Two year'] = Contract_dummy['c_Two year'] \n",
    "\n",
    "FinalWorkingFile['PaperlessBilling'] = PaperlessBilling_dummy['PaperlessBilling']\n",
    "\n",
    "FinalWorkingFile['PM_Bank transfer (automatic)'] = PaymentMethod_dummy['PM_Bank transfer (automatic)']\n",
    "FinalWorkingFile['PM_Credit card (automatic)']= PaymentMethod_dummy['PM_Credit card (automatic)']\n",
    "FinalWorkingFile['PM_Electronic check'] = PaymentMethod_dummy['PM_Electronic check']\n",
    "FinalWorkingFile['PM_Mailed check'] = PaymentMethod_dummy['PM_Mailed check']\n",
    "\n",
    "FinalWorkingFile['Churn'] = Churn_dummy['Churn']"
   ]
  },
  {
   "cell_type": "markdown",
   "metadata": {},
   "source": [
    "#### After converting all categorical variables to Dummy Variables using Dummy coding"
   ]
  },
  {
   "cell_type": "code",
   "execution_count": 20,
   "metadata": {
    "scrolled": true
   },
   "outputs": [
    {
     "data": {
      "text/html": [
       "<div>\n",
       "<style>\n",
       "    .dataframe thead tr:only-child th {\n",
       "        text-align: right;\n",
       "    }\n",
       "\n",
       "    .dataframe thead th {\n",
       "        text-align: left;\n",
       "    }\n",
       "\n",
       "    .dataframe tbody tr th {\n",
       "        vertical-align: top;\n",
       "    }\n",
       "</style>\n",
       "<table border=\"1\" class=\"dataframe\">\n",
       "  <thead>\n",
       "    <tr style=\"text-align: right;\">\n",
       "      <th></th>\n",
       "      <th>0</th>\n",
       "      <th>1</th>\n",
       "      <th>2</th>\n",
       "      <th>3</th>\n",
       "      <th>4</th>\n",
       "      <th>5</th>\n",
       "      <th>6</th>\n",
       "      <th>7</th>\n",
       "      <th>8</th>\n",
       "      <th>9</th>\n",
       "    </tr>\n",
       "  </thead>\n",
       "  <tbody>\n",
       "    <tr>\n",
       "      <th>SeniorCitizen</th>\n",
       "      <td>0.00</td>\n",
       "      <td>0.00</td>\n",
       "      <td>0.00</td>\n",
       "      <td>0.0</td>\n",
       "      <td>0.0</td>\n",
       "      <td>0.00</td>\n",
       "      <td>0.0</td>\n",
       "      <td>0.00</td>\n",
       "      <td>0.0</td>\n",
       "      <td>0.00</td>\n",
       "    </tr>\n",
       "    <tr>\n",
       "      <th>tenure</th>\n",
       "      <td>1.00</td>\n",
       "      <td>34.00</td>\n",
       "      <td>2.00</td>\n",
       "      <td>45.0</td>\n",
       "      <td>2.0</td>\n",
       "      <td>8.00</td>\n",
       "      <td>22.0</td>\n",
       "      <td>10.00</td>\n",
       "      <td>28.0</td>\n",
       "      <td>62.00</td>\n",
       "    </tr>\n",
       "    <tr>\n",
       "      <th>MonthlyCharges</th>\n",
       "      <td>29.85</td>\n",
       "      <td>56.95</td>\n",
       "      <td>53.85</td>\n",
       "      <td>42.3</td>\n",
       "      <td>70.7</td>\n",
       "      <td>99.65</td>\n",
       "      <td>89.1</td>\n",
       "      <td>29.75</td>\n",
       "      <td>104.8</td>\n",
       "      <td>56.15</td>\n",
       "    </tr>\n",
       "    <tr>\n",
       "      <th>Male</th>\n",
       "      <td>0.00</td>\n",
       "      <td>1.00</td>\n",
       "      <td>1.00</td>\n",
       "      <td>1.0</td>\n",
       "      <td>0.0</td>\n",
       "      <td>0.00</td>\n",
       "      <td>1.0</td>\n",
       "      <td>0.00</td>\n",
       "      <td>0.0</td>\n",
       "      <td>1.00</td>\n",
       "    </tr>\n",
       "    <tr>\n",
       "      <th>Partner</th>\n",
       "      <td>1.00</td>\n",
       "      <td>0.00</td>\n",
       "      <td>0.00</td>\n",
       "      <td>0.0</td>\n",
       "      <td>0.0</td>\n",
       "      <td>0.00</td>\n",
       "      <td>0.0</td>\n",
       "      <td>0.00</td>\n",
       "      <td>1.0</td>\n",
       "      <td>0.00</td>\n",
       "    </tr>\n",
       "    <tr>\n",
       "      <th>Dependents</th>\n",
       "      <td>0.00</td>\n",
       "      <td>0.00</td>\n",
       "      <td>0.00</td>\n",
       "      <td>0.0</td>\n",
       "      <td>0.0</td>\n",
       "      <td>0.00</td>\n",
       "      <td>1.0</td>\n",
       "      <td>0.00</td>\n",
       "      <td>0.0</td>\n",
       "      <td>1.00</td>\n",
       "    </tr>\n",
       "    <tr>\n",
       "      <th>PhoneService</th>\n",
       "      <td>0.00</td>\n",
       "      <td>1.00</td>\n",
       "      <td>1.00</td>\n",
       "      <td>0.0</td>\n",
       "      <td>1.0</td>\n",
       "      <td>1.00</td>\n",
       "      <td>1.0</td>\n",
       "      <td>0.00</td>\n",
       "      <td>1.0</td>\n",
       "      <td>1.00</td>\n",
       "    </tr>\n",
       "    <tr>\n",
       "      <th>MultiLines_No_Phone_Service</th>\n",
       "      <td>1.00</td>\n",
       "      <td>0.00</td>\n",
       "      <td>0.00</td>\n",
       "      <td>1.0</td>\n",
       "      <td>0.0</td>\n",
       "      <td>0.00</td>\n",
       "      <td>0.0</td>\n",
       "      <td>1.00</td>\n",
       "      <td>0.0</td>\n",
       "      <td>0.00</td>\n",
       "    </tr>\n",
       "    <tr>\n",
       "      <th>MultipleLines</th>\n",
       "      <td>0.00</td>\n",
       "      <td>0.00</td>\n",
       "      <td>0.00</td>\n",
       "      <td>0.0</td>\n",
       "      <td>0.0</td>\n",
       "      <td>1.00</td>\n",
       "      <td>1.0</td>\n",
       "      <td>0.00</td>\n",
       "      <td>1.0</td>\n",
       "      <td>0.00</td>\n",
       "    </tr>\n",
       "    <tr>\n",
       "      <th>DSL</th>\n",
       "      <td>1.00</td>\n",
       "      <td>1.00</td>\n",
       "      <td>1.00</td>\n",
       "      <td>1.0</td>\n",
       "      <td>0.0</td>\n",
       "      <td>0.00</td>\n",
       "      <td>0.0</td>\n",
       "      <td>1.00</td>\n",
       "      <td>0.0</td>\n",
       "      <td>1.00</td>\n",
       "    </tr>\n",
       "    <tr>\n",
       "      <th>FiberOptic</th>\n",
       "      <td>0.00</td>\n",
       "      <td>0.00</td>\n",
       "      <td>0.00</td>\n",
       "      <td>0.0</td>\n",
       "      <td>1.0</td>\n",
       "      <td>1.00</td>\n",
       "      <td>1.0</td>\n",
       "      <td>0.00</td>\n",
       "      <td>1.0</td>\n",
       "      <td>0.00</td>\n",
       "    </tr>\n",
       "    <tr>\n",
       "      <th>NoInternetService</th>\n",
       "      <td>0.00</td>\n",
       "      <td>0.00</td>\n",
       "      <td>0.00</td>\n",
       "      <td>0.0</td>\n",
       "      <td>0.0</td>\n",
       "      <td>0.00</td>\n",
       "      <td>0.0</td>\n",
       "      <td>0.00</td>\n",
       "      <td>0.0</td>\n",
       "      <td>0.00</td>\n",
       "    </tr>\n",
       "    <tr>\n",
       "      <th>OnlineSecurity</th>\n",
       "      <td>0.00</td>\n",
       "      <td>1.00</td>\n",
       "      <td>1.00</td>\n",
       "      <td>1.0</td>\n",
       "      <td>0.0</td>\n",
       "      <td>0.00</td>\n",
       "      <td>0.0</td>\n",
       "      <td>1.00</td>\n",
       "      <td>0.0</td>\n",
       "      <td>1.00</td>\n",
       "    </tr>\n",
       "    <tr>\n",
       "      <th>OnlineBackup</th>\n",
       "      <td>1.00</td>\n",
       "      <td>0.00</td>\n",
       "      <td>1.00</td>\n",
       "      <td>0.0</td>\n",
       "      <td>0.0</td>\n",
       "      <td>0.00</td>\n",
       "      <td>1.0</td>\n",
       "      <td>0.00</td>\n",
       "      <td>0.0</td>\n",
       "      <td>1.00</td>\n",
       "    </tr>\n",
       "    <tr>\n",
       "      <th>DeviceProtection</th>\n",
       "      <td>0.00</td>\n",
       "      <td>1.00</td>\n",
       "      <td>0.00</td>\n",
       "      <td>1.0</td>\n",
       "      <td>0.0</td>\n",
       "      <td>1.00</td>\n",
       "      <td>0.0</td>\n",
       "      <td>0.00</td>\n",
       "      <td>1.0</td>\n",
       "      <td>0.00</td>\n",
       "    </tr>\n",
       "    <tr>\n",
       "      <th>TechSupport</th>\n",
       "      <td>0.00</td>\n",
       "      <td>0.00</td>\n",
       "      <td>0.00</td>\n",
       "      <td>1.0</td>\n",
       "      <td>0.0</td>\n",
       "      <td>0.00</td>\n",
       "      <td>0.0</td>\n",
       "      <td>0.00</td>\n",
       "      <td>1.0</td>\n",
       "      <td>0.00</td>\n",
       "    </tr>\n",
       "    <tr>\n",
       "      <th>StreamingTV</th>\n",
       "      <td>0.00</td>\n",
       "      <td>0.00</td>\n",
       "      <td>0.00</td>\n",
       "      <td>0.0</td>\n",
       "      <td>0.0</td>\n",
       "      <td>1.00</td>\n",
       "      <td>1.0</td>\n",
       "      <td>0.00</td>\n",
       "      <td>1.0</td>\n",
       "      <td>0.00</td>\n",
       "    </tr>\n",
       "    <tr>\n",
       "      <th>StreamingMovies</th>\n",
       "      <td>0.00</td>\n",
       "      <td>0.00</td>\n",
       "      <td>0.00</td>\n",
       "      <td>0.0</td>\n",
       "      <td>0.0</td>\n",
       "      <td>1.00</td>\n",
       "      <td>0.0</td>\n",
       "      <td>0.00</td>\n",
       "      <td>1.0</td>\n",
       "      <td>0.00</td>\n",
       "    </tr>\n",
       "    <tr>\n",
       "      <th>c_Month-to-month</th>\n",
       "      <td>1.00</td>\n",
       "      <td>0.00</td>\n",
       "      <td>1.00</td>\n",
       "      <td>0.0</td>\n",
       "      <td>1.0</td>\n",
       "      <td>1.00</td>\n",
       "      <td>1.0</td>\n",
       "      <td>1.00</td>\n",
       "      <td>1.0</td>\n",
       "      <td>0.00</td>\n",
       "    </tr>\n",
       "    <tr>\n",
       "      <th>c_One year</th>\n",
       "      <td>0.00</td>\n",
       "      <td>1.00</td>\n",
       "      <td>0.00</td>\n",
       "      <td>1.0</td>\n",
       "      <td>0.0</td>\n",
       "      <td>0.00</td>\n",
       "      <td>0.0</td>\n",
       "      <td>0.00</td>\n",
       "      <td>0.0</td>\n",
       "      <td>1.00</td>\n",
       "    </tr>\n",
       "    <tr>\n",
       "      <th>c_Two year</th>\n",
       "      <td>0.00</td>\n",
       "      <td>0.00</td>\n",
       "      <td>0.00</td>\n",
       "      <td>0.0</td>\n",
       "      <td>0.0</td>\n",
       "      <td>0.00</td>\n",
       "      <td>0.0</td>\n",
       "      <td>0.00</td>\n",
       "      <td>0.0</td>\n",
       "      <td>0.00</td>\n",
       "    </tr>\n",
       "    <tr>\n",
       "      <th>PaperlessBilling</th>\n",
       "      <td>1.00</td>\n",
       "      <td>0.00</td>\n",
       "      <td>1.00</td>\n",
       "      <td>0.0</td>\n",
       "      <td>1.0</td>\n",
       "      <td>1.00</td>\n",
       "      <td>1.0</td>\n",
       "      <td>0.00</td>\n",
       "      <td>1.0</td>\n",
       "      <td>0.00</td>\n",
       "    </tr>\n",
       "    <tr>\n",
       "      <th>PM_Bank transfer (automatic)</th>\n",
       "      <td>0.00</td>\n",
       "      <td>0.00</td>\n",
       "      <td>0.00</td>\n",
       "      <td>1.0</td>\n",
       "      <td>0.0</td>\n",
       "      <td>0.00</td>\n",
       "      <td>0.0</td>\n",
       "      <td>0.00</td>\n",
       "      <td>0.0</td>\n",
       "      <td>1.00</td>\n",
       "    </tr>\n",
       "    <tr>\n",
       "      <th>PM_Credit card (automatic)</th>\n",
       "      <td>0.00</td>\n",
       "      <td>0.00</td>\n",
       "      <td>0.00</td>\n",
       "      <td>0.0</td>\n",
       "      <td>0.0</td>\n",
       "      <td>0.00</td>\n",
       "      <td>1.0</td>\n",
       "      <td>0.00</td>\n",
       "      <td>0.0</td>\n",
       "      <td>0.00</td>\n",
       "    </tr>\n",
       "    <tr>\n",
       "      <th>PM_Electronic check</th>\n",
       "      <td>1.00</td>\n",
       "      <td>0.00</td>\n",
       "      <td>0.00</td>\n",
       "      <td>0.0</td>\n",
       "      <td>1.0</td>\n",
       "      <td>1.00</td>\n",
       "      <td>0.0</td>\n",
       "      <td>0.00</td>\n",
       "      <td>1.0</td>\n",
       "      <td>0.00</td>\n",
       "    </tr>\n",
       "    <tr>\n",
       "      <th>PM_Mailed check</th>\n",
       "      <td>0.00</td>\n",
       "      <td>1.00</td>\n",
       "      <td>1.00</td>\n",
       "      <td>0.0</td>\n",
       "      <td>0.0</td>\n",
       "      <td>0.00</td>\n",
       "      <td>0.0</td>\n",
       "      <td>1.00</td>\n",
       "      <td>0.0</td>\n",
       "      <td>0.00</td>\n",
       "    </tr>\n",
       "    <tr>\n",
       "      <th>Churn</th>\n",
       "      <td>0.00</td>\n",
       "      <td>0.00</td>\n",
       "      <td>1.00</td>\n",
       "      <td>0.0</td>\n",
       "      <td>1.0</td>\n",
       "      <td>1.00</td>\n",
       "      <td>0.0</td>\n",
       "      <td>0.00</td>\n",
       "      <td>1.0</td>\n",
       "      <td>0.00</td>\n",
       "    </tr>\n",
       "  </tbody>\n",
       "</table>\n",
       "</div>"
      ],
      "text/plain": [
       "                                  0      1      2     3     4      5     6  \\\n",
       "SeniorCitizen                  0.00   0.00   0.00   0.0   0.0   0.00   0.0   \n",
       "tenure                         1.00  34.00   2.00  45.0   2.0   8.00  22.0   \n",
       "MonthlyCharges                29.85  56.95  53.85  42.3  70.7  99.65  89.1   \n",
       "Male                           0.00   1.00   1.00   1.0   0.0   0.00   1.0   \n",
       "Partner                        1.00   0.00   0.00   0.0   0.0   0.00   0.0   \n",
       "Dependents                     0.00   0.00   0.00   0.0   0.0   0.00   1.0   \n",
       "PhoneService                   0.00   1.00   1.00   0.0   1.0   1.00   1.0   \n",
       "MultiLines_No_Phone_Service    1.00   0.00   0.00   1.0   0.0   0.00   0.0   \n",
       "MultipleLines                  0.00   0.00   0.00   0.0   0.0   1.00   1.0   \n",
       "DSL                            1.00   1.00   1.00   1.0   0.0   0.00   0.0   \n",
       "FiberOptic                     0.00   0.00   0.00   0.0   1.0   1.00   1.0   \n",
       "NoInternetService              0.00   0.00   0.00   0.0   0.0   0.00   0.0   \n",
       "OnlineSecurity                 0.00   1.00   1.00   1.0   0.0   0.00   0.0   \n",
       "OnlineBackup                   1.00   0.00   1.00   0.0   0.0   0.00   1.0   \n",
       "DeviceProtection               0.00   1.00   0.00   1.0   0.0   1.00   0.0   \n",
       "TechSupport                    0.00   0.00   0.00   1.0   0.0   0.00   0.0   \n",
       "StreamingTV                    0.00   0.00   0.00   0.0   0.0   1.00   1.0   \n",
       "StreamingMovies                0.00   0.00   0.00   0.0   0.0   1.00   0.0   \n",
       "c_Month-to-month               1.00   0.00   1.00   0.0   1.0   1.00   1.0   \n",
       "c_One year                     0.00   1.00   0.00   1.0   0.0   0.00   0.0   \n",
       "c_Two year                     0.00   0.00   0.00   0.0   0.0   0.00   0.0   \n",
       "PaperlessBilling               1.00   0.00   1.00   0.0   1.0   1.00   1.0   \n",
       "PM_Bank transfer (automatic)   0.00   0.00   0.00   1.0   0.0   0.00   0.0   \n",
       "PM_Credit card (automatic)     0.00   0.00   0.00   0.0   0.0   0.00   1.0   \n",
       "PM_Electronic check            1.00   0.00   0.00   0.0   1.0   1.00   0.0   \n",
       "PM_Mailed check                0.00   1.00   1.00   0.0   0.0   0.00   0.0   \n",
       "Churn                          0.00   0.00   1.00   0.0   1.0   1.00   0.0   \n",
       "\n",
       "                                  7      8      9  \n",
       "SeniorCitizen                  0.00    0.0   0.00  \n",
       "tenure                        10.00   28.0  62.00  \n",
       "MonthlyCharges                29.75  104.8  56.15  \n",
       "Male                           0.00    0.0   1.00  \n",
       "Partner                        0.00    1.0   0.00  \n",
       "Dependents                     0.00    0.0   1.00  \n",
       "PhoneService                   0.00    1.0   1.00  \n",
       "MultiLines_No_Phone_Service    1.00    0.0   0.00  \n",
       "MultipleLines                  0.00    1.0   0.00  \n",
       "DSL                            1.00    0.0   1.00  \n",
       "FiberOptic                     0.00    1.0   0.00  \n",
       "NoInternetService              0.00    0.0   0.00  \n",
       "OnlineSecurity                 1.00    0.0   1.00  \n",
       "OnlineBackup                   0.00    0.0   1.00  \n",
       "DeviceProtection               0.00    1.0   0.00  \n",
       "TechSupport                    0.00    1.0   0.00  \n",
       "StreamingTV                    0.00    1.0   0.00  \n",
       "StreamingMovies                0.00    1.0   0.00  \n",
       "c_Month-to-month               1.00    1.0   0.00  \n",
       "c_One year                     0.00    0.0   1.00  \n",
       "c_Two year                     0.00    0.0   0.00  \n",
       "PaperlessBilling               0.00    1.0   0.00  \n",
       "PM_Bank transfer (automatic)   0.00    0.0   1.00  \n",
       "PM_Credit card (automatic)     0.00    0.0   0.00  \n",
       "PM_Electronic check            0.00    1.0   0.00  \n",
       "PM_Mailed check                1.00    0.0   0.00  \n",
       "Churn                          0.00    1.0   0.00  "
      ]
     },
     "execution_count": 20,
     "metadata": {},
     "output_type": "execute_result"
    }
   ],
   "source": [
    "FinalWorkingFile.head(10).T"
   ]
  },
  {
   "cell_type": "markdown",
   "metadata": {},
   "source": [
    "## Finding the correlations"
   ]
  },
  {
   "cell_type": "code",
   "execution_count": 21,
   "metadata": {},
   "outputs": [
    {
     "data": {
      "text/plain": [
       "<matplotlib.axes._subplots.AxesSubplot at 0x136d8ed0278>"
      ]
     },
     "execution_count": 21,
     "metadata": {},
     "output_type": "execute_result"
    },
    {
     "data": {
      "image/png": "[encoded data removed]",
      "text/plain": [
       "<matplotlib.figure.Figure at 0x136d8e8f7b8>"
      ]
     },
     "metadata": {},
     "output_type": "display_data"
    }
   ],
   "source": [
    "sb.heatmap(FinalWorkingFile.corr())"
   ]
  },
  {
   "cell_type": "markdown",
   "metadata": {},
   "source": [
    "**MultiLines_No_Phone_Service & NoInternetService are highly correlated with PhoneService and Monthly Charges Respectively. So, We will drop MultiLines_No_Phone_Service & NoInternetService.**"
   ]
  },
  {
   "cell_type": "code",
   "execution_count": 22,
   "metadata": {
    "collapsed": true
   },
   "outputs": [],
   "source": [
    "FinalWorkingFile.drop(['MultiLines_No_Phone_Service','NoInternetService'], axis=1, inplace=True)"
   ]
  },
  {
   "cell_type": "markdown",
   "metadata": {},
   "source": [
    "### Checking that your dataset size is sufficient"
   ]
  },
  {
   "cell_type": "markdown",
   "metadata": {},
   "source": [
    "We have 24 predictive features that remain. The rule of thumb is 100 records per feature... so we need to have at least 2400 records in this dataset. Let's check again"
   ]
  },
  {
   "cell_type": "code",
   "execution_count": 23,
   "metadata": {},
   "outputs": [
    {
     "name": "stdout",
     "output_type": "stream",
     "text": [
      "<class 'pandas.core.frame.DataFrame'>\n",
      "RangeIndex: 7043 entries, 0 to 7042\n",
      "Data columns (total 25 columns):\n",
      "SeniorCitizen                   7043 non-null int64\n",
      "tenure                          7043 non-null int64\n",
      "MonthlyCharges                  7043 non-null float64\n",
      "Male                            7043 non-null uint8\n",
      "Partner                         7043 non-null uint8\n",
      "Dependents                      7043 non-null uint8\n",
      "PhoneService                    7043 non-null uint8\n",
      "MultipleLines                   7043 non-null uint8\n",
      "DSL                             7043 non-null uint8\n",
      "FiberOptic                      7043 non-null uint8\n",
      "OnlineSecurity                  7043 non-null uint8\n",
      "OnlineBackup                    7043 non-null uint8\n",
      "DeviceProtection                7043 non-null uint8\n",
      "TechSupport                     7043 non-null uint8\n",
      "StreamingTV                     7043 non-null uint8\n",
      "StreamingMovies                 7043 non-null uint8\n",
      "c_Month-to-month                7043 non-null uint8\n",
      "c_One year                      7043 non-null uint8\n",
      "c_Two year                      7043 non-null uint8\n",
      "PaperlessBilling                7043 non-null uint8\n",
      "PM_Bank transfer (automatic)    7043 non-null uint8\n",
      "PM_Credit card (automatic)      7043 non-null uint8\n",
      "PM_Electronic check             7043 non-null uint8\n",
      "PM_Mailed check                 7043 non-null uint8\n",
      "Churn                           7043 non-null uint8\n",
      "dtypes: float64(1), int64(2), uint8(22)\n",
      "memory usage: 316.5 KB\n"
     ]
    }
   ],
   "source": [
    "FinalWorkingFile.info()"
   ]
  },
  {
   "cell_type": "markdown",
   "metadata": {},
   "source": [
    "Ok, we have 7043 records, it is fine"
   ]
  },
  {
   "cell_type": "markdown",
   "metadata": {},
   "source": [
    "#### Splitting X and Y and Creating Train and Test Data"
   ]
  },
  {
   "cell_type": "code",
   "execution_count": 108,
   "metadata": {
    "collapsed": true
   },
   "outputs": [],
   "source": [
    "X = FinalWorkingFile.loc[:,['SeniorCitizen','tenure','MonthlyCharges','Male','Partner','Dependents','PhoneService','MultipleLines','DSL','FiberOptic','OnlineSecurity','OnlineBackup','DeviceProtection','TechSupport','StreamingTV','StreamingMovies','c_Month-to-month','c_One year','c_Two year', 'PaperlessBilling','PM_Bank transfer (automatic)','PM_Credit card (automatic)','PM_Electronic check','PM_Mailed check']].values"
   ]
  },
  {
   "cell_type": "code",
   "execution_count": 82,
   "metadata": {
    "collapsed": true
   },
   "outputs": [],
   "source": [
    "Y = FinalWorkingFile['Churn'].values"
   ]
  },
  {
   "cell_type": "code",
   "execution_count": 83,
   "metadata": {
    "collapsed": true
   },
   "outputs": [],
   "source": [
    "X_train, X_test, y_train, y_test = train_test_split(X, Y, test_size = .3, random_state=25)"
   ]
  },
  {
   "cell_type": "markdown",
   "metadata": {},
   "source": [
    "### Deployning and Evaluating the Model"
   ]
  },
  {
   "cell_type": "code",
   "execution_count": 84,
   "metadata": {},
   "outputs": [
    {
     "data": {
      "text/plain": [
       "LogisticRegression(C=1.0, class_weight=None, dual=False, fit_intercept=True,\n",
       "          intercept_scaling=1, max_iter=100, multi_class='ovr', n_jobs=1,\n",
       "          penalty='l2', random_state=None, solver='liblinear', tol=0.0001,\n",
       "          verbose=0, warm_start=False)"
      ]
     },
     "execution_count": 84,
     "metadata": {},
     "output_type": "execute_result"
    }
   ],
   "source": [
    "LogReg = LogisticRegression()\n",
    "LogReg.fit(X_train, y_train)"
   ]
  },
  {
   "cell_type": "code",
   "execution_count": 85,
   "metadata": {
    "collapsed": true
   },
   "outputs": [],
   "source": [
    "y_pred = LogReg.predict(X_test)"
   ]
  },
  {
   "cell_type": "code",
   "execution_count": 87,
   "metadata": {
    "scrolled": true
   },
   "outputs": [
    {
     "data": {
      "text/plain": [
       "array([[1392,  150],\n",
       "       [ 264,  307]], dtype=int64)"
      ]
     },
     "execution_count": 87,
     "metadata": {},
     "output_type": "execute_result"
    }
   ],
   "source": [
    "from sklearn.metrics import confusion_matrix\n",
    "confusion_matrix = confusion_matrix(y_test, y_pred)\n",
    "confusion_matrix"
   ]
  },
  {
   "cell_type": "code",
   "execution_count": 88,
   "metadata": {
    "scrolled": true
   },
   "outputs": [
    {
     "name": "stdout",
     "output_type": "stream",
     "text": [
      "             precision    recall  f1-score   support\n",
      "\n",
      "          0       0.84      0.90      0.87      1542\n",
      "          1       0.67      0.54      0.60       571\n",
      "\n",
      "avg / total       0.79      0.80      0.80      2113\n",
      "\n"
     ]
    }
   ],
   "source": [
    "print(classification_report(y_test, y_pred))"
   ]
  },
  {
   "cell_type": "code",
   "execution_count": 89,
   "metadata": {
    "collapsed": true
   },
   "outputs": [],
   "source": [
    "TP = confusion_matrix[0][0]\n",
    "FP = confusion_matrix[0][1]\n",
    "FN = confusion_matrix[1][0]\n",
    "TN = confusion_matrix[1][1]"
   ]
  },
  {
   "cell_type": "code",
   "execution_count": 90,
   "metadata": {
    "collapsed": true
   },
   "outputs": [],
   "source": [
    "TPR_True_Positive_Rate = TP/(TP+FN)"
   ]
  },
  {
   "cell_type": "code",
   "execution_count": 91,
   "metadata": {},
   "outputs": [
    {
     "data": {
      "text/plain": [
       "0.84057971014492749"
      ]
     },
     "execution_count": 91,
     "metadata": {},
     "output_type": "execute_result"
    }
   ],
   "source": [
    "TPR_True_Positive_Rate"
   ]
  },
  {
   "cell_type": "code",
   "execution_count": 92,
   "metadata": {
    "collapsed": true
   },
   "outputs": [],
   "source": [
    "FPR_False_positive_rate = FP/(FP+TN)"
   ]
  },
  {
   "cell_type": "code",
   "execution_count": 93,
   "metadata": {},
   "outputs": [
    {
     "data": {
      "text/plain": [
       "0.32822757111597373"
      ]
     },
     "execution_count": 93,
     "metadata": {},
     "output_type": "execute_result"
    }
   ],
   "source": [
    "FPR_False_positive_rate"
   ]
  },
  {
   "cell_type": "code",
   "execution_count": 94,
   "metadata": {
    "collapsed": true
   },
   "outputs": [],
   "source": [
    "Accuracy = (TP+TN)/(TP+TN+FP+FN)"
   ]
  },
  {
   "cell_type": "code",
   "execution_count": 95,
   "metadata": {},
   "outputs": [
    {
     "data": {
      "text/plain": [
       "0.80407004259346904"
      ]
     },
     "execution_count": 95,
     "metadata": {},
     "output_type": "execute_result"
    }
   ],
   "source": [
    "Accuracy"
   ]
  },
  {
   "cell_type": "markdown",
   "metadata": {},
   "source": [
    "## ROC Curve"
   ]
  },
  {
   "cell_type": "code",
   "execution_count": 96,
   "metadata": {},
   "outputs": [],
   "source": [
    "preds = LogReg.predict_proba(X_test)[:,1]"
   ]
  },
  {
   "cell_type": "code",
   "execution_count": 97,
   "metadata": {
    "collapsed": true
   },
   "outputs": [],
   "source": [
    "fpr,tpr, _ = metrics.roc_curve(y_test, preds)"
   ]
  },
  {
   "cell_type": "code",
   "execution_count": 98,
   "metadata": {
    "collapsed": true
   },
   "outputs": [],
   "source": [
    "rocDf = pd.DataFrame(dict(fpr=fpr,tpr=tpr))"
   ]
  },
  {
   "cell_type": "code",
   "execution_count": 99,
   "metadata": {
    "collapsed": true
   },
   "outputs": [],
   "source": [
    "_auc = metrics.auc(fpr,tpr)"
   ]
  },
  {
   "cell_type": "code",
   "execution_count": 100,
   "metadata": {},
   "outputs": [
    {
     "data": {
      "text/plain": [
       "0.85228090977441895"
      ]
     },
     "execution_count": 100,
     "metadata": {},
     "output_type": "execute_result"
    }
   ],
   "source": [
    "_auc"
   ]
  },
  {
   "cell_type": "code",
   "execution_count": 101,
   "metadata": {},
   "outputs": [
    {
     "data": {
      "image/png": "[encoded data removed]",
      "text/plain": [
       "<matplotlib.figure.Figure at 0x136d97d6978>"
      ]
     },
     "metadata": {},
     "output_type": "display_data"
    }
   ],
   "source": [
    "plt.figure()\n",
    "plt.plot(fpr,tpr,color='darkorange', lw=2,label='ROC curve (area = %0.2f)' % _auc)\n",
    "plt.plot([0,1],[0,1],color='navy', lw=2, linestyle='--')\n",
    "plt.xlim([0.0, 1.0])\n",
    "plt.ylim([0.0, 1.05])\n",
    "plt.xlabel('False Positive Rate')\n",
    "plt.ylabel('True Positive Rate')\n",
    "plt.title('Receiver operating characteristic with AUC of %0.2f' % _auc)\n",
    "plt.legend(loc=\"lower right\")\n",
    "plt.show()"
   ]
  },
  {
   "cell_type": "markdown",
   "metadata": {},
   "source": [
    "## Conclusion"
   ]
  },
  {
   "cell_type": "markdown",
   "metadata": {},
   "source": [
    "#### ** The Model Prediction accuracy is 80.4% with very optimistic AUC of .85"
   ]
  },
  {
   "cell_type": "markdown",
   "metadata": {},
   "source": []
  }
 ],
 "metadata": {
  "kernelspec": {
   "display_name": "Python 3",
   "language": "python",
   "name": "python3"
  },
  "language_info": {
   "codemirror_mode": {
    "name": "ipython",
    "version": 3
   },
   "file_extension": ".py",
   "mimetype": "text/x-python",
   "name": "python",
   "nbconvert_exporter": "python",
   "pygments_lexer": "ipython3",
   "version": "3.6.2"
  }
 },
 "nbformat": 4,
 "nbformat_minor": 2
}
