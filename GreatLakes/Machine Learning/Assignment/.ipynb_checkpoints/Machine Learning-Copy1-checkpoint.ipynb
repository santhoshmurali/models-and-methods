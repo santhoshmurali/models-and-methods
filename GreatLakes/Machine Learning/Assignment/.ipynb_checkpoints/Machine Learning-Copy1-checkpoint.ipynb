{
 "cells": [
  {
   "cell_type": "markdown",
   "metadata": {},
   "source": [
    "## Submission Deadline- 8th October'17, 11:00 PM.\n",
    "\n",
    "### Assignment Topic: Making Election Predictions  \n",
    "\n",
    "If during the early part of 2014 you had to predict the upcoming Lok Sabha Elections, what would be your predictive model?  (Say you wanted to predict the election outcomes six months before the elections were held)\n",
    "\n",
    "#### To solve this problem…here are some possible stuff you can think of….\n",
    "\n",
    "* Identify data sources. This will depend upon what factors you think can determine winning elections\n",
    "* Identifying the right technique/techniques to model that data\n",
    "* Make predictions, validate and update your model.\n",
    "\n",
    "#### Submission details:\n",
    "\n",
    "##### Part 1: Identify the data sources, the variables of interest. Process the data and create a ‘clean’ data file(s).\n",
    "\n",
    "Marks distribution: 20.\n",
    "\n",
    "** What needs to be submitted: **\n",
    "* Text file explaining what variables you are choosing and why, the source codes, explanation etc\n",
    "* The cleaned data file (s)\n",
    "* Relevant r codes if any\n",
    "Marks will be awarded based on what factors you think are important in model building, what data sources you identify and finally how the clean data looks. The clean data has to be submitted as CSV (files).\n",
    "\n",
    "##### Part 2: Develop the model,present a predictive model.\n",
    "Marks distribution: 20\n",
    "\n",
    "** What needs to be submitted: **\n",
    "* Text file explaining the model (s), why did you do what you did, model performance et\n",
    "* Relevant R codes if any\n",
    "\n",
    "\n",
    "\n",
    "## Data Sources are \n",
    "### http://eci.nic.in/eci_main1/ElectionStatistics.aspx\n",
    "The above data source will help us in getting candidates electoral inforormation. As the Question asks about \"redict the upcoming Lok Sabha Elections\" and does not specify id it is at the particular  candidate level or party level. We will assume it as a candidate level and also assume that Candidates are anaounced for by all parties in all constituency.\n",
    "\n",
    "** We will take the winning information of 2009 and use as one of the predeicting parameter for 2014. **\n",
    "\n",
    "#### 2009 data : http://eci.nic.in/eci_main/StatisticalReports/candidatewise/GE2009.xls [ Sheets : electors, Cand_Wise ]\n",
    "#### 2014 data : http://eci.nic.in/eci_main/StatisticalReports/candidatewise/LS-2014_ElectionResult.xls [Sheets : electors, Cand_Wise ]\n",
    "\n",
    "#### https://raw.githubusercontent.com/datameet/india-election-data/master/affidavits/myneta.2014.csv\n",
    "Criminal Cases,Education,ID,Party,Sno,Total Assets,Total Liabilities,Year,ST_CODE,PC_CODE\n",
    "\n",
    "#### Source Data"
   ]
  },
  {
   "cell_type": "code",
   "execution_count": 1,
   "metadata": {
    "collapsed": true
   },
   "outputs": [],
   "source": [
    "library(stringr)\n",
    "library(MASS)\n",
    "library(stringdist)"
   ]
  },
  {
   "cell_type": "code",
   "execution_count": 2,
   "metadata": {},
   "outputs": [
    {
     "data": {
      "text/html": [
       "'C:/Home/Work/GreatLakes/Machine Learning/Assignment'"
      ],
      "text/latex": [
       "'C:/Home/Work/GreatLakes/Machine Learning/Assignment'"
      ],
      "text/markdown": [
       "'C:/Home/Work/GreatLakes/Machine Learning/Assignment'"
      ],
      "text/plain": [
       "[1] \"C:/Home/Work/GreatLakes/Machine Learning/Assignment\""
      ]
     },
     "metadata": {},
     "output_type": "display_data"
    }
   ],
   "source": [
    "getwd()\n",
    "setwd(\"C:/Home/Work/GreatLakes/Machine Learning/Assignment\")\n",
    "#setwd(dir = \"D:/\")"
   ]
  },
  {
   "cell_type": "code",
   "execution_count": 3,
   "metadata": {
    "collapsed": true
   },
   "outputs": [],
   "source": [
    "LS2009Electors = read.csv(file = \"LS2009Electors.csv\", header = T, sep = \",\")\n",
    "LS2009Candidates = read.csv(file = \"LS2009Candidate.csv\", header = T, sep = \",\")\n",
    "LS2014Electors = read.csv(file = \"LS2014Electors.csv\", header = T, sep = \",\")\n",
    "LS2014Candidates = read.csv(file = \"LS2014Candidate.csv\", header = T, sep = \",\")\n",
    "Candidate2014Declaration = read.csv(file = \"MyNeta.csv\", header = T, sep = \",\")"
   ]
  },
  {
   "cell_type": "code",
   "execution_count": 4,
   "metadata": {
    "collapsed": true
   },
   "outputs": [],
   "source": [
    "names(LS2009Electors)[1]='STATE.CODE'\n",
    "names(LS2014Electors)[1] = 'STATE.CODE'"
   ]
  },
  {
   "cell_type": "code",
   "execution_count": 5,
   "metadata": {},
   "outputs": [
    {
     "data": {
      "text/html": [
       "<ol class=list-inline>\n",
       "\t<li>Andhra Pradesh</li>\n",
       "\t<li>Arunachal Pradesh</li>\n",
       "\t<li>Assam</li>\n",
       "\t<li>Bihar</li>\n",
       "\t<li>Goa</li>\n",
       "\t<li>Gujarat</li>\n",
       "\t<li>Haryana</li>\n",
       "\t<li>Himachal Pradesh</li>\n",
       "\t<li>Jammu &amp; Kashmir</li>\n",
       "\t<li>Karnataka</li>\n",
       "\t<li>Kerala</li>\n",
       "\t<li>Madhya Pradesh</li>\n",
       "\t<li>Maharashtra</li>\n",
       "\t<li>Manipur</li>\n",
       "\t<li>Meghalaya</li>\n",
       "\t<li>Mizoram</li>\n",
       "\t<li>Nagaland</li>\n",
       "\t<li>Orissa</li>\n",
       "\t<li>Punjab</li>\n",
       "\t<li>Rajasthan</li>\n",
       "\t<li>Sikkim</li>\n",
       "\t<li>Tamil Nadu</li>\n",
       "\t<li>Tripura</li>\n",
       "\t<li>Uttar Pradesh</li>\n",
       "\t<li>West Bengal</li>\n",
       "\t<li>Chattisgarh</li>\n",
       "\t<li>Jharkhand</li>\n",
       "\t<li>Uttarakhand</li>\n",
       "\t<li>Andaman &amp; Nicobar Islands</li>\n",
       "\t<li>Chandigarh</li>\n",
       "\t<li>Dadra &amp; Nagar Haveli</li>\n",
       "\t<li>Daman &amp; Diu</li>\n",
       "\t<li>NCT OF Delhi</li>\n",
       "\t<li>Lakshadweep</li>\n",
       "\t<li>Puducherry</li>\n",
       "</ol>\n"
      ],
      "text/latex": [
       "\\begin{enumerate*}\n",
       "\\item Andhra Pradesh\n",
       "\\item Arunachal Pradesh\n",
       "\\item Assam\n",
       "\\item Bihar\n",
       "\\item Goa\n",
       "\\item Gujarat\n",
       "\\item Haryana\n",
       "\\item Himachal Pradesh\n",
       "\\item Jammu \\& Kashmir\n",
       "\\item Karnataka\n",
       "\\item Kerala\n",
       "\\item Madhya Pradesh\n",
       "\\item Maharashtra\n",
       "\\item Manipur\n",
       "\\item Meghalaya\n",
       "\\item Mizoram\n",
       "\\item Nagaland\n",
       "\\item Orissa\n",
       "\\item Punjab\n",
       "\\item Rajasthan\n",
       "\\item Sikkim\n",
       "\\item Tamil Nadu\n",
       "\\item Tripura\n",
       "\\item Uttar Pradesh\n",
       "\\item West Bengal\n",
       "\\item Chattisgarh\n",
       "\\item Jharkhand\n",
       "\\item Uttarakhand\n",
       "\\item Andaman \\& Nicobar Islands\n",
       "\\item Chandigarh\n",
       "\\item Dadra \\& Nagar Haveli\n",
       "\\item Daman \\& Diu\n",
       "\\item NCT OF Delhi\n",
       "\\item Lakshadweep\n",
       "\\item Puducherry\n",
       "\\end{enumerate*}\n"
      ],
      "text/markdown": [
       "1. Andhra Pradesh\n",
       "2. Arunachal Pradesh\n",
       "3. Assam\n",
       "4. Bihar\n",
       "5. Goa\n",
       "6. Gujarat\n",
       "7. Haryana\n",
       "8. Himachal Pradesh\n",
       "9. Jammu &amp; Kashmir\n",
       "10. Karnataka\n",
       "11. Kerala\n",
       "12. Madhya Pradesh\n",
       "13. Maharashtra\n",
       "14. Manipur\n",
       "15. Meghalaya\n",
       "16. Mizoram\n",
       "17. Nagaland\n",
       "18. Orissa\n",
       "19. Punjab\n",
       "20. Rajasthan\n",
       "21. Sikkim\n",
       "22. Tamil Nadu\n",
       "23. Tripura\n",
       "24. Uttar Pradesh\n",
       "25. West Bengal\n",
       "26. Chattisgarh\n",
       "27. Jharkhand\n",
       "28. Uttarakhand\n",
       "29. Andaman &amp; Nicobar Islands\n",
       "30. Chandigarh\n",
       "31. Dadra &amp; Nagar Haveli\n",
       "32. Daman &amp; Diu\n",
       "33. NCT OF Delhi\n",
       "34. Lakshadweep\n",
       "35. Puducherry\n",
       "\n",
       "\n"
      ],
      "text/plain": [
       " [1] Andhra Pradesh            Arunachal Pradesh        \n",
       " [3] Assam                     Bihar                    \n",
       " [5] Goa                       Gujarat                  \n",
       " [7] Haryana                   Himachal Pradesh         \n",
       " [9] Jammu & Kashmir           Karnataka                \n",
       "[11] Kerala                    Madhya Pradesh           \n",
       "[13] Maharashtra               Manipur                  \n",
       "[15] Meghalaya                 Mizoram                  \n",
       "[17] Nagaland                  Orissa                   \n",
       "[19] Punjab                    Rajasthan                \n",
       "[21] Sikkim                    Tamil Nadu               \n",
       "[23] Tripura                   Uttar Pradesh            \n",
       "[25] West Bengal               Chattisgarh              \n",
       "[27] Jharkhand                 Uttarakhand              \n",
       "[29] Andaman & Nicobar Islands Chandigarh               \n",
       "[31] Dadra & Nagar Haveli      Daman & Diu              \n",
       "[33] NCT OF Delhi              Lakshadweep              \n",
       "[35] Puducherry               \n",
       "35 Levels: Andaman & Nicobar Islands Andhra Pradesh Arunachal Pradesh ... West Bengal"
      ]
     },
     "metadata": {},
     "output_type": "display_data"
    }
   ],
   "source": [
    "unique(LS2009Electors$STATE)"
   ]
  },
  {
   "cell_type": "markdown",
   "metadata": {},
   "source": [
    "#### Before proceeding any further, it is always better to keep the back-up of originial data."
   ]
  },
  {
   "cell_type": "code",
   "execution_count": 6,
   "metadata": {
    "collapsed": true
   },
   "outputs": [],
   "source": [
    "SRC_LS2009Electors = LS2009Electors\n",
    "SRC_LS2009Candidates = LS2009Candidates\n",
    "SRC_LS2014Electors = LS2014Electors\n",
    "SRC_LS2014Candidates = LS2014Candidates\n",
    "SRC_Candidate2014Declaration = Candidate2014Declaration"
   ]
  },
  {
   "cell_type": "markdown",
   "metadata": {},
   "source": [
    "##### Dimention Check"
   ]
  },
  {
   "cell_type": "code",
   "execution_count": 7,
   "metadata": {},
   "outputs": [
    {
     "data": {
      "text/html": [
       "<ol class=list-inline>\n",
       "\t<li>543</li>\n",
       "\t<li>8</li>\n",
       "</ol>\n"
      ],
      "text/latex": [
       "\\begin{enumerate*}\n",
       "\\item 543\n",
       "\\item 8\n",
       "\\end{enumerate*}\n"
      ],
      "text/markdown": [
       "1. 543\n",
       "2. 8\n",
       "\n",
       "\n"
      ],
      "text/plain": [
       "[1] 543   8"
      ]
     },
     "metadata": {},
     "output_type": "display_data"
    }
   ],
   "source": [
    "dim(LS2009Electors)"
   ]
  },
  {
   "cell_type": "code",
   "execution_count": 8,
   "metadata": {},
   "outputs": [
    {
     "data": {
      "text/html": [
       "<ol class=list-inline>\n",
       "\t<li>543</li>\n",
       "\t<li>7</li>\n",
       "</ol>\n"
      ],
      "text/latex": [
       "\\begin{enumerate*}\n",
       "\\item 543\n",
       "\\item 7\n",
       "\\end{enumerate*}\n"
      ],
      "text/markdown": [
       "1. 543\n",
       "2. 7\n",
       "\n",
       "\n"
      ],
      "text/plain": [
       "[1] 543   7"
      ]
     },
     "metadata": {},
     "output_type": "display_data"
    }
   ],
   "source": [
    "dim(LS2014Electors)"
   ]
  },
  {
   "cell_type": "code",
   "execution_count": 9,
   "metadata": {},
   "outputs": [
    {
     "data": {
      "text/html": [
       "<ol class=list-inline>\n",
       "\t<li>8070</li>\n",
       "\t<li>14</li>\n",
       "</ol>\n"
      ],
      "text/latex": [
       "\\begin{enumerate*}\n",
       "\\item 8070\n",
       "\\item 14\n",
       "\\end{enumerate*}\n"
      ],
      "text/markdown": [
       "1. 8070\n",
       "2. 14\n",
       "\n",
       "\n"
      ],
      "text/plain": [
       "[1] 8070   14"
      ]
     },
     "metadata": {},
     "output_type": "display_data"
    }
   ],
   "source": [
    "dim(LS2009Candidates)"
   ]
  },
  {
   "cell_type": "code",
   "execution_count": 10,
   "metadata": {},
   "outputs": [
    {
     "data": {
      "text/html": [
       "<ol class=list-inline>\n",
       "\t<li>8794</li>\n",
       "\t<li>14</li>\n",
       "</ol>\n"
      ],
      "text/latex": [
       "\\begin{enumerate*}\n",
       "\\item 8794\n",
       "\\item 14\n",
       "\\end{enumerate*}\n"
      ],
      "text/markdown": [
       "1. 8794\n",
       "2. 14\n",
       "\n",
       "\n"
      ],
      "text/plain": [
       "[1] 8794   14"
      ]
     },
     "metadata": {},
     "output_type": "display_data"
    }
   ],
   "source": [
    "dim(LS2014Candidates)"
   ]
  },
  {
   "cell_type": "code",
   "execution_count": 11,
   "metadata": {},
   "outputs": [
    {
     "data": {
      "text/html": [
       "<ol class=list-inline>\n",
       "\t<li>8163</li>\n",
       "\t<li>12</li>\n",
       "</ol>\n"
      ],
      "text/latex": [
       "\\begin{enumerate*}\n",
       "\\item 8163\n",
       "\\item 12\n",
       "\\end{enumerate*}\n"
      ],
      "text/markdown": [
       "1. 8163\n",
       "2. 12\n",
       "\n",
       "\n"
      ],
      "text/plain": [
       "[1] 8163   12"
      ]
     },
     "metadata": {},
     "output_type": "display_data"
    }
   ],
   "source": [
    "dim(Candidate2014Declaration)"
   ]
  },
  {
   "cell_type": "markdown",
   "metadata": {},
   "source": [
    "###### Observations : in 2009 thre are 8 variables for electoral information, but we have only 7 variables in 2014."
   ]
  },
  {
   "cell_type": "markdown",
   "metadata": {},
   "source": [
    "## Data Cleaning and Data Preparation"
   ]
  },
  {
   "cell_type": "markdown",
   "metadata": {},
   "source": [
    "#### first level Data cleaning - Converting the STATE and PARLIAMENTARY.CONSTITUENCY and also trimming white spaces in electoral data"
   ]
  },
  {
   "cell_type": "markdown",
   "metadata": {},
   "source": [
    "### LS2009Electors"
   ]
  },
  {
   "cell_type": "code",
   "execution_count": 12,
   "metadata": {},
   "outputs": [
    {
     "name": "stdout",
     "output_type": "stream",
     "text": [
      "'data.frame':\t543 obs. of  8 variables:\n",
      " $ STATE.CODE                : Factor w/ 35 levels \"S01\",\"S02\",\"S03\",..: 1 1 1 1 1 1 1 1 1 1 ...\n",
      " $ STATE                     : Factor w/ 35 levels \"Andaman & Nicobar Islands\",..: 2 2 2 2 2 2 2 2 2 2 ...\n",
      " $ PC.NO                     : int  1 2 3 4 5 6 7 8 9 10 ...\n",
      " $ PARLIAMENTARY.CONSTITUENCY: Factor w/ 540 levels \"Adilabad\",\"Agra\",..: 1 405 272 385 540 343 331 459 218 121 ...\n",
      " $ Total.voters              : int  864165 905332 990646 891508 1017372 1061993 1206223 865357 732212 1086510 ...\n",
      " $ Total_Electors            : int  1131211 1315642 1496211 1333271 1359566 1389721 2343050 1574818 1393242 1681664 ...\n",
      " $ TOT_CONTESTANT            : int  9 15 15 12 10 9 19 23 23 15 ...\n",
      " $ POLL.PERCENTAGE           : num  76.4 68.8 66.2 66.9 74.8 ...\n"
     ]
    }
   ],
   "source": [
    "str(LS2009Electors)"
   ]
  },
  {
   "cell_type": "code",
   "execution_count": 13,
   "metadata": {
    "collapsed": true
   },
   "outputs": [],
   "source": [
    "LS2009Electors$STATE = trimws(tolower(LS2009Electors$STATE))\n",
    "LS2009Electors$PARLIAMENTARY.CONSTITUENCY = trimws(tolower(LS2009Electors$PARLIAMENTARY.CONSTITUENCY))\n",
    "cleaned.PARLIAMENTARY.CONSTITUENCY = sapply(LS2009Electors$PARLIAMENTARY.CONSTITUENCY, function(x) gsub('[ ]{2,}',' ',x))\n",
    "LS2009Electors$PARLIAMENTARY.CONSTITUENCY = cleaned.PARLIAMENTARY.CONSTITUENCY"
   ]
  },
  {
   "cell_type": "markdown",
   "metadata": {},
   "source": [
    "##### Sort the Data"
   ]
  },
  {
   "cell_type": "code",
   "execution_count": 14,
   "metadata": {
    "collapsed": true
   },
   "outputs": [],
   "source": [
    "LS2009Electors = LS2009Electors[with(LS2009Electors, order(STATE.CODE,PC.NO)),]"
   ]
  },
  {
   "cell_type": "markdown",
   "metadata": {},
   "source": [
    "### LS2014Electors"
   ]
  },
  {
   "cell_type": "code",
   "execution_count": 15,
   "metadata": {},
   "outputs": [
    {
     "name": "stdout",
     "output_type": "stream",
     "text": [
      "'data.frame':\t543 obs. of  7 variables:\n",
      " $ STATE.CODE                : Factor w/ 35 levels \"S01\",\"S02\",\"S03\",..: 1 1 1 1 1 1 1 1 1 1 ...\n",
      " $ STATE                     : Factor w/ 35 levels \"Andaman & Nicobar Islands\",..: 2 2 2 2 2 2 2 2 2 2 ...\n",
      " $ PC.NO                     : int  1 2 3 4 5 6 7 8 9 10 ...\n",
      " $ PARLIAMENTARY.CONSTITUENCY: Factor w/ 540 levels \"Adilabad \",\"Agra\",..: 1 405 272 385 540 343 331 459 218 121 ...\n",
      " $ Total.voters              : int  1055593 1025194 1127225 1034032 1099784 1193548 1624859 1004763 971770 1322312 ...\n",
      " $ Total_Electors            : int  1386282 1425355 1550810 1496193 1445354 1536166 3183083 1893741 1823217 2185164 ...\n",
      " $ POLL.PERCENTAGE           : num  76.2 71.9 72.7 69.1 76.1 ...\n"
     ]
    }
   ],
   "source": [
    "str(LS2014Electors)"
   ]
  },
  {
   "cell_type": "code",
   "execution_count": 16,
   "metadata": {
    "collapsed": true
   },
   "outputs": [],
   "source": [
    "LS2014Electors$STATE = trimws(tolower(LS2014Electors$STATE))\n",
    "LS2014Electors$PARLIAMENTARY.CONSTITUENCY = trimws(tolower(LS2014Electors$PARLIAMENTARY.CONSTITUENCY))\n",
    "cleaned.PARLIAMENTARY.CONSTITUENCY = sapply(LS2014Electors$PARLIAMENTARY.CONSTITUENCY, function(x) gsub('[ ]{2,}',' ',x))\n",
    "LS2014Electors$PARLIAMENTARY.CONSTITUENCY = cleaned.PARLIAMENTARY.CONSTITUENCY\n"
   ]
  },
  {
   "cell_type": "markdown",
   "metadata": {},
   "source": [
    "##### Sort the Data"
   ]
  },
  {
   "cell_type": "code",
   "execution_count": 17,
   "metadata": {
    "collapsed": true
   },
   "outputs": [],
   "source": [
    "LS2014Electors = LS2014Electors[with(LS2014Electors, order(LS2014Electors$STATE.CODE,LS2014Electors$PC.NO)),]"
   ]
  },
  {
   "cell_type": "markdown",
   "metadata": {},
   "source": [
    "### Our Next step will be Joining the 2014 Electors with 2009 and capture previous time's Election result and study if it has an influence"
   ]
  },
  {
   "cell_type": "code",
   "execution_count": 18,
   "metadata": {
    "collapsed": true
   },
   "outputs": [],
   "source": [
    "temp2009 = LS2009Electors\n",
    "temp2014 = LS2014Electors\n",
    "names(temp2009) = c(\"STATE.CODE_2009\",\"STATE_2009\",\"PC.NO_2009\",\"PARLIAMENTARY.CONSTITUENCY_2009\",\"Total.voters_2009\",\"Total_Electors_2009\",\"TOT_CONTESTANT_2009\",\"POLL.PERCENTAGE_2009\")\n",
    "names(temp2014) = c(\"STATE.CODE_2014\",\"STATE_2014\",\"PC.NO_2014\",\"PARLIAMENTARY.CONSTITUENCY_2014\",\"Total.voters_2014\",\"Total_Electors_2014\",\"POLL.PERCENTAGE_2014\")\n",
    "temp = merge(x=temp2009,y=temp2014,by.x=c(\"STATE.CODE_2009\",\"PC.NO_2009\",\"PARLIAMENTARY.CONSTITUENCY_2009\"), by.y = c(\"STATE.CODE_2014\",\"PC.NO_2014\",\"PARLIAMENTARY.CONSTITUENCY_2014\"))"
   ]
  },
  {
   "cell_type": "markdown",
   "metadata": {},
   "source": [
    "** We will find list of Constituency which has inconsistent naming convention between 2009 and 2014. and we match 2014 to match 2009.. This only for Electoral data for now and will do the same for Candidates. **"
   ]
  },
  {
   "cell_type": "code",
   "execution_count": 19,
   "metadata": {},
   "outputs": [
    {
     "name": "stdout",
     "output_type": "stream",
     "text": [
      "  t_rn t_stc t_pcn             t_pc09              t_pc14\n",
      "1   75     4    17          gopalganj      gopalganj (sc)\n",
      "2   79     4    21            hajipur        hajipur (sc)\n",
      "3   81     4    23         samastipur     samastipur (sc)\n",
      "4   92     4    34            sasaram        sasaram (sc)\n",
      "5   96     4    38               gaya           gaya (sc)\n",
      "6   98     4    40              jamui          jamui (sc)\n",
      "7  308    19    10           ferozpur            firozpur\n",
      "8  391    24    13 gautam buddh nagar gautam buddha nagar\n"
     ]
    }
   ],
   "source": [
    "t_stc = c()\n",
    "t_pcn = c()\n",
    "t_pc09 = c()\n",
    "t_pc14 = c()\n",
    "t_rn = c()\n",
    "for(ii in 1:nrow(temp2014))\n",
    "{\n",
    "  if(!(temp2014$PARLIAMENTARY.CONSTITUENCY_2014[ii] %in% temp$PARLIAMENTARY.CONSTITUENCY_2009))\n",
    "  {\n",
    "    t_rn = append(t_rn, ii)\n",
    "    t_stc = append(t_stc,temp2014$STATE.CODE_2014[ii])\n",
    "    t_pcn = append(t_pcn,temp2014$PC.NO_2014[ii])\n",
    "    t_pc09 = append(t_pc09,temp2009$PARLIAMENTARY.CONSTITUENCY_2009[ii])\n",
    "    t_pc14 = append(t_pc14,temp2014$PARLIAMENTARY.CONSTITUENCY_2014[ii])\n",
    "    \n",
    "  }\n",
    "}\n",
    "mismatching_pc_elect_09_14 = data.frame(t_rn,t_stc, t_pcn, t_pc09, t_pc14)\n",
    "print(mismatching_pc_elect_09_14)"
   ]
  },
  {
   "cell_type": "markdown",
   "metadata": {},
   "source": [
    "##### There are no mismatches in PARLIAMENTARY.CONSTITUENCY name between 2009 and 2014"
   ]
  },
  {
   "cell_type": "markdown",
   "metadata": {},
   "source": [
    "###### If it finds mismatches, here is the way to fix it"
   ]
  },
  {
   "cell_type": "code",
   "execution_count": 20,
   "metadata": {
    "collapsed": true
   },
   "outputs": [],
   "source": [
    "for(jj in 1:nrow(mismatching_pc_elect_09_14))\n",
    "{\n",
    "  LS2009Electors$PARLIAMENTARY.CONSTITUENCY[mismatching_pc_elect_09_14$t_rn[jj]] = LS2014Electors$PARLIAMENTARY.CONSTITUENCY[mismatching_pc_elect_09_14$t_rn[jj]]\n",
    "}\n"
   ]
  },
  {
   "cell_type": "markdown",
   "metadata": {},
   "source": [
    "### Electorals Merging"
   ]
  },
  {
   "cell_type": "code",
   "execution_count": 21,
   "metadata": {
    "collapsed": true
   },
   "outputs": [],
   "source": [
    "temp2009 = LS2009Electors\n",
    "temp2014 = LS2014Electors\n",
    "names(temp2009) = c(\"STATE.CODE_2009\",\"STATE_2009\",\"PC.NO_2009\",\"PARLIAMENTARY.CONSTITUENCY_2009\",\"Total.voters_2009\",\"Total_Electors_2009\",\"TOT_CONTESTANT_2009\",\"POLL.PERCENTAGE_2009\")\n",
    "names(temp2014) = c(\"STATE.CODE_2014\",\"STATE_2014\",\"PC.NO_2014\",\"PARLIAMENTARY.CONSTITUENCY_2014\",\"Total.voters_2014\",\"Total_Electors_2014\",\"POLL.PERCENTAGE_2014\")\n",
    "temp = merge(y=temp2009,x=temp2014,by.y=c(\"STATE.CODE_2009\",\"PC.NO_2009\",\"PARLIAMENTARY.CONSTITUENCY_2009\"), by.x = c(\"STATE.CODE_2014\",\"PC.NO_2014\",\"PARLIAMENTARY.CONSTITUENCY_2014\"), all = T)"
   ]
  },
  {
   "cell_type": "code",
   "execution_count": 22,
   "metadata": {},
   "outputs": [
    {
     "data": {
      "text/html": [
       "<ol class=list-inline>\n",
       "\t<li>'STATE.CODE_2014'</li>\n",
       "\t<li>'PC.NO_2014'</li>\n",
       "\t<li>'PARLIAMENTARY.CONSTITUENCY_2014'</li>\n",
       "\t<li>'STATE_2014'</li>\n",
       "\t<li>'Total.voters_2014'</li>\n",
       "\t<li>'Total_Electors_2014'</li>\n",
       "\t<li>'POLL.PERCENTAGE_2014'</li>\n",
       "\t<li>'STATE_2009'</li>\n",
       "\t<li>'Total.voters_2009'</li>\n",
       "\t<li>'Total_Electors_2009'</li>\n",
       "\t<li>'TOT_CONTESTANT_2009'</li>\n",
       "\t<li>'POLL.PERCENTAGE_2009'</li>\n",
       "</ol>\n"
      ],
      "text/latex": [
       "\\begin{enumerate*}\n",
       "\\item 'STATE.CODE\\_2014'\n",
       "\\item 'PC.NO\\_2014'\n",
       "\\item 'PARLIAMENTARY.CONSTITUENCY\\_2014'\n",
       "\\item 'STATE\\_2014'\n",
       "\\item 'Total.voters\\_2014'\n",
       "\\item 'Total\\_Electors\\_2014'\n",
       "\\item 'POLL.PERCENTAGE\\_2014'\n",
       "\\item 'STATE\\_2009'\n",
       "\\item 'Total.voters\\_2009'\n",
       "\\item 'Total\\_Electors\\_2009'\n",
       "\\item 'TOT\\_CONTESTANT\\_2009'\n",
       "\\item 'POLL.PERCENTAGE\\_2009'\n",
       "\\end{enumerate*}\n"
      ],
      "text/markdown": [
       "1. 'STATE.CODE_2014'\n",
       "2. 'PC.NO_2014'\n",
       "3. 'PARLIAMENTARY.CONSTITUENCY_2014'\n",
       "4. 'STATE_2014'\n",
       "5. 'Total.voters_2014'\n",
       "6. 'Total_Electors_2014'\n",
       "7. 'POLL.PERCENTAGE_2014'\n",
       "8. 'STATE_2009'\n",
       "9. 'Total.voters_2009'\n",
       "10. 'Total_Electors_2009'\n",
       "11. 'TOT_CONTESTANT_2009'\n",
       "12. 'POLL.PERCENTAGE_2009'\n",
       "\n",
       "\n"
      ],
      "text/plain": [
       " [1] \"STATE.CODE_2014\"                 \"PC.NO_2014\"                     \n",
       " [3] \"PARLIAMENTARY.CONSTITUENCY_2014\" \"STATE_2014\"                     \n",
       " [5] \"Total.voters_2014\"               \"Total_Electors_2014\"            \n",
       " [7] \"POLL.PERCENTAGE_2014\"            \"STATE_2009\"                     \n",
       " [9] \"Total.voters_2009\"               \"Total_Electors_2009\"            \n",
       "[11] \"TOT_CONTESTANT_2009\"             \"POLL.PERCENTAGE_2009\"           "
      ]
     },
     "metadata": {},
     "output_type": "display_data"
    }
   ],
   "source": [
    "names(temp)\n",
    "Electors_src = temp[,c(1,4,2,3,5,6,7,9,10,12,11)]"
   ]
  },
  {
   "cell_type": "markdown",
   "metadata": {},
   "source": [
    "### Candidate Data Cleaning"
   ]
  },
  {
   "cell_type": "code",
   "execution_count": 23,
   "metadata": {},
   "outputs": [
    {
     "name": "stdout",
     "output_type": "stream",
     "text": [
      "'data.frame':\t8070 obs. of  14 variables:\n",
      " $ ST_CODE           : Factor w/ 35 levels \"S01\",\"S02\",\"S03\",..: 1 1 1 1 1 1 1 1 1 1 ...\n",
      " $ State.name        : Factor w/ 35 levels \"Andaman & Nicobar Islands\",..: 2 2 2 2 2 2 2 2 2 2 ...\n",
      " $ Month             : int  3 3 3 3 3 3 3 3 3 3 ...\n",
      " $ Year              : int  2009 2009 2009 2009 2009 2009 2009 2009 2009 2009 ...\n",
      " $ PC.Number         : int  1 1 1 1 1 1 1 1 1 2 ...\n",
      " $ PC.name           : Factor w/ 540 levels \"Adilabad\",\"Agra\",..: 1 1 1 1 1 1 1 1 1 405 ...\n",
      " $ PC.Type           : Factor w/ 3 levels \"GEN\",\"SC\",\"ST\": 3 3 3 3 3 3 3 3 3 2 ...\n",
      " $ Candidate.Name    : Factor w/ 7786 levels \"'AIDS MAN' PRAKASH TATERAO LANDGE\",..: 5848 3376 4096 117 5851 930 2211 4585 688 1980 ...\n",
      " $ Candidate.Sex     : Factor w/ 3 levels \"\",\"F\",\"M\": 3 3 3 3 3 3 3 3 3 3 ...\n",
      " $ Candidate.Category: Factor w/ 4 levels \"\",\"GEN\",\"SC\",..: 4 4 4 4 4 4 4 4 4 3 ...\n",
      " $ Candidate.Age     : int  43 39 59 55 50 55 36 39 47 51 ...\n",
      " $ Party.Abbreviation: Factor w/ 364 levels \"\",\"ABAS\",\"ABCD(A)\",..: 345 137 255 72 98 138 138 138 138 137 ...\n",
      " $ Total.Votes.Polled: int  372268 257181 112930 57931 16471 16441 13378 9157 7824 313748 ...\n",
      " $ Position          : int  1 2 3 4 5 6 7 8 9 1 ...\n"
     ]
    }
   ],
   "source": [
    "str(LS2009Candidates)"
   ]
  },
  {
   "cell_type": "code",
   "execution_count": 24,
   "metadata": {},
   "outputs": [
    {
     "data": {
      "text/html": [
       "<ol class=list-inline>\n",
       "\t<li>'rathod ramesh'</li>\n",
       "\t<li>'kotnak ramesh'</li>\n",
       "\t<li>'mesram nago rao'</li>\n",
       "\t<li>'ade tukaram'</li>\n",
       "\t<li>'rathod sadashiv naik'</li>\n",
       "\t<li>'banka sahadevu'</li>\n",
       "\t<li>'ganta pentanna'</li>\n",
       "\t<li>'nethavat ramdas'</li>\n",
       "\t<li>'athram laxman rao'</li>\n",
       "\t<li>'drgvivekanand'</li>\n",
       "</ol>\n"
      ],
      "text/latex": [
       "\\begin{enumerate*}\n",
       "\\item 'rathod ramesh'\n",
       "\\item 'kotnak ramesh'\n",
       "\\item 'mesram nago rao'\n",
       "\\item 'ade tukaram'\n",
       "\\item 'rathod sadashiv naik'\n",
       "\\item 'banka sahadevu'\n",
       "\\item 'ganta pentanna'\n",
       "\\item 'nethavat ramdas'\n",
       "\\item 'athram laxman rao'\n",
       "\\item 'drgvivekanand'\n",
       "\\end{enumerate*}\n"
      ],
      "text/markdown": [
       "1. 'rathod ramesh'\n",
       "2. 'kotnak ramesh'\n",
       "3. 'mesram nago rao'\n",
       "4. 'ade tukaram'\n",
       "5. 'rathod sadashiv naik'\n",
       "6. 'banka sahadevu'\n",
       "7. 'ganta pentanna'\n",
       "8. 'nethavat ramdas'\n",
       "9. 'athram laxman rao'\n",
       "10. 'drgvivekanand'\n",
       "\n",
       "\n"
      ],
      "text/plain": [
       " [1] \"rathod ramesh\"        \"kotnak ramesh\"        \"mesram nago rao\"     \n",
       " [4] \"ade tukaram\"          \"rathod sadashiv naik\" \"banka sahadevu\"      \n",
       " [7] \"ganta pentanna\"       \"nethavat ramdas\"      \"athram laxman rao\"   \n",
       "[10] \"drgvivekanand\"       "
      ]
     },
     "metadata": {},
     "output_type": "display_data"
    }
   ],
   "source": [
    "LS2009Candidates$Candidate.Name = trimws(tolower(LS2009Candidates$Candidate.Name))\n",
    "LS2009Candidates$Candidate.Name = sapply(LS2009Candidates$Candidate.Name,function(x) gsub('[ ]{2,}', ' ',x))\n",
    "LS2009Candidates$Candidate.Name = sapply(LS2009Candidates$Candidate.Name,function(x) gsub('[[:punct:]]', '',x, perl = T))\n",
    "head(LS2009Candidates$Candidate.Name,10)"
   ]
  },
  {
   "cell_type": "code",
   "execution_count": 25,
   "metadata": {
    "collapsed": true
   },
   "outputs": [],
   "source": [
    "LS2009Candidates$State.name = trimws(tolower(LS2009Candidates$State.name))\n",
    "LS2009Candidates$PC.name = trimws(tolower(LS2009Candidates$PC.name))\n",
    "LS2009Candidates$Candidate.Category = trimws(LS2009Candidates$Candidate.Sex)"
   ]
  },
  {
   "cell_type": "markdown",
   "metadata": {},
   "source": [
    "##### Sort The data"
   ]
  },
  {
   "cell_type": "code",
   "execution_count": 26,
   "metadata": {
    "collapsed": true
   },
   "outputs": [],
   "source": [
    "LS2009Candidates = LS2009Candidates[with(LS2009Candidates,order(ST_CODE, PC.Number)),]\n"
   ]
  },
  {
   "cell_type": "markdown",
   "metadata": {},
   "source": [
    "### Similarly do it fro 2014 also"
   ]
  },
  {
   "cell_type": "code",
   "execution_count": 27,
   "metadata": {},
   "outputs": [
    {
     "name": "stdout",
     "output_type": "stream",
     "text": [
      "'data.frame':\t8794 obs. of  14 variables:\n",
      " $ ST_CODE           : Factor w/ 35 levels \"S01\",\"S02\",\"S03\",..: 1 1 1 1 1 1 1 1 1 1 ...\n",
      " $ State.name        : Factor w/ 35 levels \"Andaman & Nicobar Islands\",..: 2 2 2 2 2 2 2 2 2 2 ...\n",
      " $ Month             : int  5 5 5 5 5 5 5 5 5 5 ...\n",
      " $ Year              : int  2014 2014 2014 2014 2014 2014 2014 2014 2014 2014 ...\n",
      " $ PC.Number         : int  1 1 1 1 1 1 1 1 1 2 ...\n",
      " $ PC.name           : Factor w/ 540 levels \"Adilabad \",\"Agra\",..: 1 1 1 1 1 1 1 1 1 405 ...\n",
      " $ PC.Type           : Factor w/ 4 levels \"GEN\",\"SC\",\"SC \",..: 4 4 4 4 4 4 4 4 4 2 ...\n",
      " $ Candidate.Name    : Factor w/ 7956 levels \" ABDUL AMIR AMIRO\",..: 2320 4549 5789 5934 4633 4708 4302 5004 957 927 ...\n",
      " $ Candidate.Sex     : Factor w/ 4 levels \"F\",\"M\",\"NULL\",..: 2 2 2 2 2 3 2 2 2 2 ...\n",
      " $ Candidate.Category: Factor w/ 5 levels \"Gen\",\"GEN\",\"NULL\",..: 5 5 5 5 5 3 5 5 5 4 ...\n",
      " $ Candidate.Age     : Factor w/ 63 levels \"25\",\"26\",\"27\",..: 25 13 24 31 20 63 16 9 29 7 ...\n",
      " $ Party.Abbreviation: Factor w/ 466 levels \"A S P\",\"Aa S P\",..: 449 179 443 128 180 291 180 180 180 449 ...\n",
      " $ Total.Votes.Polled: int  430847 259557 184198 94420 41032 17084 8859 5055 4787 565496 ...\n",
      " $ Position          : int  1 2 3 4 5 6 7 8 9 1 ...\n"
     ]
    }
   ],
   "source": [
    "str(LS2014Candidates)"
   ]
  },
  {
   "cell_type": "code",
   "execution_count": 28,
   "metadata": {
    "collapsed": true
   },
   "outputs": [],
   "source": [
    "LS2014Candidates$Candidate.Name = trimws(tolower(LS2014Candidates$Candidate.Name))\n",
    "LS2014Candidates$Candidate.Name = sapply(LS2014Candidates$Candidate.Name,function(x) gsub('[ ]{2,}', ' ',x))\n",
    "LS2014Candidates$Candidate.Name = sapply(LS2014Candidates$Candidate.Name,function(x) gsub('[[:punct:]]', '',x, perl = T))\n"
   ]
  },
  {
   "cell_type": "code",
   "execution_count": 29,
   "metadata": {
    "collapsed": true
   },
   "outputs": [],
   "source": [
    "LS2014Candidates$State.name = trimws(tolower(LS2014Candidates$State.name))\n",
    "LS2014Candidates$PC.name = trimws(tolower(LS2014Candidates$PC.name))\n",
    "LS2014Candidates$Candidate.Category = trimws(LS2014Candidates$Candidate.Sex)"
   ]
  },
  {
   "cell_type": "code",
   "execution_count": 30,
   "metadata": {
    "collapsed": true
   },
   "outputs": [],
   "source": [
    "LS2014Candidates = LS2014Candidates[with(LS2014Candidates,order(LS2014Candidates$ST_CODE, LS2014Candidates$PC.Number)),]\n"
   ]
  },
  {
   "cell_type": "markdown",
   "metadata": {},
   "source": [
    "#### Identify the people who contested in both the times"
   ]
  },
  {
   "cell_type": "code",
   "execution_count": 31,
   "metadata": {
    "collapsed": true
   },
   "outputs": [],
   "source": [
    "rn_2014 = c()\n",
    "cname_2014 = c()\n",
    "\n",
    "\n",
    "for(kk in 1:nrow(LS2014Candidates) )\n",
    "{\n",
    "  if(LS2014Candidates$Candidate.Name[kk] %in% LS2009Candidates$Candidate.Name)\n",
    "  {\n",
    "    rn_2014 = append(rn_2014,kk)\n",
    "    cname_2014 = append(cname_2014,LS2014Candidates$Candidate.Name[kk])\n",
    "      #s_dist = append(s_dist, d)\n",
    "    \n",
    "  }\n",
    "}\n",
    "\n",
    "contested_2009_2014 = as.data.frame(rn_2014, cname_2014)"
   ]
  },
  {
   "cell_type": "markdown",
   "metadata": {},
   "source": [
    "### Getting the value from 2009 for merging it with 2014."
   ]
  },
  {
   "cell_type": "code",
   "execution_count": 32,
   "metadata": {},
   "outputs": [
    {
     "data": {
      "text/html": [
       "<ol class=list-inline>\n",
       "\t<li>1128</li>\n",
       "\t<li>5</li>\n",
       "</ol>\n"
      ],
      "text/latex": [
       "\\begin{enumerate*}\n",
       "\\item 1128\n",
       "\\item 5\n",
       "\\end{enumerate*}\n"
      ],
      "text/markdown": [
       "1. 1128\n",
       "2. 5\n",
       "\n",
       "\n"
      ],
      "text/plain": [
       "[1] 1128    5"
      ]
     },
     "metadata": {},
     "output_type": "display_data"
    },
    {
     "data": {
      "text/html": [
       "<table>\n",
       "<thead><tr><th></th><th scope=col>Candidate.Name</th><th scope=col>PC.name</th><th scope=col>Party.Abbreviation</th><th scope=col>Total.Votes.Polled</th><th scope=col>Position</th></tr></thead>\n",
       "<tbody>\n",
       "\t<tr><th scope=row>26</th><td>vinod kumar boinapally   </td><td>karimnagar               </td><td>TRS                      </td><td>267684                   </td><td> 2                       </td></tr>\n",
       "\t<tr><th scope=row>28</th><td>chandupatla janga reddy  </td><td>karimnagar               </td><td>BJP                      </td><td>122337                   </td><td> 4                       </td></tr>\n",
       "\t<tr><th scope=row>29</th><td>barige gattaiah yadav    </td><td>karimnagar               </td><td>IND                      </td><td> 26026                   </td><td> 5                       </td></tr>\n",
       "\t<tr><th scope=row>37</th><td>gaddam raji reddy        </td><td>karimnagar               </td><td>IND                      </td><td>  5205                   </td><td>13                       </td></tr>\n",
       "\t<tr><th scope=row>47</th><td>dr vsathyanarayana murthy</td><td>nizamabad                </td><td>PPOI                     </td><td> 10296                   </td><td> 8                       </td></tr>\n",
       "\t<tr><th scope=row>54</th><td>malkapuram shiva kumar   </td><td>zahirabad                </td><td>PRAP                     </td><td>112792                   </td><td> 3                       </td></tr>\n",
       "</tbody>\n",
       "</table>\n"
      ],
      "text/latex": [
       "\\begin{tabular}{r|lllll}\n",
       "  & Candidate.Name & PC.name & Party.Abbreviation & Total.Votes.Polled & Position\\\\\n",
       "\\hline\n",
       "\t26 & vinod kumar boinapally    & karimnagar                & TRS                       & 267684                    &  2                       \\\\\n",
       "\t28 & chandupatla janga reddy   & karimnagar                & BJP                       & 122337                    &  4                       \\\\\n",
       "\t29 & barige gattaiah yadav     & karimnagar                & IND                       &  26026                    &  5                       \\\\\n",
       "\t37 & gaddam raji reddy         & karimnagar                & IND                       &   5205                    & 13                       \\\\\n",
       "\t47 & dr vsathyanarayana murthy & nizamabad                 & PPOI                      &  10296                    &  8                       \\\\\n",
       "\t54 & malkapuram shiva kumar    & zahirabad                 & PRAP                      & 112792                    &  3                       \\\\\n",
       "\\end{tabular}\n"
      ],
      "text/markdown": [
       "\n",
       "| <!--/--> | Candidate.Name | PC.name | Party.Abbreviation | Total.Votes.Polled | Position | \n",
       "|---|---|---|---|---|---|\n",
       "| 26 | vinod kumar boinapally    | karimnagar                | TRS                       | 267684                    |  2                        | \n",
       "| 28 | chandupatla janga reddy   | karimnagar                | BJP                       | 122337                    |  4                        | \n",
       "| 29 | barige gattaiah yadav     | karimnagar                | IND                       |  26026                    |  5                        | \n",
       "| 37 | gaddam raji reddy         | karimnagar                | IND                       |   5205                    | 13                        | \n",
       "| 47 | dr vsathyanarayana murthy | nizamabad                 | PPOI                      |  10296                    |  8                        | \n",
       "| 54 | malkapuram shiva kumar    | zahirabad                 | PRAP                      | 112792                    |  3                        | \n",
       "\n",
       "\n"
      ],
      "text/plain": [
       "   Candidate.Name            PC.name    Party.Abbreviation Total.Votes.Polled\n",
       "26 vinod kumar boinapally    karimnagar TRS                267684            \n",
       "28 chandupatla janga reddy   karimnagar BJP                122337            \n",
       "29 barige gattaiah yadav     karimnagar IND                 26026            \n",
       "37 gaddam raji reddy         karimnagar IND                  5205            \n",
       "47 dr vsathyanarayana murthy nizamabad  PPOI                10296            \n",
       "54 malkapuram shiva kumar    zahirabad  PRAP               112792            \n",
       "   Position\n",
       "26  2      \n",
       "28  4      \n",
       "29  5      \n",
       "37 13      \n",
       "47  8      \n",
       "54  3      "
      ]
     },
     "metadata": {},
     "output_type": "display_data"
    }
   ],
   "source": [
    "LS2009CandidatesFiltered = LS2009Candidates[contested_2009_2014$rn_2014,c('Candidate.Name','PC.name','Party.Abbreviation','Total.Votes.Polled','Position')]\n",
    "dim(LS2009CandidatesFiltered)\n",
    "head(LS2009CandidatesFiltered)"
   ]
  },
  {
   "cell_type": "code",
   "execution_count": 33,
   "metadata": {
    "collapsed": true
   },
   "outputs": [],
   "source": [
    "temp = merge(x=LS2014Candidates,y=LS2009CandidatesFiltered,by='Candidate.Name',all.x = T)\n",
    "Candidate_src = temp"
   ]
  },
  {
   "cell_type": "code",
   "execution_count": 34,
   "metadata": {},
   "outputs": [
    {
     "data": {
      "text/html": [
       "<ol class=list-inline>\n",
       "\t<li>'Candidate.Name'</li>\n",
       "\t<li>'ST_CODE'</li>\n",
       "\t<li>'State.name'</li>\n",
       "\t<li>'Month'</li>\n",
       "\t<li>'Year'</li>\n",
       "\t<li>'PC.Number'</li>\n",
       "\t<li>'PC.name.x'</li>\n",
       "\t<li>'PC.Type'</li>\n",
       "\t<li>'Candidate.Sex'</li>\n",
       "\t<li>'Candidate.Category'</li>\n",
       "\t<li>'Candidate.Age'</li>\n",
       "\t<li>'Party.Abbreviation.x'</li>\n",
       "\t<li>'Total.Votes.Polled.x'</li>\n",
       "\t<li>'Position.x'</li>\n",
       "\t<li>'PC.name.y'</li>\n",
       "\t<li>'Party.Abbreviation.y'</li>\n",
       "\t<li>'Total.Votes.Polled.y'</li>\n",
       "\t<li>'Position.y'</li>\n",
       "</ol>\n"
      ],
      "text/latex": [
       "\\begin{enumerate*}\n",
       "\\item 'Candidate.Name'\n",
       "\\item 'ST\\_CODE'\n",
       "\\item 'State.name'\n",
       "\\item 'Month'\n",
       "\\item 'Year'\n",
       "\\item 'PC.Number'\n",
       "\\item 'PC.name.x'\n",
       "\\item 'PC.Type'\n",
       "\\item 'Candidate.Sex'\n",
       "\\item 'Candidate.Category'\n",
       "\\item 'Candidate.Age'\n",
       "\\item 'Party.Abbreviation.x'\n",
       "\\item 'Total.Votes.Polled.x'\n",
       "\\item 'Position.x'\n",
       "\\item 'PC.name.y'\n",
       "\\item 'Party.Abbreviation.y'\n",
       "\\item 'Total.Votes.Polled.y'\n",
       "\\item 'Position.y'\n",
       "\\end{enumerate*}\n"
      ],
      "text/markdown": [
       "1. 'Candidate.Name'\n",
       "2. 'ST_CODE'\n",
       "3. 'State.name'\n",
       "4. 'Month'\n",
       "5. 'Year'\n",
       "6. 'PC.Number'\n",
       "7. 'PC.name.x'\n",
       "8. 'PC.Type'\n",
       "9. 'Candidate.Sex'\n",
       "10. 'Candidate.Category'\n",
       "11. 'Candidate.Age'\n",
       "12. 'Party.Abbreviation.x'\n",
       "13. 'Total.Votes.Polled.x'\n",
       "14. 'Position.x'\n",
       "15. 'PC.name.y'\n",
       "16. 'Party.Abbreviation.y'\n",
       "17. 'Total.Votes.Polled.y'\n",
       "18. 'Position.y'\n",
       "\n",
       "\n"
      ],
      "text/plain": [
       " [1] \"Candidate.Name\"       \"ST_CODE\"              \"State.name\"          \n",
       " [4] \"Month\"                \"Year\"                 \"PC.Number\"           \n",
       " [7] \"PC.name.x\"            \"PC.Type\"              \"Candidate.Sex\"       \n",
       "[10] \"Candidate.Category\"   \"Candidate.Age\"        \"Party.Abbreviation.x\"\n",
       "[13] \"Total.Votes.Polled.x\" \"Position.x\"           \"PC.name.y\"           \n",
       "[16] \"Party.Abbreviation.y\" \"Total.Votes.Polled.y\" \"Position.y\"          "
      ]
     },
     "metadata": {},
     "output_type": "display_data"
    }
   ],
   "source": [
    "names(Candidate_src)"
   ]
  },
  {
   "cell_type": "code",
   "execution_count": 35,
   "metadata": {
    "collapsed": true
   },
   "outputs": [],
   "source": [
    "names(Candidate_src) = c('Candidate.Name','ST_CODE','State.name','Month','Year','PC.Number','PC.Name','PC.Type','Candidate.Sex','Candidate.Category','Candidate.Age','Party.Abbreviation','Total.Votes.Polled','Position','PC.name.2009','Party.Abbreviation.2009','Total.Votes.Polled.2009','Position.2009')\n",
    "Candidate_src = Candidate_src[,c(1,2,3,6,7,8,9,10,11,12,13,14,15,16,17,18)]"
   ]
  },
  {
   "cell_type": "code",
   "execution_count": 36,
   "metadata": {},
   "outputs": [
    {
     "data": {
      "text/html": [
       "<table>\n",
       "<thead><tr><th scope=col>Candidate.Name</th><th scope=col>ST_CODE</th><th scope=col>State.name</th><th scope=col>PC.Number</th><th scope=col>PC.Name</th><th scope=col>PC.Type</th><th scope=col>Candidate.Sex</th><th scope=col>Candidate.Category</th><th scope=col>Candidate.Age</th><th scope=col>Party.Abbreviation</th><th scope=col>Total.Votes.Polled</th><th scope=col>Position</th><th scope=col>PC.name.2009</th><th scope=col>Party.Abbreviation.2009</th><th scope=col>Total.Votes.Polled.2009</th><th scope=col>Position.2009</th></tr></thead>\n",
       "<tbody>\n",
       "\t<tr><td>a biju       </td><td>S11          </td><td>kerala       </td><td> 9           </td><td>alathur      </td><td>SC           </td><td>M            </td><td>M            </td><td>36           </td><td>IND          </td><td>1692         </td><td>12           </td><td>NA           </td><td>NA           </td><td>NA           </td><td>NA           </td></tr>\n",
       "\t<tr><td>a devdas     </td><td>S10          </td><td>karnataka    </td><td> 9           </td><td>bellary      </td><td>ST           </td><td>M            </td><td>M            </td><td>45           </td><td>SUCI         </td><td>8486         </td><td> 5           </td><td>NA           </td><td>NA           </td><td>NA           </td><td>NA           </td></tr>\n",
       "\t<tr><td>a irudayadass</td><td>S22          </td><td>tamil nadu   </td><td> 3           </td><td>chennai south</td><td>GEN          </td><td>M            </td><td>M            </td><td>53           </td><td>IND          </td><td> 976         </td><td>12           </td><td>NA           </td><td>NA           </td><td>NA           </td><td>NA           </td></tr>\n",
       "\t<tr><td>a jaiganesh  </td><td>S22          </td><td>tamil nadu   </td><td> 3           </td><td>chennai south</td><td>GEN          </td><td>M            </td><td>M            </td><td>29           </td><td>LSP          </td><td> 518         </td><td>16           </td><td>NA           </td><td>NA           </td><td>NA           </td><td>NA           </td></tr>\n",
       "\t<tr><td>a josekutty  </td><td>S11          </td><td>kerala       </td><td>18           </td><td>kollam       </td><td>GEN          </td><td>M            </td><td>M            </td><td>58           </td><td>IND          </td><td>1702         </td><td>12           </td><td>NA           </td><td>NA           </td><td>NA           </td><td>NA           </td></tr>\n",
       "\t<tr><td>a magesh     </td><td>S22          </td><td>tamil nadu   </td><td> 3           </td><td>chennai south</td><td>GEN          </td><td>M            </td><td>M            </td><td>31           </td><td>IND          </td><td> 121         </td><td>41           </td><td>NA           </td><td>NA           </td><td>NA           </td><td>NA           </td></tr>\n",
       "</tbody>\n",
       "</table>\n"
      ],
      "text/latex": [
       "\\begin{tabular}{r|llllllllllllllll}\n",
       " Candidate.Name & ST\\_CODE & State.name & PC.Number & PC.Name & PC.Type & Candidate.Sex & Candidate.Category & Candidate.Age & Party.Abbreviation & Total.Votes.Polled & Position & PC.name.2009 & Party.Abbreviation.2009 & Total.Votes.Polled.2009 & Position.2009\\\\\n",
       "\\hline\n",
       "\t a biju        & S11           & kerala        &  9            & alathur       & SC            & M             & M             & 36            & IND           & 1692          & 12            & NA            & NA            & NA            & NA           \\\\\n",
       "\t a devdas      & S10           & karnataka     &  9            & bellary       & ST            & M             & M             & 45            & SUCI          & 8486          &  5            & NA            & NA            & NA            & NA           \\\\\n",
       "\t a irudayadass & S22           & tamil nadu    &  3            & chennai south & GEN           & M             & M             & 53            & IND           &  976          & 12            & NA            & NA            & NA            & NA           \\\\\n",
       "\t a jaiganesh   & S22           & tamil nadu    &  3            & chennai south & GEN           & M             & M             & 29            & LSP           &  518          & 16            & NA            & NA            & NA            & NA           \\\\\n",
       "\t a josekutty   & S11           & kerala        & 18            & kollam        & GEN           & M             & M             & 58            & IND           & 1702          & 12            & NA            & NA            & NA            & NA           \\\\\n",
       "\t a magesh      & S22           & tamil nadu    &  3            & chennai south & GEN           & M             & M             & 31            & IND           &  121          & 41            & NA            & NA            & NA            & NA           \\\\\n",
       "\\end{tabular}\n"
      ],
      "text/markdown": [
       "\n",
       "Candidate.Name | ST_CODE | State.name | PC.Number | PC.Name | PC.Type | Candidate.Sex | Candidate.Category | Candidate.Age | Party.Abbreviation | Total.Votes.Polled | Position | PC.name.2009 | Party.Abbreviation.2009 | Total.Votes.Polled.2009 | Position.2009 | \n",
       "|---|---|---|---|---|---|\n",
       "| a biju        | S11           | kerala        |  9            | alathur       | SC            | M             | M             | 36            | IND           | 1692          | 12            | NA            | NA            | NA            | NA            | \n",
       "| a devdas      | S10           | karnataka     |  9            | bellary       | ST            | M             | M             | 45            | SUCI          | 8486          |  5            | NA            | NA            | NA            | NA            | \n",
       "| a irudayadass | S22           | tamil nadu    |  3            | chennai south | GEN           | M             | M             | 53            | IND           |  976          | 12            | NA            | NA            | NA            | NA            | \n",
       "| a jaiganesh   | S22           | tamil nadu    |  3            | chennai south | GEN           | M             | M             | 29            | LSP           |  518          | 16            | NA            | NA            | NA            | NA            | \n",
       "| a josekutty   | S11           | kerala        | 18            | kollam        | GEN           | M             | M             | 58            | IND           | 1702          | 12            | NA            | NA            | NA            | NA            | \n",
       "| a magesh      | S22           | tamil nadu    |  3            | chennai south | GEN           | M             | M             | 31            | IND           |  121          | 41            | NA            | NA            | NA            | NA            | \n",
       "\n",
       "\n"
      ],
      "text/plain": [
       "  Candidate.Name ST_CODE State.name PC.Number PC.Name       PC.Type\n",
       "1 a biju         S11     kerala      9        alathur       SC     \n",
       "2 a devdas       S10     karnataka   9        bellary       ST     \n",
       "3 a irudayadass  S22     tamil nadu  3        chennai south GEN    \n",
       "4 a jaiganesh    S22     tamil nadu  3        chennai south GEN    \n",
       "5 a josekutty    S11     kerala     18        kollam        GEN    \n",
       "6 a magesh       S22     tamil nadu  3        chennai south GEN    \n",
       "  Candidate.Sex Candidate.Category Candidate.Age Party.Abbreviation\n",
       "1 M             M                  36            IND               \n",
       "2 M             M                  45            SUCI              \n",
       "3 M             M                  53            IND               \n",
       "4 M             M                  29            LSP               \n",
       "5 M             M                  58            IND               \n",
       "6 M             M                  31            IND               \n",
       "  Total.Votes.Polled Position PC.name.2009 Party.Abbreviation.2009\n",
       "1 1692               12       NA           NA                     \n",
       "2 8486                5       NA           NA                     \n",
       "3  976               12       NA           NA                     \n",
       "4  518               16       NA           NA                     \n",
       "5 1702               12       NA           NA                     \n",
       "6  121               41       NA           NA                     \n",
       "  Total.Votes.Polled.2009 Position.2009\n",
       "1 NA                      NA           \n",
       "2 NA                      NA           \n",
       "3 NA                      NA           \n",
       "4 NA                      NA           \n",
       "5 NA                      NA           \n",
       "6 NA                      NA           "
      ]
     },
     "metadata": {},
     "output_type": "display_data"
    }
   ],
   "source": [
    "head(Candidate_src)"
   ]
  },
  {
   "cell_type": "markdown",
   "metadata": {},
   "source": [
    "## Merging Candidate data with Electoral Data"
   ]
  },
  {
   "cell_type": "code",
   "execution_count": 37,
   "metadata": {
    "collapsed": true
   },
   "outputs": [],
   "source": [
    " Elector_Candidate = merge(x = Electors_src,y = Candidate_src, by.x = c('STATE.CODE_2014','PC.NO_2014'), by.y = c('ST_CODE','PC.Number'), all = T)"
   ]
  },
  {
   "cell_type": "code",
   "execution_count": 38,
   "metadata": {},
   "outputs": [
    {
     "data": {
      "text/html": [
       "<table>\n",
       "<thead><tr><th scope=col>STATE.CODE_2014</th><th scope=col>PC.NO_2014</th><th scope=col>STATE_2014</th><th scope=col>PARLIAMENTARY.CONSTITUENCY_2014</th><th scope=col>Total.voters_2014</th><th scope=col>Total_Electors_2014</th><th scope=col>POLL.PERCENTAGE_2014</th><th scope=col>Total.voters_2009</th><th scope=col>Total_Electors_2009</th><th scope=col>POLL.PERCENTAGE_2009</th><th scope=col>...</th><th scope=col>Candidate.Sex</th><th scope=col>Candidate.Category</th><th scope=col>Candidate.Age</th><th scope=col>Party.Abbreviation</th><th scope=col>Total.Votes.Polled</th><th scope=col>Position</th><th scope=col>PC.name.2009</th><th scope=col>Party.Abbreviation.2009</th><th scope=col>Total.Votes.Polled.2009</th><th scope=col>Position.2009</th></tr></thead>\n",
       "<tbody>\n",
       "\t<tr><td>S01           </td><td>1             </td><td>andhra pradesh</td><td>adilabad      </td><td>1055593       </td><td>1386282       </td><td>76.15         </td><td>864165        </td><td>1131211       </td><td>76.39         </td><td>...           </td><td>M             </td><td>M             </td><td>48            </td><td>TDP           </td><td>184198        </td><td>3             </td><td>NA            </td><td>NA            </td><td>NA            </td><td>NA            </td></tr>\n",
       "\t<tr><td>S01           </td><td>1             </td><td>andhra pradesh</td><td>adilabad      </td><td>1055593       </td><td>1386282       </td><td>76.15         </td><td>864165        </td><td>1131211       </td><td>76.39         </td><td>...           </td><td>M             </td><td>M             </td><td>49            </td><td>TRS           </td><td>430847        </td><td>1             </td><td>NA            </td><td>NA            </td><td>NA            </td><td>NA            </td></tr>\n",
       "\t<tr><td>S01           </td><td>1             </td><td>andhra pradesh</td><td>adilabad      </td><td>1055593       </td><td>1386282       </td><td>76.15         </td><td>864165        </td><td>1131211       </td><td>76.39         </td><td>...           </td><td>M             </td><td>M             </td><td>40            </td><td>IND           </td><td>  8859        </td><td>7             </td><td>NA            </td><td>NA            </td><td>NA            </td><td>NA            </td></tr>\n",
       "\t<tr><td>S01           </td><td>1             </td><td>andhra pradesh</td><td>adilabad      </td><td>1055593       </td><td>1386282       </td><td>76.15         </td><td>864165        </td><td>1131211       </td><td>76.39         </td><td>...           </td><td>M             </td><td>M             </td><td>44            </td><td>IND           </td><td> 41032        </td><td>5             </td><td>NA            </td><td>NA            </td><td>NA            </td><td>NA            </td></tr>\n",
       "\t<tr><td>S01           </td><td>1             </td><td>andhra pradesh</td><td>adilabad      </td><td>1055593       </td><td>1386282       </td><td>76.15         </td><td>864165        </td><td>1131211       </td><td>76.39         </td><td>...           </td><td>NULL          </td><td>NULL          </td><td>NULL          </td><td>NOTA          </td><td> 17084        </td><td>6             </td><td>NA            </td><td>NA            </td><td>NA            </td><td>NA            </td></tr>\n",
       "\t<tr><td>S01           </td><td>1             </td><td>andhra pradesh</td><td>adilabad      </td><td>1055593       </td><td>1386282       </td><td>76.15         </td><td>864165        </td><td>1131211       </td><td>76.39         </td><td>...           </td><td>M             </td><td>M             </td><td>37            </td><td>INC           </td><td>259557        </td><td>2             </td><td>NA            </td><td>NA            </td><td>NA            </td><td>NA            </td></tr>\n",
       "</tbody>\n",
       "</table>\n"
      ],
      "text/latex": [
       "\\begin{tabular}{r|lllllllllllllllllllllllll}\n",
       " STATE.CODE\\_2014 & PC.NO\\_2014 & STATE\\_2014 & PARLIAMENTARY.CONSTITUENCY\\_2014 & Total.voters\\_2014 & Total\\_Electors\\_2014 & POLL.PERCENTAGE\\_2014 & Total.voters\\_2009 & Total\\_Electors\\_2009 & POLL.PERCENTAGE\\_2009 & ... & Candidate.Sex & Candidate.Category & Candidate.Age & Party.Abbreviation & Total.Votes.Polled & Position & PC.name.2009 & Party.Abbreviation.2009 & Total.Votes.Polled.2009 & Position.2009\\\\\n",
       "\\hline\n",
       "\t S01            & 1              & andhra pradesh & adilabad       & 1055593        & 1386282        & 76.15          & 864165         & 1131211        & 76.39          & ...            & M              & M              & 48             & TDP            & 184198         & 3              & NA             & NA             & NA             & NA            \\\\\n",
       "\t S01            & 1              & andhra pradesh & adilabad       & 1055593        & 1386282        & 76.15          & 864165         & 1131211        & 76.39          & ...            & M              & M              & 49             & TRS            & 430847         & 1              & NA             & NA             & NA             & NA            \\\\\n",
       "\t S01            & 1              & andhra pradesh & adilabad       & 1055593        & 1386282        & 76.15          & 864165         & 1131211        & 76.39          & ...            & M              & M              & 40             & IND            &   8859         & 7              & NA             & NA             & NA             & NA            \\\\\n",
       "\t S01            & 1              & andhra pradesh & adilabad       & 1055593        & 1386282        & 76.15          & 864165         & 1131211        & 76.39          & ...            & M              & M              & 44             & IND            &  41032         & 5              & NA             & NA             & NA             & NA            \\\\\n",
       "\t S01            & 1              & andhra pradesh & adilabad       & 1055593        & 1386282        & 76.15          & 864165         & 1131211        & 76.39          & ...            & NULL           & NULL           & NULL           & NOTA           &  17084         & 6              & NA             & NA             & NA             & NA            \\\\\n",
       "\t S01            & 1              & andhra pradesh & adilabad       & 1055593        & 1386282        & 76.15          & 864165         & 1131211        & 76.39          & ...            & M              & M              & 37             & INC            & 259557         & 2              & NA             & NA             & NA             & NA            \\\\\n",
       "\\end{tabular}\n"
      ],
      "text/markdown": [
       "\n",
       "STATE.CODE_2014 | PC.NO_2014 | STATE_2014 | PARLIAMENTARY.CONSTITUENCY_2014 | Total.voters_2014 | Total_Electors_2014 | POLL.PERCENTAGE_2014 | Total.voters_2009 | Total_Electors_2009 | POLL.PERCENTAGE_2009 | ... | Candidate.Sex | Candidate.Category | Candidate.Age | Party.Abbreviation | Total.Votes.Polled | Position | PC.name.2009 | Party.Abbreviation.2009 | Total.Votes.Polled.2009 | Position.2009 | \n",
       "|---|---|---|---|---|---|\n",
       "| S01            | 1              | andhra pradesh | adilabad       | 1055593        | 1386282        | 76.15          | 864165         | 1131211        | 76.39          | ...            | M              | M              | 48             | TDP            | 184198         | 3              | NA             | NA             | NA             | NA             | \n",
       "| S01            | 1              | andhra pradesh | adilabad       | 1055593        | 1386282        | 76.15          | 864165         | 1131211        | 76.39          | ...            | M              | M              | 49             | TRS            | 430847         | 1              | NA             | NA             | NA             | NA             | \n",
       "| S01            | 1              | andhra pradesh | adilabad       | 1055593        | 1386282        | 76.15          | 864165         | 1131211        | 76.39          | ...            | M              | M              | 40             | IND            |   8859         | 7              | NA             | NA             | NA             | NA             | \n",
       "| S01            | 1              | andhra pradesh | adilabad       | 1055593        | 1386282        | 76.15          | 864165         | 1131211        | 76.39          | ...            | M              | M              | 44             | IND            |  41032         | 5              | NA             | NA             | NA             | NA             | \n",
       "| S01            | 1              | andhra pradesh | adilabad       | 1055593        | 1386282        | 76.15          | 864165         | 1131211        | 76.39          | ...            | NULL           | NULL           | NULL           | NOTA           |  17084         | 6              | NA             | NA             | NA             | NA             | \n",
       "| S01            | 1              | andhra pradesh | adilabad       | 1055593        | 1386282        | 76.15          | 864165         | 1131211        | 76.39          | ...            | M              | M              | 37             | INC            | 259557         | 2              | NA             | NA             | NA             | NA             | \n",
       "\n",
       "\n"
      ],
      "text/plain": [
       "  STATE.CODE_2014 PC.NO_2014 STATE_2014     PARLIAMENTARY.CONSTITUENCY_2014\n",
       "1 S01             1          andhra pradesh adilabad                       \n",
       "2 S01             1          andhra pradesh adilabad                       \n",
       "3 S01             1          andhra pradesh adilabad                       \n",
       "4 S01             1          andhra pradesh adilabad                       \n",
       "5 S01             1          andhra pradesh adilabad                       \n",
       "6 S01             1          andhra pradesh adilabad                       \n",
       "  Total.voters_2014 Total_Electors_2014 POLL.PERCENTAGE_2014 Total.voters_2009\n",
       "1 1055593           1386282             76.15                864165           \n",
       "2 1055593           1386282             76.15                864165           \n",
       "3 1055593           1386282             76.15                864165           \n",
       "4 1055593           1386282             76.15                864165           \n",
       "5 1055593           1386282             76.15                864165           \n",
       "6 1055593           1386282             76.15                864165           \n",
       "  Total_Electors_2009 POLL.PERCENTAGE_2009 ... Candidate.Sex Candidate.Category\n",
       "1 1131211             76.39                ... M             M                 \n",
       "2 1131211             76.39                ... M             M                 \n",
       "3 1131211             76.39                ... M             M                 \n",
       "4 1131211             76.39                ... M             M                 \n",
       "5 1131211             76.39                ... NULL          NULL              \n",
       "6 1131211             76.39                ... M             M                 \n",
       "  Candidate.Age Party.Abbreviation Total.Votes.Polled Position PC.name.2009\n",
       "1 48            TDP                184198             3        NA          \n",
       "2 49            TRS                430847             1        NA          \n",
       "3 40            IND                  8859             7        NA          \n",
       "4 44            IND                 41032             5        NA          \n",
       "5 NULL          NOTA                17084             6        NA          \n",
       "6 37            INC                259557             2        NA          \n",
       "  Party.Abbreviation.2009 Total.Votes.Polled.2009 Position.2009\n",
       "1 NA                      NA                      NA           \n",
       "2 NA                      NA                      NA           \n",
       "3 NA                      NA                      NA           \n",
       "4 NA                      NA                      NA           \n",
       "5 NA                      NA                      NA           \n",
       "6 NA                      NA                      NA           "
      ]
     },
     "metadata": {},
     "output_type": "display_data"
    }
   ],
   "source": [
    "head(Elector_Candidate)"
   ]
  },
  {
   "cell_type": "code",
   "execution_count": 39,
   "metadata": {
    "collapsed": true
   },
   "outputs": [],
   "source": [
    "Elector_Candidate = Elector_Candidate[,c(1:12,15:25)]"
   ]
  },
  {
   "cell_type": "code",
   "execution_count": 40,
   "metadata": {
    "collapsed": true
   },
   "outputs": [],
   "source": [
    "Elector_Candidate = Elector_Candidate[,c(1,3,2,4,7,8,9,10,11,12,13,14,5,15,16,17,18,6,23,19,20,21,22)]"
   ]
  },
  {
   "cell_type": "code",
   "execution_count": 41,
   "metadata": {},
   "outputs": [
    {
     "data": {
      "text/html": [
       "<ol class=list-inline>\n",
       "\t<li>'STATE.CODE_2014'</li>\n",
       "\t<li>'STATE_2014'</li>\n",
       "\t<li>'PC.NO_2014'</li>\n",
       "\t<li>'PARLIAMENTARY.CONSTITUENCY_2014'</li>\n",
       "\t<li>'POLL.PERCENTAGE_2014'</li>\n",
       "\t<li>'TOTAL.VOTERS_2009'</li>\n",
       "\t<li>'TOTAL_ELECTORS_2009'</li>\n",
       "\t<li>'POLL.PERCENTAGE_2009'</li>\n",
       "\t<li>'TOT_CONTESTANT_2009'</li>\n",
       "\t<li>'CANDIDATE.NAME'</li>\n",
       "\t<li>'PC.TYPE'</li>\n",
       "\t<li>'CANDIDATE.SEX'</li>\n",
       "\t<li>'TOTAL.VOTERS_2014'</li>\n",
       "\t<li>'CANDIDATE.CATEGORY'</li>\n",
       "\t<li>'CANDIDATE.AGE'</li>\n",
       "\t<li>'PARTY.ABBREVIATION'</li>\n",
       "\t<li>'TOTAL.VOTES.POLLED'</li>\n",
       "\t<li>'TOTAL_ELECTORS_2014'</li>\n",
       "\t<li>'POSITION.2009'</li>\n",
       "\t<li>'POSITION'</li>\n",
       "\t<li>'PC.NAME.2009'</li>\n",
       "\t<li>'PARTY.ABBREVIATION.2009'</li>\n",
       "\t<li>'TOTAL.VOTES.POLLED.2009'</li>\n",
       "</ol>\n"
      ],
      "text/latex": [
       "\\begin{enumerate*}\n",
       "\\item 'STATE.CODE\\_2014'\n",
       "\\item 'STATE\\_2014'\n",
       "\\item 'PC.NO\\_2014'\n",
       "\\item 'PARLIAMENTARY.CONSTITUENCY\\_2014'\n",
       "\\item 'POLL.PERCENTAGE\\_2014'\n",
       "\\item 'TOTAL.VOTERS\\_2009'\n",
       "\\item 'TOTAL\\_ELECTORS\\_2009'\n",
       "\\item 'POLL.PERCENTAGE\\_2009'\n",
       "\\item 'TOT\\_CONTESTANT\\_2009'\n",
       "\\item 'CANDIDATE.NAME'\n",
       "\\item 'PC.TYPE'\n",
       "\\item 'CANDIDATE.SEX'\n",
       "\\item 'TOTAL.VOTERS\\_2014'\n",
       "\\item 'CANDIDATE.CATEGORY'\n",
       "\\item 'CANDIDATE.AGE'\n",
       "\\item 'PARTY.ABBREVIATION'\n",
       "\\item 'TOTAL.VOTES.POLLED'\n",
       "\\item 'TOTAL\\_ELECTORS\\_2014'\n",
       "\\item 'POSITION.2009'\n",
       "\\item 'POSITION'\n",
       "\\item 'PC.NAME.2009'\n",
       "\\item 'PARTY.ABBREVIATION.2009'\n",
       "\\item 'TOTAL.VOTES.POLLED.2009'\n",
       "\\end{enumerate*}\n"
      ],
      "text/markdown": [
       "1. 'STATE.CODE_2014'\n",
       "2. 'STATE_2014'\n",
       "3. 'PC.NO_2014'\n",
       "4. 'PARLIAMENTARY.CONSTITUENCY_2014'\n",
       "5. 'POLL.PERCENTAGE_2014'\n",
       "6. 'TOTAL.VOTERS_2009'\n",
       "7. 'TOTAL_ELECTORS_2009'\n",
       "8. 'POLL.PERCENTAGE_2009'\n",
       "9. 'TOT_CONTESTANT_2009'\n",
       "10. 'CANDIDATE.NAME'\n",
       "11. 'PC.TYPE'\n",
       "12. 'CANDIDATE.SEX'\n",
       "13. 'TOTAL.VOTERS_2014'\n",
       "14. 'CANDIDATE.CATEGORY'\n",
       "15. 'CANDIDATE.AGE'\n",
       "16. 'PARTY.ABBREVIATION'\n",
       "17. 'TOTAL.VOTES.POLLED'\n",
       "18. 'TOTAL_ELECTORS_2014'\n",
       "19. 'POSITION.2009'\n",
       "20. 'POSITION'\n",
       "21. 'PC.NAME.2009'\n",
       "22. 'PARTY.ABBREVIATION.2009'\n",
       "23. 'TOTAL.VOTES.POLLED.2009'\n",
       "\n",
       "\n"
      ],
      "text/plain": [
       " [1] \"STATE.CODE_2014\"                 \"STATE_2014\"                     \n",
       " [3] \"PC.NO_2014\"                      \"PARLIAMENTARY.CONSTITUENCY_2014\"\n",
       " [5] \"POLL.PERCENTAGE_2014\"            \"TOTAL.VOTERS_2009\"              \n",
       " [7] \"TOTAL_ELECTORS_2009\"             \"POLL.PERCENTAGE_2009\"           \n",
       " [9] \"TOT_CONTESTANT_2009\"             \"CANDIDATE.NAME\"                 \n",
       "[11] \"PC.TYPE\"                         \"CANDIDATE.SEX\"                  \n",
       "[13] \"TOTAL.VOTERS_2014\"               \"CANDIDATE.CATEGORY\"             \n",
       "[15] \"CANDIDATE.AGE\"                   \"PARTY.ABBREVIATION\"             \n",
       "[17] \"TOTAL.VOTES.POLLED\"              \"TOTAL_ELECTORS_2014\"            \n",
       "[19] \"POSITION.2009\"                   \"POSITION\"                       \n",
       "[21] \"PC.NAME.2009\"                    \"PARTY.ABBREVIATION.2009\"        \n",
       "[23] \"TOTAL.VOTES.POLLED.2009\"        "
      ]
     },
     "metadata": {},
     "output_type": "display_data"
    }
   ],
   "source": [
    "names(Elector_Candidate) = toupper(names(Elector_Candidate))\n",
    "names(Elector_Candidate)"
   ]
  },
  {
   "cell_type": "markdown",
   "metadata": {},
   "source": [
    "### Cleaning MyNeta Data"
   ]
  },
  {
   "cell_type": "code",
   "execution_count": 42,
   "metadata": {},
   "outputs": [
    {
     "data": {
      "text/html": [
       "<table>\n",
       "<thead><tr><th scope=col>Candidate</th><th scope=col>Constituency</th><th scope=col>Criminal.Cases</th><th scope=col>Education</th><th scope=col>ID</th><th scope=col>Party</th><th scope=col>Sno</th><th scope=col>Total.Assets</th><th scope=col>Total.Liabilities</th><th scope=col>Year</th><th scope=col>ST_CODE</th><th scope=col>PC_CODE</th></tr></thead>\n",
       "<tbody>\n",
       "\t<tr><td>Kaushal Yadav                                    </td><td>NAWADA                                           </td><td>8                                                </td><td>Post Graduate                                    </td><td> 148                                             </td><td>JD(U)                                            </td><td>1                                                </td><td>154566136                                        </td><td>2604969                                          </td><td>2014                                             </td><td>S04                                              </td><td>39                                               </td></tr>\n",
       "\t<tr><td>Kiran Sharma                                     </td><td>AZAMGARH                                         </td><td>0                                                </td><td>8th Pass                                         </td><td>9487                                             </td><td>Bhartiya Shakti Chetna Party                     </td><td>2                                                </td><td>  3509407                                        </td><td> 325000                                          </td><td>2014                                             </td><td>S24                                              </td><td>69                                               </td></tr>\n",
       "\t<tr><td>M. Aamir Rashadi                                 </td><td>AZAMGARH                                         </td><td>1                                                </td><td>Others                                           </td><td>9496                                             </td><td>Rashtriya Ulama Council                          </td><td>3                                                </td><td>  2191523                                        </td><td>      0                                          </td><td>2014                                             </td><td>S24                                              </td><td>69                                               </td></tr>\n",
       "\t<tr><td>Rakesh Kumar Giri                                </td><td>MAHARAJGANJ                                      </td><td>0                                                </td><td>Graduate Professional                            </td><td>9706                                             </td><td>IND                                              </td><td>4                                                </td><td>   306023                                        </td><td>      0                                          </td><td>2014                                             </td><td>S24                                              </td><td>63                                               </td></tr>\n",
       "\t<tr><td>(Kuppal)G.Devadoss                               </td><td>CHENNAI SOUTH                                    </td><td>0                                                </td><td>8th Pass                                         </td><td>6912                                             </td><td>IND                                              </td><td>5                                                </td><td>  3630000                                        </td><td> 850000                                          </td><td>2014                                             </td><td>S22                                              </td><td> 3                                               </td></tr>\n",
       "\t<tr><td>(Maj Gen (Retd.) ) Bhuwan Chandra Khanduri (Avsm)</td><td>GARHWAL                                          </td><td>0                                                </td><td>Graduate Professional                            </td><td>  74                                             </td><td>BJP                                              </td><td>6                                                </td><td> 44357368                                        </td><td>      0                                          </td><td>2014                                             </td><td>S28                                              </td><td> 2                                               </td></tr>\n",
       "</tbody>\n",
       "</table>\n"
      ],
      "text/latex": [
       "\\begin{tabular}{r|llllllllllll}\n",
       " Candidate & Constituency & Criminal.Cases & Education & ID & Party & Sno & Total.Assets & Total.Liabilities & Year & ST\\_CODE & PC\\_CODE\\\\\n",
       "\\hline\n",
       "\t Kaushal Yadav                                     & NAWADA                                            & 8                                                 & Post Graduate                                     &  148                                              & JD(U)                                             & 1                                                 & 154566136                                         & 2604969                                           & 2014                                              & S04                                               & 39                                               \\\\\n",
       "\t Kiran Sharma                                      & AZAMGARH                                          & 0                                                 & 8th Pass                                          & 9487                                              & Bhartiya Shakti Chetna Party                      & 2                                                 &   3509407                                         &  325000                                           & 2014                                              & S24                                               & 69                                               \\\\\n",
       "\t M. Aamir Rashadi                                  & AZAMGARH                                          & 1                                                 & Others                                            & 9496                                              & Rashtriya Ulama Council                           & 3                                                 &   2191523                                         &       0                                           & 2014                                              & S24                                               & 69                                               \\\\\n",
       "\t Rakesh Kumar Giri                                 & MAHARAJGANJ                                       & 0                                                 & Graduate Professional                             & 9706                                              & IND                                               & 4                                                 &    306023                                         &       0                                           & 2014                                              & S24                                               & 63                                               \\\\\n",
       "\t (Kuppal)G.Devadoss                                & CHENNAI SOUTH                                     & 0                                                 & 8th Pass                                          & 6912                                              & IND                                               & 5                                                 &   3630000                                         &  850000                                           & 2014                                              & S22                                               &  3                                               \\\\\n",
       "\t (Maj Gen (Retd.) ) Bhuwan Chandra Khanduri (Avsm) & GARHWAL                                           & 0                                                 & Graduate Professional                             &   74                                              & BJP                                               & 6                                                 &  44357368                                         &       0                                           & 2014                                              & S28                                               &  2                                               \\\\\n",
       "\\end{tabular}\n"
      ],
      "text/markdown": [
       "\n",
       "Candidate | Constituency | Criminal.Cases | Education | ID | Party | Sno | Total.Assets | Total.Liabilities | Year | ST_CODE | PC_CODE | \n",
       "|---|---|---|---|---|---|\n",
       "| Kaushal Yadav                                     | NAWADA                                            | 8                                                 | Post Graduate                                     |  148                                              | JD(U)                                             | 1                                                 | 154566136                                         | 2604969                                           | 2014                                              | S04                                               | 39                                                | \n",
       "| Kiran Sharma                                      | AZAMGARH                                          | 0                                                 | 8th Pass                                          | 9487                                              | Bhartiya Shakti Chetna Party                      | 2                                                 |   3509407                                         |  325000                                           | 2014                                              | S24                                               | 69                                                | \n",
       "| M. Aamir Rashadi                                  | AZAMGARH                                          | 1                                                 | Others                                            | 9496                                              | Rashtriya Ulama Council                           | 3                                                 |   2191523                                         |       0                                           | 2014                                              | S24                                               | 69                                                | \n",
       "| Rakesh Kumar Giri                                 | MAHARAJGANJ                                       | 0                                                 | Graduate Professional                             | 9706                                              | IND                                               | 4                                                 |    306023                                         |       0                                           | 2014                                              | S24                                               | 63                                                | \n",
       "| (Kuppal)G.Devadoss                                | CHENNAI SOUTH                                     | 0                                                 | 8th Pass                                          | 6912                                              | IND                                               | 5                                                 |   3630000                                         |  850000                                           | 2014                                              | S22                                               |  3                                                | \n",
       "| (Maj Gen (Retd.) ) Bhuwan Chandra Khanduri (Avsm) | GARHWAL                                           | 0                                                 | Graduate Professional                             |   74                                              | BJP                                               | 6                                                 |  44357368                                         |       0                                           | 2014                                              | S28                                               |  2                                                | \n",
       "\n",
       "\n"
      ],
      "text/plain": [
       "  Candidate                                         Constituency \n",
       "1 Kaushal Yadav                                     NAWADA       \n",
       "2 Kiran Sharma                                      AZAMGARH     \n",
       "3 M. Aamir Rashadi                                  AZAMGARH     \n",
       "4 Rakesh Kumar Giri                                 MAHARAJGANJ  \n",
       "5 (Kuppal)G.Devadoss                                CHENNAI SOUTH\n",
       "6 (Maj Gen (Retd.) ) Bhuwan Chandra Khanduri (Avsm) GARHWAL      \n",
       "  Criminal.Cases Education             ID   Party                        Sno\n",
       "1 8              Post Graduate          148 JD(U)                        1  \n",
       "2 0              8th Pass              9487 Bhartiya Shakti Chetna Party 2  \n",
       "3 1              Others                9496 Rashtriya Ulama Council      3  \n",
       "4 0              Graduate Professional 9706 IND                          4  \n",
       "5 0              8th Pass              6912 IND                          5  \n",
       "6 0              Graduate Professional   74 BJP                          6  \n",
       "  Total.Assets Total.Liabilities Year ST_CODE PC_CODE\n",
       "1 154566136    2604969           2014 S04     39     \n",
       "2   3509407     325000           2014 S24     69     \n",
       "3   2191523          0           2014 S24     69     \n",
       "4    306023          0           2014 S24     63     \n",
       "5   3630000     850000           2014 S22      3     \n",
       "6  44357368          0           2014 S28      2     "
      ]
     },
     "metadata": {},
     "output_type": "display_data"
    }
   ],
   "source": [
    "head(Candidate2014Declaration)"
   ]
  },
  {
   "cell_type": "code",
   "execution_count": 43,
   "metadata": {
    "collapsed": true
   },
   "outputs": [],
   "source": [
    "Candidate2014Declaration$Candidate = trimws(tolower(Candidate2014Declaration$Candidate))\n",
    "Candidate2014Declaration$Candidate = sapply(Candidate2014Declaration$Candidate,function(x) gsub('[ ]{2,}', ' ',x))\n",
    "Candidate2014Declaration$Candidate = sapply(Candidate2014Declaration$Candidate,function(x) gsub('[[:punct:]]', '',x, perl = T))"
   ]
  },
  {
   "cell_type": "code",
   "execution_count": 44,
   "metadata": {
    "collapsed": true
   },
   "outputs": [],
   "source": [
    "Candidate2014Declaration = Candidate2014Declaration[with(Candidate2014Declaration,order(ST_CODE, PC_CODE)),]"
   ]
  },
  {
   "cell_type": "code",
   "execution_count": 45,
   "metadata": {},
   "outputs": [
    {
     "data": {
      "text/html": [
       "<table>\n",
       "<thead><tr><th></th><th scope=col>Candidate</th><th scope=col>Constituency</th><th scope=col>Criminal.Cases</th><th scope=col>Education</th><th scope=col>ID</th><th scope=col>Party</th><th scope=col>Sno</th><th scope=col>Total.Assets</th><th scope=col>Total.Liabilities</th><th scope=col>Year</th><th scope=col>ST_CODE</th><th scope=col>PC_CODE</th></tr></thead>\n",
       "<tbody>\n",
       "\t<tr><th scope=row>962</th><td>banka sahadev   </td><td>ADILABAD        </td><td>1               </td><td>Graduate        </td><td>7678            </td><td>IND             </td><td> 962            </td><td>  393000        </td><td>     0          </td><td>2014            </td><td>S01             </td><td>1               </td></tr>\n",
       "\t<tr><th scope=row>2255</th><td>godam nagesh    </td><td>ADILABAD        </td><td>0               </td><td>Post Graduate   </td><td>7674            </td><td>TRS             </td><td>2255            </td><td>10378857        </td><td>148784          </td><td>2014            </td><td>S01             </td><td>1               </td></tr>\n",
       "\t<tr><th scope=row>4306</th><td>mosali chinnaiah</td><td>ADILABAD        </td><td>0               </td><td>12th Pass       </td><td>6202            </td><td>IND             </td><td>4306            </td><td> 3167000        </td><td> 40000          </td><td>2014            </td><td>S01             </td><td>1               </td></tr>\n",
       "\t<tr><th scope=row>4561</th><td>naresh          </td><td>ADILABAD        </td><td>0               </td><td>Doctorate       </td><td>7675            </td><td>INC             </td><td>4561            </td><td> 1800000        </td><td>     0          </td><td>2014            </td><td>S01             </td><td>1               </td></tr>\n",
       "\t<tr><th scope=row>4649</th><td>nethawath ramdas</td><td>ADILABAD        </td><td>0               </td><td>Illiterate      </td><td>6201            </td><td>IND             </td><td>4649            </td><td>       0        </td><td>     0          </td><td>2014            </td><td>S01             </td><td>1               </td></tr>\n",
       "\t<tr><th scope=row>5045</th><td>pawar krishna   </td><td>ADILABAD        </td><td>1               </td><td>Post Graduate   </td><td>7677            </td><td>IND             </td><td>5045            </td><td>       0        </td><td>     0          </td><td>2014            </td><td>S01             </td><td>1               </td></tr>\n",
       "</tbody>\n",
       "</table>\n"
      ],
      "text/latex": [
       "\\begin{tabular}{r|llllllllllll}\n",
       "  & Candidate & Constituency & Criminal.Cases & Education & ID & Party & Sno & Total.Assets & Total.Liabilities & Year & ST\\_CODE & PC\\_CODE\\\\\n",
       "\\hline\n",
       "\t962 & banka sahadev    & ADILABAD         & 1                & Graduate         & 7678             & IND              &  962             &   393000         &      0           & 2014             & S01              & 1               \\\\\n",
       "\t2255 & godam nagesh     & ADILABAD         & 0                & Post Graduate    & 7674             & TRS              & 2255             & 10378857         & 148784           & 2014             & S01              & 1               \\\\\n",
       "\t4306 & mosali chinnaiah & ADILABAD         & 0                & 12th Pass        & 6202             & IND              & 4306             &  3167000         &  40000           & 2014             & S01              & 1               \\\\\n",
       "\t4561 & naresh           & ADILABAD         & 0                & Doctorate        & 7675             & INC              & 4561             &  1800000         &      0           & 2014             & S01              & 1               \\\\\n",
       "\t4649 & nethawath ramdas & ADILABAD         & 0                & Illiterate       & 6201             & IND              & 4649             &        0         &      0           & 2014             & S01              & 1               \\\\\n",
       "\t5045 & pawar krishna    & ADILABAD         & 1                & Post Graduate    & 7677             & IND              & 5045             &        0         &      0           & 2014             & S01              & 1               \\\\\n",
       "\\end{tabular}\n"
      ],
      "text/markdown": [
       "\n",
       "| <!--/--> | Candidate | Constituency | Criminal.Cases | Education | ID | Party | Sno | Total.Assets | Total.Liabilities | Year | ST_CODE | PC_CODE | \n",
       "|---|---|---|---|---|---|\n",
       "| 962 | banka sahadev    | ADILABAD         | 1                | Graduate         | 7678             | IND              |  962             |   393000         |      0           | 2014             | S01              | 1                | \n",
       "| 2255 | godam nagesh     | ADILABAD         | 0                | Post Graduate    | 7674             | TRS              | 2255             | 10378857         | 148784           | 2014             | S01              | 1                | \n",
       "| 4306 | mosali chinnaiah | ADILABAD         | 0                | 12th Pass        | 6202             | IND              | 4306             |  3167000         |  40000           | 2014             | S01              | 1                | \n",
       "| 4561 | naresh           | ADILABAD         | 0                | Doctorate        | 7675             | INC              | 4561             |  1800000         |      0           | 2014             | S01              | 1                | \n",
       "| 4649 | nethawath ramdas | ADILABAD         | 0                | Illiterate       | 6201             | IND              | 4649             |        0         |      0           | 2014             | S01              | 1                | \n",
       "| 5045 | pawar krishna    | ADILABAD         | 1                | Post Graduate    | 7677             | IND              | 5045             |        0         |      0           | 2014             | S01              | 1                | \n",
       "\n",
       "\n"
      ],
      "text/plain": [
       "     Candidate        Constituency Criminal.Cases Education     ID   Party Sno \n",
       "962  banka sahadev    ADILABAD     1              Graduate      7678 IND    962\n",
       "2255 godam nagesh     ADILABAD     0              Post Graduate 7674 TRS   2255\n",
       "4306 mosali chinnaiah ADILABAD     0              12th Pass     6202 IND   4306\n",
       "4561 naresh           ADILABAD     0              Doctorate     7675 INC   4561\n",
       "4649 nethawath ramdas ADILABAD     0              Illiterate    6201 IND   4649\n",
       "5045 pawar krishna    ADILABAD     1              Post Graduate 7677 IND   5045\n",
       "     Total.Assets Total.Liabilities Year ST_CODE PC_CODE\n",
       "962    393000          0            2014 S01     1      \n",
       "2255 10378857     148784            2014 S01     1      \n",
       "4306  3167000      40000            2014 S01     1      \n",
       "4561  1800000          0            2014 S01     1      \n",
       "4649        0          0            2014 S01     1      \n",
       "5045        0          0            2014 S01     1      "
      ]
     },
     "metadata": {},
     "output_type": "display_data"
    }
   ],
   "source": [
    "head(Candidate2014Declaration)"
   ]
  },
  {
   "cell_type": "code",
   "execution_count": 46,
   "metadata": {},
   "outputs": [
    {
     "data": {
      "text/html": [
       "<ol class=list-inline>\n",
       "\t<li>'STATE.CODE_2014'</li>\n",
       "\t<li>'PC.NO_2014'</li>\n",
       "\t<li>'CANDIDATE.NAME'</li>\n",
       "\t<li>'STATE_2014'</li>\n",
       "\t<li>'PARLIAMENTARY.CONSTITUENCY_2014'</li>\n",
       "\t<li>'POLL.PERCENTAGE_2014'</li>\n",
       "\t<li>'TOTAL.VOTERS_2009'</li>\n",
       "\t<li>'TOTAL_ELECTORS_2009'</li>\n",
       "\t<li>'POLL.PERCENTAGE_2009'</li>\n",
       "\t<li>'TOT_CONTESTANT_2009'</li>\n",
       "\t<li>'PC.TYPE'</li>\n",
       "\t<li>'CANDIDATE.SEX'</li>\n",
       "\t<li>'TOTAL.VOTERS_2014'</li>\n",
       "\t<li>'CANDIDATE.CATEGORY'</li>\n",
       "\t<li>'CANDIDATE.AGE'</li>\n",
       "\t<li>'PARTY.ABBREVIATION'</li>\n",
       "\t<li>'TOTAL.VOTES.POLLED'</li>\n",
       "\t<li>'TOTAL_ELECTORS_2014'</li>\n",
       "\t<li>'POSITION.2009'</li>\n",
       "\t<li>'POSITION'</li>\n",
       "\t<li>'PC.NAME.2009'</li>\n",
       "\t<li>'PARTY.ABBREVIATION.2009'</li>\n",
       "\t<li>'TOTAL.VOTES.POLLED.2009'</li>\n",
       "\t<li>'Constituency'</li>\n",
       "\t<li>'Criminal.Cases'</li>\n",
       "\t<li>'Education'</li>\n",
       "\t<li>'ID'</li>\n",
       "\t<li>'Party'</li>\n",
       "\t<li>'Sno'</li>\n",
       "\t<li>'Total.Assets'</li>\n",
       "\t<li>'Total.Liabilities'</li>\n",
       "\t<li>'Year'</li>\n",
       "</ol>\n"
      ],
      "text/latex": [
       "\\begin{enumerate*}\n",
       "\\item 'STATE.CODE\\_2014'\n",
       "\\item 'PC.NO\\_2014'\n",
       "\\item 'CANDIDATE.NAME'\n",
       "\\item 'STATE\\_2014'\n",
       "\\item 'PARLIAMENTARY.CONSTITUENCY\\_2014'\n",
       "\\item 'POLL.PERCENTAGE\\_2014'\n",
       "\\item 'TOTAL.VOTERS\\_2009'\n",
       "\\item 'TOTAL\\_ELECTORS\\_2009'\n",
       "\\item 'POLL.PERCENTAGE\\_2009'\n",
       "\\item 'TOT\\_CONTESTANT\\_2009'\n",
       "\\item 'PC.TYPE'\n",
       "\\item 'CANDIDATE.SEX'\n",
       "\\item 'TOTAL.VOTERS\\_2014'\n",
       "\\item 'CANDIDATE.CATEGORY'\n",
       "\\item 'CANDIDATE.AGE'\n",
       "\\item 'PARTY.ABBREVIATION'\n",
       "\\item 'TOTAL.VOTES.POLLED'\n",
       "\\item 'TOTAL\\_ELECTORS\\_2014'\n",
       "\\item 'POSITION.2009'\n",
       "\\item 'POSITION'\n",
       "\\item 'PC.NAME.2009'\n",
       "\\item 'PARTY.ABBREVIATION.2009'\n",
       "\\item 'TOTAL.VOTES.POLLED.2009'\n",
       "\\item 'Constituency'\n",
       "\\item 'Criminal.Cases'\n",
       "\\item 'Education'\n",
       "\\item 'ID'\n",
       "\\item 'Party'\n",
       "\\item 'Sno'\n",
       "\\item 'Total.Assets'\n",
       "\\item 'Total.Liabilities'\n",
       "\\item 'Year'\n",
       "\\end{enumerate*}\n"
      ],
      "text/markdown": [
       "1. 'STATE.CODE_2014'\n",
       "2. 'PC.NO_2014'\n",
       "3. 'CANDIDATE.NAME'\n",
       "4. 'STATE_2014'\n",
       "5. 'PARLIAMENTARY.CONSTITUENCY_2014'\n",
       "6. 'POLL.PERCENTAGE_2014'\n",
       "7. 'TOTAL.VOTERS_2009'\n",
       "8. 'TOTAL_ELECTORS_2009'\n",
       "9. 'POLL.PERCENTAGE_2009'\n",
       "10. 'TOT_CONTESTANT_2009'\n",
       "11. 'PC.TYPE'\n",
       "12. 'CANDIDATE.SEX'\n",
       "13. 'TOTAL.VOTERS_2014'\n",
       "14. 'CANDIDATE.CATEGORY'\n",
       "15. 'CANDIDATE.AGE'\n",
       "16. 'PARTY.ABBREVIATION'\n",
       "17. 'TOTAL.VOTES.POLLED'\n",
       "18. 'TOTAL_ELECTORS_2014'\n",
       "19. 'POSITION.2009'\n",
       "20. 'POSITION'\n",
       "21. 'PC.NAME.2009'\n",
       "22. 'PARTY.ABBREVIATION.2009'\n",
       "23. 'TOTAL.VOTES.POLLED.2009'\n",
       "24. 'Constituency'\n",
       "25. 'Criminal.Cases'\n",
       "26. 'Education'\n",
       "27. 'ID'\n",
       "28. 'Party'\n",
       "29. 'Sno'\n",
       "30. 'Total.Assets'\n",
       "31. 'Total.Liabilities'\n",
       "32. 'Year'\n",
       "\n",
       "\n"
      ],
      "text/plain": [
       " [1] \"STATE.CODE_2014\"                 \"PC.NO_2014\"                     \n",
       " [3] \"CANDIDATE.NAME\"                  \"STATE_2014\"                     \n",
       " [5] \"PARLIAMENTARY.CONSTITUENCY_2014\" \"POLL.PERCENTAGE_2014\"           \n",
       " [7] \"TOTAL.VOTERS_2009\"               \"TOTAL_ELECTORS_2009\"            \n",
       " [9] \"POLL.PERCENTAGE_2009\"            \"TOT_CONTESTANT_2009\"            \n",
       "[11] \"PC.TYPE\"                         \"CANDIDATE.SEX\"                  \n",
       "[13] \"TOTAL.VOTERS_2014\"               \"CANDIDATE.CATEGORY\"             \n",
       "[15] \"CANDIDATE.AGE\"                   \"PARTY.ABBREVIATION\"             \n",
       "[17] \"TOTAL.VOTES.POLLED\"              \"TOTAL_ELECTORS_2014\"            \n",
       "[19] \"POSITION.2009\"                   \"POSITION\"                       \n",
       "[21] \"PC.NAME.2009\"                    \"PARTY.ABBREVIATION.2009\"        \n",
       "[23] \"TOTAL.VOTES.POLLED.2009\"         \"Constituency\"                   \n",
       "[25] \"Criminal.Cases\"                  \"Education\"                      \n",
       "[27] \"ID\"                              \"Party\"                          \n",
       "[29] \"Sno\"                             \"Total.Assets\"                   \n",
       "[31] \"Total.Liabilities\"               \"Year\"                           "
      ]
     },
     "metadata": {},
     "output_type": "display_data"
    }
   ],
   "source": [
    "OverallData = merge(x=Elector_Candidate,y=Candidate2014Declaration,by.x = c('STATE.CODE_2014','PC.NO_2014','CANDIDATE.NAME'), by.y = c('ST_CODE','PC_CODE','Candidate'))\n",
    "names(OverallData)"
   ]
  },
  {
   "cell_type": "code",
   "execution_count": 67,
   "metadata": {},
   "outputs": [
    {
     "data": {
      "text/html": [
       "<table>\n",
       "<thead><tr><th scope=col>STATE.CODE_2014</th><th scope=col>STATE_2014</th><th scope=col>PC.NO_2014</th><th scope=col>PARLIAMENTARY.CONSTITUENCY_2014</th><th scope=col>PC.TYPE</th><th scope=col>TOTAL.VOTERS_2014</th><th scope=col>TOTAL_ELECTORS_2014</th><th scope=col>TOTAL.VOTERS_2009</th><th scope=col>TOTAL_ELECTORS_2009</th><th scope=col>POLL.PERCENTAGE_2009</th><th scope=col>...</th><th scope=col>CANDIDATE.CATEGORY</th><th scope=col>CANDIDATE.AGE</th><th scope=col>PARTY.ABBREVIATION</th><th scope=col>Criminal.Cases</th><th scope=col>Education</th><th scope=col>Total.Assets</th><th scope=col>Total.Liabilities</th><th scope=col>POLL.PERCENTAGE_2014</th><th scope=col>TOTAL.VOTES.POLLED</th><th scope=col>POSITION</th></tr></thead>\n",
       "<tbody>\n",
       "\t<tr><td>S01           </td><td>andhra pradesh</td><td>1             </td><td>adilabad      </td><td>ST            </td><td>1055593       </td><td>1386282       </td><td>864165        </td><td>1131211       </td><td>76.39         </td><td>...           </td><td>M             </td><td>53            </td><td>IND           </td><td>1             </td><td>Graduate      </td><td>  393000      </td><td>     0        </td><td>76.15         </td><td>  4787        </td><td>9             </td></tr>\n",
       "\t<tr><td>S01           </td><td>andhra pradesh</td><td>1             </td><td>adilabad      </td><td>ST            </td><td>1055593       </td><td>1386282       </td><td>864165        </td><td>1131211       </td><td>76.39         </td><td>...           </td><td>M             </td><td>49            </td><td>TRS           </td><td>0             </td><td>Post Graduate </td><td>10378857      </td><td>148784        </td><td>76.15         </td><td>430847        </td><td>1             </td></tr>\n",
       "\t<tr><td>S01           </td><td>andhra pradesh</td><td>1             </td><td>adilabad      </td><td>ST            </td><td>1055593       </td><td>1386282       </td><td>864165        </td><td>1131211       </td><td>76.39         </td><td>...           </td><td>M             </td><td>40            </td><td>IND           </td><td>0             </td><td>12th Pass     </td><td> 3167000      </td><td> 40000        </td><td>76.15         </td><td>  8859        </td><td>7             </td></tr>\n",
       "\t<tr><td>S01           </td><td>andhra pradesh</td><td>1             </td><td>adilabad      </td><td>ST            </td><td>1055593       </td><td>1386282       </td><td>864165        </td><td>1131211       </td><td>76.39         </td><td>...           </td><td>M             </td><td>37            </td><td>INC           </td><td>0             </td><td>Doctorate     </td><td> 1800000      </td><td>     0        </td><td>76.15         </td><td>259557        </td><td>2             </td></tr>\n",
       "\t<tr><td>S01           </td><td>andhra pradesh</td><td>1             </td><td>adilabad      </td><td>ST            </td><td>1055593       </td><td>1386282       </td><td>864165        </td><td>1131211       </td><td>76.39         </td><td>...           </td><td>M             </td><td>44            </td><td>IND           </td><td>0             </td><td>Illiterate    </td><td>       0      </td><td>     0        </td><td>76.15         </td><td> 41032        </td><td>5             </td></tr>\n",
       "\t<tr><td>S01           </td><td>andhra pradesh</td><td>1             </td><td>adilabad      </td><td>ST            </td><td>1055593       </td><td>1386282       </td><td>864165        </td><td>1131211       </td><td>76.39         </td><td>...           </td><td>M             </td><td>33            </td><td>IND           </td><td>1             </td><td>Post Graduate </td><td>       0      </td><td>     0        </td><td>76.15         </td><td>  5055        </td><td>8             </td></tr>\n",
       "</tbody>\n",
       "</table>\n"
      ],
      "text/latex": [
       "\\begin{tabular}{r|lllllllllllllllllllllllllll}\n",
       " STATE.CODE\\_2014 & STATE\\_2014 & PC.NO\\_2014 & PARLIAMENTARY.CONSTITUENCY\\_2014 & PC.TYPE & TOTAL.VOTERS\\_2014 & TOTAL\\_ELECTORS\\_2014 & TOTAL.VOTERS\\_2009 & TOTAL\\_ELECTORS\\_2009 & POLL.PERCENTAGE\\_2009 & ... & CANDIDATE.CATEGORY & CANDIDATE.AGE & PARTY.ABBREVIATION & Criminal.Cases & Education & Total.Assets & Total.Liabilities & POLL.PERCENTAGE\\_2014 & TOTAL.VOTES.POLLED & POSITION\\\\\n",
       "\\hline\n",
       "\t S01            & andhra pradesh & 1              & adilabad       & ST             & 1055593        & 1386282        & 864165         & 1131211        & 76.39          & ...            & M              & 53             & IND            & 1              & Graduate       &   393000       &      0         & 76.15          &   4787         & 9             \\\\\n",
       "\t S01            & andhra pradesh & 1              & adilabad       & ST             & 1055593        & 1386282        & 864165         & 1131211        & 76.39          & ...            & M              & 49             & TRS            & 0              & Post Graduate  & 10378857       & 148784         & 76.15          & 430847         & 1             \\\\\n",
       "\t S01            & andhra pradesh & 1              & adilabad       & ST             & 1055593        & 1386282        & 864165         & 1131211        & 76.39          & ...            & M              & 40             & IND            & 0              & 12th Pass      &  3167000       &  40000         & 76.15          &   8859         & 7             \\\\\n",
       "\t S01            & andhra pradesh & 1              & adilabad       & ST             & 1055593        & 1386282        & 864165         & 1131211        & 76.39          & ...            & M              & 37             & INC            & 0              & Doctorate      &  1800000       &      0         & 76.15          & 259557         & 2             \\\\\n",
       "\t S01            & andhra pradesh & 1              & adilabad       & ST             & 1055593        & 1386282        & 864165         & 1131211        & 76.39          & ...            & M              & 44             & IND            & 0              & Illiterate     &        0       &      0         & 76.15          &  41032         & 5             \\\\\n",
       "\t S01            & andhra pradesh & 1              & adilabad       & ST             & 1055593        & 1386282        & 864165         & 1131211        & 76.39          & ...            & M              & 33             & IND            & 1              & Post Graduate  &        0       &      0         & 76.15          &   5055         & 8             \\\\\n",
       "\\end{tabular}\n"
      ],
      "text/markdown": [
       "\n",
       "STATE.CODE_2014 | STATE_2014 | PC.NO_2014 | PARLIAMENTARY.CONSTITUENCY_2014 | PC.TYPE | TOTAL.VOTERS_2014 | TOTAL_ELECTORS_2014 | TOTAL.VOTERS_2009 | TOTAL_ELECTORS_2009 | POLL.PERCENTAGE_2009 | ... | CANDIDATE.CATEGORY | CANDIDATE.AGE | PARTY.ABBREVIATION | Criminal.Cases | Education | Total.Assets | Total.Liabilities | POLL.PERCENTAGE_2014 | TOTAL.VOTES.POLLED | POSITION | \n",
       "|---|---|---|---|---|---|\n",
       "| S01            | andhra pradesh | 1              | adilabad       | ST             | 1055593        | 1386282        | 864165         | 1131211        | 76.39          | ...            | M              | 53             | IND            | 1              | Graduate       |   393000       |      0         | 76.15          |   4787         | 9              | \n",
       "| S01            | andhra pradesh | 1              | adilabad       | ST             | 1055593        | 1386282        | 864165         | 1131211        | 76.39          | ...            | M              | 49             | TRS            | 0              | Post Graduate  | 10378857       | 148784         | 76.15          | 430847         | 1              | \n",
       "| S01            | andhra pradesh | 1              | adilabad       | ST             | 1055593        | 1386282        | 864165         | 1131211        | 76.39          | ...            | M              | 40             | IND            | 0              | 12th Pass      |  3167000       |  40000         | 76.15          |   8859         | 7              | \n",
       "| S01            | andhra pradesh | 1              | adilabad       | ST             | 1055593        | 1386282        | 864165         | 1131211        | 76.39          | ...            | M              | 37             | INC            | 0              | Doctorate      |  1800000       |      0         | 76.15          | 259557         | 2              | \n",
       "| S01            | andhra pradesh | 1              | adilabad       | ST             | 1055593        | 1386282        | 864165         | 1131211        | 76.39          | ...            | M              | 44             | IND            | 0              | Illiterate     |        0       |      0         | 76.15          |  41032         | 5              | \n",
       "| S01            | andhra pradesh | 1              | adilabad       | ST             | 1055593        | 1386282        | 864165         | 1131211        | 76.39          | ...            | M              | 33             | IND            | 1              | Post Graduate  |        0       |      0         | 76.15          |   5055         | 8              | \n",
       "\n",
       "\n"
      ],
      "text/plain": [
       "  STATE.CODE_2014 STATE_2014     PC.NO_2014 PARLIAMENTARY.CONSTITUENCY_2014\n",
       "1 S01             andhra pradesh 1          adilabad                       \n",
       "2 S01             andhra pradesh 1          adilabad                       \n",
       "3 S01             andhra pradesh 1          adilabad                       \n",
       "4 S01             andhra pradesh 1          adilabad                       \n",
       "5 S01             andhra pradesh 1          adilabad                       \n",
       "6 S01             andhra pradesh 1          adilabad                       \n",
       "  PC.TYPE TOTAL.VOTERS_2014 TOTAL_ELECTORS_2014 TOTAL.VOTERS_2009\n",
       "1 ST      1055593           1386282             864165           \n",
       "2 ST      1055593           1386282             864165           \n",
       "3 ST      1055593           1386282             864165           \n",
       "4 ST      1055593           1386282             864165           \n",
       "5 ST      1055593           1386282             864165           \n",
       "6 ST      1055593           1386282             864165           \n",
       "  TOTAL_ELECTORS_2009 POLL.PERCENTAGE_2009 ... CANDIDATE.CATEGORY CANDIDATE.AGE\n",
       "1 1131211             76.39                ... M                  53           \n",
       "2 1131211             76.39                ... M                  49           \n",
       "3 1131211             76.39                ... M                  40           \n",
       "4 1131211             76.39                ... M                  37           \n",
       "5 1131211             76.39                ... M                  44           \n",
       "6 1131211             76.39                ... M                  33           \n",
       "  PARTY.ABBREVIATION Criminal.Cases Education     Total.Assets\n",
       "1 IND                1              Graduate        393000    \n",
       "2 TRS                0              Post Graduate 10378857    \n",
       "3 IND                0              12th Pass      3167000    \n",
       "4 INC                0              Doctorate      1800000    \n",
       "5 IND                0              Illiterate           0    \n",
       "6 IND                1              Post Graduate        0    \n",
       "  Total.Liabilities POLL.PERCENTAGE_2014 TOTAL.VOTES.POLLED POSITION\n",
       "1      0            76.15                  4787             9       \n",
       "2 148784            76.15                430847             1       \n",
       "3  40000            76.15                  8859             7       \n",
       "4      0            76.15                259557             2       \n",
       "5      0            76.15                 41032             5       \n",
       "6      0            76.15                  5055             8       "
      ]
     },
     "metadata": {},
     "output_type": "display_data"
    }
   ],
   "source": [
    "OverallData = OverallData[,c('STATE.CODE_2014','STATE_2014','PC.NO_2014','PARLIAMENTARY.CONSTITUENCY_2014','PC.TYPE','TOTAL.VOTERS_2014','TOTAL_ELECTORS_2014','TOTAL.VOTERS_2009','TOTAL_ELECTORS_2009','POLL.PERCENTAGE_2009','TOT_CONTESTANT_2009','PARTY.ABBREVIATION.2009','TOTAL.VOTES.POLLED.2009','POSITION.2009','PC.NAME.2009','CANDIDATE.NAME','CANDIDATE.SEX','CANDIDATE.CATEGORY','CANDIDATE.AGE','PARTY.ABBREVIATION','Criminal.Cases','Education','Total.Assets','Total.Liabilities','POLL.PERCENTAGE_2014','TOTAL.VOTES.POLLED','POSITION')]\n",
    "head(OverallData)"
   ]
  },
  {
   "cell_type": "markdown",
   "metadata": {},
   "source": [
    "## Variable Selection"
   ]
  },
  {
   "cell_type": "markdown",
   "metadata": {},
   "source": [
    "#### PC Type"
   ]
  },
  {
   "cell_type": "code",
   "execution_count": 65,
   "metadata": {},
   "outputs": [],
   "source": [
    "OverallData$PC.TYPE = trimws(OverallData$PC.TYPE)\n",
    "\n",
    "OverallData$M_PCTYPE_ST = ifelse(OverallData$PC.TYPE == 'ST',1,0)\n",
    "OverallData$M_PCTYPE_SC = ifelse(OverallData$PC.TYPE == 'SC',1,0)\n",
    "OverallData$M_PCTYPE_GEN = ifelse(OverallData$PC.TYPE == 'GEN',1,0)"
   ]
  },
  {
   "cell_type": "markdown",
   "metadata": {},
   "source": [
    "#### TOTAL.VOTERS"
   ]
  },
  {
   "cell_type": "code",
   "execution_count": 66,
   "metadata": {},
   "outputs": [],
   "source": [
    "TotalVotersPropotion = scale(OverallData$TOTAL.VOTERS_2014)\n",
    "OverallData$M_TotalVotersPropotion = TotalVotersPropotion"
   ]
  },
  {
   "cell_type": "code",
   "execution_count": null,
   "metadata": {
    "collapsed": true
   },
   "outputs": [],
   "source": []
  },
  {
   "cell_type": "markdown",
   "metadata": {},
   "source": [
    "\n",
    "# Tasks Pending\n",
    "# Calculate Total Candidates by Aggrigating the data from LS2014Candidates and add it to Electors while merging.\n"
   ]
  }
 ],
 "metadata": {
  "kernelspec": {
   "display_name": "R",
   "language": "R",
   "name": "ir"
  },
  "language_info": {
   "codemirror_mode": "r",
   "file_extension": ".r",
   "mimetype": "text/x-r-source",
   "name": "R",
   "pygments_lexer": "r",
   "version": "3.4.1"
  }
 },
 "nbformat": 4,
 "nbformat_minor": 2
}
