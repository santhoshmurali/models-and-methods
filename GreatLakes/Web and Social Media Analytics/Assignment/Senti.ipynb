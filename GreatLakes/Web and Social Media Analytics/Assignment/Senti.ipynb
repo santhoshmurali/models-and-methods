{
 "cells": [
  {
   "cell_type": "markdown",
   "metadata": {},
   "source": [
    "# Twitter Sentiment Analysis\n",
    "### Assignment: Social media analytics - Text mining\n",
    "### #Objective: Brand perception analysis\n",
    "### Instructions for each group:\n",
    "  * Identify a brand - any global or Indian product, celebrity, company etc\n",
    "  * For the identified brand download a minimum 1000 twitter messages for the most recent period\n",
    "  * Conduct text mining on the data – Correlation, Frequency, Topic Modelling, Sentiment Analysis\n",
    "  * Submit analysis report and code as part of the assignment – R Markdown document only if using R\n",
    "  * Can leverage any tool for data visualization, text mining, ML etc\n",
    "  * Can expand the source of data to face book or any other source as well, but twitter is a must\n",
    "  * No two groups should have the same brand\n"
   ]
  },
  {
   "cell_type": "markdown",
   "metadata": {},
   "source": [
    "##### List of Required Libraties\n",
    "* twitteR"
   ]
  },
  {
   "cell_type": "code",
   "execution_count": 1,
   "metadata": {
    "collapsed": true
   },
   "outputs": [],
   "source": [
    "# install.packages(\"twitteR\")\n",
    "library(twitteR)"
   ]
  },
  {
   "cell_type": "code",
   "execution_count": 5,
   "metadata": {},
   "outputs": [
    {
     "name": "stdout",
     "output_type": "stream",
     "text": [
      "[1] \"Using browser based authentication\"\n"
     ]
    },
    {
     "ename": "ERROR",
     "evalue": "Error: oauth_listener() needs an interactive environment.\n",
     "output_type": "error",
     "traceback": [
      "Error: oauth_listener() needs an interactive environment.\nTraceback:\n",
      "1. setup_twitter_oauth(consumer_key = \"mJsnRMKaLZ6nR6Zk55VvUV7jF\", \n .     consumer_secret = \"nwwaMduWOFoxBT9ztZtMwRoUGDj0oFquFOKkG5UZpz7pXXxIih\")",
      "2. token_func(app, access_token, access_secret)",
      "3. oauth1.0_token(oauth_endpoints(\"twitter\"), app)",
      "4. Token1.0$new(app = app, endpoint = endpoint, params = params, \n .     private_key = private_key, cache_path = cache)",
      "5. .subset2(public_bind_env, \"initialize\")(...)",
      "6. self$init_credentials()",
      "7. init_oauth1.0(self$endpoint, self$app, permission = self$params$permission, \n .     private_key = self$private_key)",
      "8. oauth_listener(authorize_url, is_interactive)",
      "9. stop(\"oauth_listener() needs an interactive environment.\", call. = FALSE)"
     ]
    }
   ],
   "source": [
    "setup_twitter_oauth(consumer_key = 'mJsnRMKaLZ6nR6Zk55VvUV7jF',consumer_secret = 'nwwaMduWOFoxBT9ztZtMwRoUGDj0oFquFOKkG5UZpz7pXXxIih')"
   ]
  }
 ],
 "metadata": {
  "kernelspec": {
   "display_name": "R",
   "language": "R",
   "name": "ir"
  },
  "language_info": {
   "codemirror_mode": "r",
   "file_extension": ".r",
   "mimetype": "text/x-r-source",
   "name": "R",
   "pygments_lexer": "r",
   "version": "3.4.1"
  }
 },
 "nbformat": 4,
 "nbformat_minor": 2
}
