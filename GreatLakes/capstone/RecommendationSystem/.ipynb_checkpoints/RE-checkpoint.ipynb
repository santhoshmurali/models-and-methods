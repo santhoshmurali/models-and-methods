{
 "cells": [
  {
   "cell_type": "code",
   "execution_count": 1,
   "metadata": {
    "collapsed": true
   },
   "outputs": [],
   "source": [
    "import pandas as pd\n",
    "import numpy as np\n",
    "import datetime\n",
    "import random\n",
    "from scipy import spatial\n",
    "import math\n",
    "import json\n",
    "\n",
    "from pymongo import MongoClient\n",
    "mdbClient = MongoClient('localhost',27017)"
   ]
  },
  {
   "cell_type": "code",
   "execution_count": 2,
   "metadata": {
    "collapsed": true
   },
   "outputs": [],
   "source": [
    "t0 = datetime.datetime.now()"
   ]
  },
  {
   "cell_type": "code",
   "execution_count": null,
   "metadata": {
    "collapsed": true
   },
   "outputs": [],
   "source": [
    "#Setting up the data\n",
    "t1 = datetime.datetime.now()\n",
    "users = np.random.choice(range(100,1000), 200)\n",
    "\n",
    "item_user_df = pd.DataFrame()\n",
    "\n",
    "\n",
    "for u in users:\n",
    "    products = np.random.choice(range(1001,1150),random.sample(range(1,35),1)[0])\n",
    "    for p in products:\n",
    "        item_user_df = item_user_df.append({'customer':u,'product':p,'count':1}, ignore_index=True)\n",
    "\n",
    "item_user_df['count'] = item_user_df['count'].astype('Int64')\n",
    "item_user_df['customer'] = item_user_df['customer'].astype('Int64')\n",
    "item_user_df['product'] = item_user_df['product'].astype('Int64')\n",
    "print(datetime.datetime.now() - t1)    \n"
   ]
  },
  {
   "cell_type": "code",
   "execution_count": 159,
   "metadata": {},
   "outputs": [
    {
     "name": "stdout",
     "output_type": "stream",
     "text": [
      "0:00:04.126401\n"
     ]
    }
   ],
   "source": [
    "\n",
    "\n",
    "t1 = datetime.datetime.now()\n",
    "# Assign the Rating Based on    of time user has purchased that product\n",
    "item_user_count = item_user_df.groupby(['customer','product']).aggregate(sum)\n",
    "item_user_count = item_user_count.reset_index()\n",
    "item_user_ratings = item_user_count\n",
    "item_user_ratings['Ratings']=np.nan\n",
    "\n",
    "\n",
    "#Randomly Assign the ratings\n",
    "ratingScale = np.array([1,2,3,4,5])\n",
    "for idx in item_user_ratings.index:\n",
    "    item_user_ratings.iloc[idx,3] = np.random.choice(ratingScale,1, p=[0.4,0.45,0.1,0.05,0.0])[0] if item_user_ratings.iloc[idx,2] ==1 else (np.random.choice(ratingScale,1, p=[0.05,0.2,0.4,0.3,0.05])[0] if item_user_ratings.iloc[0,2] == 2 else np.random.choice(ratingScale,1, p=[0.0,0.15,0.35,0.35,0.15])[0])\n",
    "\n",
    "print(datetime.datetime.now() - t1)\n",
    "\n"
   ]
  },
  {
   "cell_type": "code",
   "execution_count": 160,
   "metadata": {},
   "outputs": [
    {
     "name": "stdout",
     "output_type": "stream",
     "text": [
      "0:00:00.018029\n"
     ]
    }
   ],
   "source": [
    "\n",
    "# Centering the Rating\n",
    "t1 = datetime.datetime.now()\n",
    "AverageRating = item_user_ratings.loc[:,['product','Ratings']].groupby('product').mean()\n",
    "AverageRating = AverageRating.reset_index()\n",
    "item_user_ratings = pd.merge(item_user_ratings,AverageRating, on='product', how='left')\n",
    "item_user_ratings.columns = ['customer','product','count','OriginalRatings','AverageRatings']\n",
    "item_user_ratings['CenteredRatings'] = item_user_ratings.loc[:,'OriginalRatings'] - item_user_ratings.loc[:,'AverageRatings']\n",
    "item_user_ratings['OriginalRatings'] = item_user_ratings['OriginalRatings'].astype('Int64')\n",
    "print(datetime.datetime.now() - t1)\n",
    "\n"
   ]
  },
  {
   "cell_type": "code",
   "execution_count": 161,
   "metadata": {},
   "outputs": [
    {
     "name": "stdout",
     "output_type": "stream",
     "text": [
      "0:00:02.415783\n"
     ]
    }
   ],
   "source": [
    "\n",
    "# Create Item User Matrix with original rating and to be predircted ratings [this is used for measuring similarity]\n",
    "t1 = datetime.datetime.now()\n",
    "unique_products = np.unique(item_user_ratings['product'])\n",
    "unique_customers = np.unique(users)\n",
    "s_user_item_matrix = pd.DataFrame(0, columns=unique_customers, index=unique_products)\n",
    "o_user_item_matrix = pd.DataFrame(0, columns=unique_customers, index=unique_products)\n",
    "p_user_item_matrix = pd.DataFrame(0, columns=unique_customers, index=unique_products)\n",
    "\n",
    "for c in unique_customers:\n",
    "    s_user_item_matrix.loc[item_user_ratings.loc[item_user_ratings.loc[:,'customer'] == c,'product'],c] = np.array(item_user_ratings.loc[item_user_ratings.loc[:,'customer'] == c,'OriginalRatings'])\n",
    "    o_user_item_matrix.loc[item_user_ratings.loc[item_user_ratings.loc[:,'customer'] == c,'product'],c] = np.array(item_user_ratings.loc[item_user_ratings.loc[:,'customer'] == c,'OriginalRatings'])\n",
    "    p_user_item_matrix.loc[item_user_ratings.loc[item_user_ratings.loc[:,'customer'] == c,'product'],c] = np.array(item_user_ratings.loc[item_user_ratings.loc[:,'customer'] == c,'CenteredRatings'])\n",
    "print(datetime.datetime.now() - t1) \n"
   ]
  },
  {
   "cell_type": "code",
   "execution_count": 162,
   "metadata": {},
   "outputs": [
    {
     "name": "stdout",
     "output_type": "stream",
     "text": [
      "0:00:18.789250\n"
     ]
    }
   ],
   "source": [
    "#Calculating Cosine Similarity Index using p_user_itemMatrix\n",
    "t1 = datetime.datetime.now()\n",
    "item_item_matrix = pd.DataFrame(np.nan, columns=unique_products, index=unique_products)\n",
    "\n",
    "for prd1 in unique_products:\n",
    "    vec1 = p_user_item_matrix.loc[prd1,:]\n",
    "    for prd2 in unique_products:\n",
    "        vec2 = p_user_item_matrix.loc[prd2,:]\n",
    "        item_item_matrix.loc[prd1,prd2] = 1-spatial.distance.cosine(vec1,vec2)\n",
    "print(datetime.datetime.now() - t1)        \n",
    "\n"
   ]
  },
  {
   "cell_type": "code",
   "execution_count": 163,
   "metadata": {
    "collapsed": true
   },
   "outputs": [],
   "source": [
    "#Rating Prediction\n",
    "def FindNeighborAndRelativeWeight(user,item,items,n):\n",
    "    # This will return all the Similar Items that are rated related to the Selected item, 'item'\n",
    "    ItemSimilarities = pd.DataFrame(item_item_matrix.loc[items,item])\n",
    "    ItemSimilarities = ItemSimilarities.reset_index()\n",
    "    ItemSimilarities.columns = ['product_c','similarity']\n",
    "    # We will sort the item decending to have the most similar item first\n",
    "    ItemSimilarities = ItemSimilarities.sort_values('similarity',ascending=False)\n",
    "    # Based on the Number of similar neigbors (n), we can select those.\n",
    "    ItemSimilarities = ItemSimilarities.head(n)\n",
    "                                  \n",
    "    # We have totake the rating of Most similar product. To do that, we have to take the product id of most similar product and pass it back\n",
    "    # pass it basck to user item matrix to get the rating. Mind that the order has to be same.\n",
    "    # Otherwise sum product will go wrong\n",
    "    SimilarProducts = np.array(ItemSimilarities.loc[:,'product_c'])\n",
    "    \n",
    "    #Identify Similarity Score and Original Rating\n",
    "    SimilarityScore = np.array(ItemSimilarities.loc[:,'similarity'])\n",
    "    OriginalRating = np.array(o_user_item_matrix.loc[SimilarProducts,user])\n",
    "    \n",
    "    #Predict the Score using Weighted Average\n",
    "    SumSimilarities = sum(SimilarityScore) if sum(SimilarityScore) != 0 else .0001\n",
    "    p_rating = np.dot(SimilarityScore,OriginalRating)/SumSimilarities\n",
    "    \n",
    "    #o_user_item_matrix.loc[:,113]\n",
    "    return(math.ceil(p_rating))\n",
    "    #return(np.sort(item_item_matrix.loc[items,item],axis=-1,kind='quicksort')[::-1][:k])\n",
    "    "
   ]
  },
  {
   "cell_type": "code",
   "execution_count": 164,
   "metadata": {},
   "outputs": [
    {
     "name": "stdout",
     "output_type": "stream",
     "text": [
      "0:02:16.146203\n"
     ]
    }
   ],
   "source": [
    "t1 = datetime.datetime.now()\n",
    "# k - will hol dthe index keys for nonzero rating of the iser 'user'\n",
    "# O_U_I_U_R_I = Original User Item User Rated Item - Will hold the User rated Item' Ids\n",
    "for item in o_user_item_matrix.index:\n",
    "    for user in o_user_item_matrix.columns:\n",
    "        if o_user_item_matrix.loc[item,user] == 0:\n",
    "            k = np.nonzero(o_user_item_matrix.loc[:,user])\n",
    "            O_U_I_U_R_I = o_user_item_matrix.index[k]\n",
    "            o_user_item_matrix.loc[item,user] = FindNeighborAndRelativeWeight(user,item,O_U_I_U_R_I,2)\n",
    "\n",
    "print(datetime.datetime.now() - t1)\n"
   ]
  },
  {
   "cell_type": "code",
   "execution_count": 165,
   "metadata": {
    "collapsed": true
   },
   "outputs": [],
   "source": [
    "item_user_rating_complete = pd.DataFrame()"
   ]
  },
  {
   "cell_type": "code",
   "execution_count": 166,
   "metadata": {},
   "outputs": [
    {
     "name": "stdout",
     "output_type": "stream",
     "text": [
      "0:02:45.329342\n"
     ]
    }
   ],
   "source": [
    "t1 = datetime.datetime.now()\n",
    "for u in unique_customers:\n",
    "    for p in unique_products:\n",
    "        customer = u\n",
    "        product = p\n",
    "        predicted = 'N' if s_user_item_matrix.loc[product,customer] != 0 else 'Y'\n",
    "        item_user_rating_complete = item_user_rating_complete.append({'customer':customer,'product':product, 'rating' :o_user_item_matrix.loc[product,customer],'predicted':predicted }, ignore_index=True)       \n",
    "        \n",
    "print(datetime.datetime.now() - t1)"
   ]
  },
  {
   "cell_type": "code",
   "execution_count": 167,
   "metadata": {},
   "outputs": [
    {
     "data": {
      "text/plain": [
       "25777"
      ]
     },
     "execution_count": 167,
     "metadata": {},
     "output_type": "execute_result"
    }
   ],
   "source": [
    "len(item_user_rating_complete)"
   ]
  },
  {
   "cell_type": "code",
   "execution_count": 168,
   "metadata": {
    "collapsed": true
   },
   "outputs": [],
   "source": [
    "t1 = datetime.datetime.now()\n",
    "u_ = range(len(o_user_item_matrix.columns))\n",
    "p_ = range(len(o_user_item_matrix.index))\n",
    "## Insert Data to Mongo DB\n",
    "db = mdbClient.RE\n",
    "for c in db.collection_names():\n",
    "    db[c].drop()"
   ]
  },
  {
   "cell_type": "code",
   "execution_count": 169,
   "metadata": {
    "collapsed": true
   },
   "outputs": [],
   "source": [
    "col_item_user_rating = db.create_collection('item_user_rating')\n",
    "col_item_item_matrix = db.create_collection('item_item_matrix')"
   ]
  },
  {
   "cell_type": "code",
   "execution_count": 170,
   "metadata": {
    "collapsed": true
   },
   "outputs": [],
   "source": [
    "dict_item_user_rating_complete = item_user_rating_complete.T.to_dict().values()\n",
    "item_item_matrix_ = item_item_matrix.reset_index()\n",
    "item_item_matrix_.columns = item_item_matrix_.columns.astype('str')\n",
    "dict_item_item_matrix_complete = item_item_matrix_.T.to_dict().values()"
   ]
  },
  {
   "cell_type": "code",
   "execution_count": 171,
   "metadata": {},
   "outputs": [
    {
     "data": {
      "text/plain": [
       "<pymongo.results.InsertManyResult at 0x139da74b120>"
      ]
     },
     "execution_count": 171,
     "metadata": {},
     "output_type": "execute_result"
    }
   ],
   "source": [
    "col_item_user_rating.insert_many(dict_item_user_rating_complete)\n",
    "col_item_item_matrix.insert_many(dict_item_item_matrix_complete)"
   ]
  },
  {
   "cell_type": "code",
   "execution_count": 172,
   "metadata": {},
   "outputs": [
    {
     "data": {
      "text/html": [
       "<div>\n",
       "<style>\n",
       "    .dataframe thead tr:only-child th {\n",
       "        text-align: right;\n",
       "    }\n",
       "\n",
       "    .dataframe thead th {\n",
       "        text-align: left;\n",
       "    }\n",
       "\n",
       "    .dataframe tbody tr th {\n",
       "        vertical-align: top;\n",
       "    }\n",
       "</style>\n",
       "<table border=\"1\" class=\"dataframe\">\n",
       "  <thead>\n",
       "    <tr style=\"text-align: right;\">\n",
       "      <th></th>\n",
       "      <th>104</th>\n",
       "      <th>106</th>\n",
       "      <th>111</th>\n",
       "      <th>112</th>\n",
       "      <th>115</th>\n",
       "      <th>117</th>\n",
       "      <th>122</th>\n",
       "      <th>124</th>\n",
       "      <th>127</th>\n",
       "      <th>135</th>\n",
       "      <th>...</th>\n",
       "      <th>944</th>\n",
       "      <th>957</th>\n",
       "      <th>959</th>\n",
       "      <th>960</th>\n",
       "      <th>965</th>\n",
       "      <th>970</th>\n",
       "      <th>971</th>\n",
       "      <th>975</th>\n",
       "      <th>995</th>\n",
       "      <th>998</th>\n",
       "    </tr>\n",
       "  </thead>\n",
       "  <tbody>\n",
       "    <tr>\n",
       "      <th>1001</th>\n",
       "      <td>2</td>\n",
       "      <td>2</td>\n",
       "      <td>2</td>\n",
       "      <td>2</td>\n",
       "      <td>3</td>\n",
       "      <td>3</td>\n",
       "      <td>3</td>\n",
       "      <td>2</td>\n",
       "      <td>1</td>\n",
       "      <td>2</td>\n",
       "      <td>...</td>\n",
       "      <td>2</td>\n",
       "      <td>2</td>\n",
       "      <td>3</td>\n",
       "      <td>3</td>\n",
       "      <td>1</td>\n",
       "      <td>3</td>\n",
       "      <td>2</td>\n",
       "      <td>2</td>\n",
       "      <td>2</td>\n",
       "      <td>3</td>\n",
       "    </tr>\n",
       "    <tr>\n",
       "      <th>1002</th>\n",
       "      <td>2</td>\n",
       "      <td>2</td>\n",
       "      <td>2</td>\n",
       "      <td>2</td>\n",
       "      <td>3</td>\n",
       "      <td>2</td>\n",
       "      <td>2</td>\n",
       "      <td>2</td>\n",
       "      <td>2</td>\n",
       "      <td>2</td>\n",
       "      <td>...</td>\n",
       "      <td>2</td>\n",
       "      <td>2</td>\n",
       "      <td>3</td>\n",
       "      <td>2</td>\n",
       "      <td>1</td>\n",
       "      <td>4</td>\n",
       "      <td>2</td>\n",
       "      <td>2</td>\n",
       "      <td>2</td>\n",
       "      <td>3</td>\n",
       "    </tr>\n",
       "    <tr>\n",
       "      <th>1003</th>\n",
       "      <td>2</td>\n",
       "      <td>2</td>\n",
       "      <td>3</td>\n",
       "      <td>1</td>\n",
       "      <td>3</td>\n",
       "      <td>2</td>\n",
       "      <td>1</td>\n",
       "      <td>1</td>\n",
       "      <td>3</td>\n",
       "      <td>1</td>\n",
       "      <td>...</td>\n",
       "      <td>2</td>\n",
       "      <td>2</td>\n",
       "      <td>2</td>\n",
       "      <td>3</td>\n",
       "      <td>2</td>\n",
       "      <td>2</td>\n",
       "      <td>2</td>\n",
       "      <td>1</td>\n",
       "      <td>2</td>\n",
       "      <td>2</td>\n",
       "    </tr>\n",
       "    <tr>\n",
       "      <th>1004</th>\n",
       "      <td>2</td>\n",
       "      <td>3</td>\n",
       "      <td>2</td>\n",
       "      <td>2</td>\n",
       "      <td>3</td>\n",
       "      <td>3</td>\n",
       "      <td>2</td>\n",
       "      <td>2</td>\n",
       "      <td>2</td>\n",
       "      <td>2</td>\n",
       "      <td>...</td>\n",
       "      <td>2</td>\n",
       "      <td>4</td>\n",
       "      <td>2</td>\n",
       "      <td>3</td>\n",
       "      <td>2</td>\n",
       "      <td>3</td>\n",
       "      <td>2</td>\n",
       "      <td>2</td>\n",
       "      <td>2</td>\n",
       "      <td>3</td>\n",
       "    </tr>\n",
       "    <tr>\n",
       "      <th>1005</th>\n",
       "      <td>2</td>\n",
       "      <td>2</td>\n",
       "      <td>1</td>\n",
       "      <td>2</td>\n",
       "      <td>3</td>\n",
       "      <td>2</td>\n",
       "      <td>1</td>\n",
       "      <td>1</td>\n",
       "      <td>1</td>\n",
       "      <td>1</td>\n",
       "      <td>...</td>\n",
       "      <td>2</td>\n",
       "      <td>2</td>\n",
       "      <td>2</td>\n",
       "      <td>2</td>\n",
       "      <td>3</td>\n",
       "      <td>2</td>\n",
       "      <td>2</td>\n",
       "      <td>2</td>\n",
       "      <td>2</td>\n",
       "      <td>2</td>\n",
       "    </tr>\n",
       "  </tbody>\n",
       "</table>\n",
       "<p>5 rows × 173 columns</p>\n",
       "</div>"
      ],
      "text/plain": [
       "      104  106  111  112  115  117  122  124  127  135 ...   944  957  959  \\\n",
       "1001    2    2    2    2    3    3    3    2    1    2 ...     2    2    3   \n",
       "1002    2    2    2    2    3    2    2    2    2    2 ...     2    2    3   \n",
       "1003    2    2    3    1    3    2    1    1    3    1 ...     2    2    2   \n",
       "1004    2    3    2    2    3    3    2    2    2    2 ...     2    4    2   \n",
       "1005    2    2    1    2    3    2    1    1    1    1 ...     2    2    2   \n",
       "\n",
       "      960  965  970  971  975  995  998  \n",
       "1001    3    1    3    2    2    2    3  \n",
       "1002    2    1    4    2    2    2    3  \n",
       "1003    3    2    2    2    1    2    2  \n",
       "1004    3    2    3    2    2    2    3  \n",
       "1005    2    3    2    2    2    2    2  \n",
       "\n",
       "[5 rows x 173 columns]"
      ]
     },
     "execution_count": 172,
     "metadata": {},
     "output_type": "execute_result"
    }
   ],
   "source": [
    "o_user_item_matrix.head()"
   ]
  },
  {
   "cell_type": "code",
   "execution_count": 173,
   "metadata": {},
   "outputs": [
    {
     "name": "stdout",
     "output_type": "stream",
     "text": [
      "0:05:43.190486\n"
     ]
    }
   ],
   "source": [
    "print(datetime.datetime.now()-t0)"
   ]
  }
 ],
 "metadata": {
  "kernelspec": {
   "display_name": "Python 3",
   "language": "python",
   "name": "python3"
  },
  "language_info": {
   "codemirror_mode": {
    "name": "ipython",
    "version": 3
   },
   "file_extension": ".py",
   "mimetype": "text/x-python",
   "name": "python",
   "nbconvert_exporter": "python",
   "pygments_lexer": "ipython3",
   "version": "3.6.2"
  }
 },
 "nbformat": 4,
 "nbformat_minor": 2
}
