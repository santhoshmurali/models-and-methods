{
 "cells": [
  {
   "cell_type": "code",
   "execution_count": 1,
   "metadata": {
    "collapsed": true
   },
   "outputs": [],
   "source": [
    "import random"
   ]
  },
  {
   "cell_type": "code",
   "execution_count": 4,
   "metadata": {
    "scrolled": true
   },
   "outputs": [
    {
     "name": "stdout",
     "output_type": "stream",
     "text": [
      "0.3267221665084944\n"
     ]
    }
   ],
   "source": [
    "print(randomom.random())"
   ]
  },
  {
   "cell_type": "code",
   "execution_count": 5,
   "metadata": {
    "collapsed": true
   },
   "outputs": [],
   "source": [
    "rawFIle = sc.textFile(\"C:\\Home\\Work\\GreatLakes\\capstone\\withOldData\\LatestDataFromKlachaks.csv\")"
   ]
  },
  {
   "cell_type": "code",
   "execution_count": 11,
   "metadata": {},
   "outputs": [
    {
     "data": {
      "text/plain": [
       "['2156,Nandhanandh,complete,5722.5000,5722.5000,\"2015-11-28 15:00:00\",\"2015-11-29 15:00:00\",14963,22947,19,\"Canon EF 100mm f/2.8L IS Macro USM\"',\n",
       " '2037,Sharath,complete,630.0000,630.0000,\"2016-11-04 21:00:00\",\"2016-11-06 21:00:00\",23824,37007,125,\"Canon EF 50mm f/1.4 USM\"',\n",
       " '3179,Bhalaje,complete,8445.0000,8445.0000,\"2017-08-29 21:00:00\",\"2017-08-31 21:00:00\",29545,46514,173,\"Canon EOS 5D MK IV\"',\n",
       " '1147,kiran,complete,630.0000,630.0000,\"2017-02-11 13:00:00\",\"2017-02-12 13:00:00\",25028,38903,169,\"DJI Osmo Handheld 4K Camera and 3-Axis Gimbal\"',\n",
       " '4303,Vinoth,complete,3150.0000,3150.0000,\"2017-04-21 10:00:00\",\"2017-04-22 10:00:00\",27558,43193,39,\"Canon 70-200 f2.8 IS II L\"',\n",
       " '1515,Velavan,complete,5512.5000,5512.5000,\"2015-01-08 18:00:00\",\"2015-01-10 18:00:00\",8789,13353,41,\"Canon EOS 5D MK III\"',\n",
       " '780,Arun,complete,750.0000,750.0000,\"2017-04-08 21:00:00\",\"2017-04-09 21:00:00\",16178,42520,13,\"Canon EF 16-35mm f/2.8L II USM\"',\n",
       " '1968,M.Sujith,complete,2362.5000,2362.5000,\"2016-03-11 14:00:00\",\"2016-03-12 14:00:00\",18053,27537,119,\"Canon EOS 6D\"',\n",
       " '2360,V,complete,525.0000,525.0000,\"2016-09-09 10:00:00\",\"2016-09-10 10:00:00\",22718,35049,81,\"Canon EF 24-105mm f/4L IS USM\"',\n",
       " '1065,Padmanaban,complete,3150.0000,3150.0000,\"2015-10-01 14:00:00\",\"2015-10-02 14:00:00\",14842,22764,81,\"Canon EF 24-105mm f/4L IS USM\"']"
      ]
     },
     "execution_count": 11,
     "metadata": {},
     "output_type": "execute_result"
    }
   ],
   "source": [
    "rawFIle.takeSample(False,10,1)"
   ]
  },
  {
   "cell_type": "code",
   "execution_count": 12,
   "metadata": {},
   "outputs": [
    {
     "data": {
      "text/plain": [
       "28902"
      ]
     },
     "execution_count": 12,
     "metadata": {},
     "output_type": "execute_result"
    }
   ],
   "source": [
    "rawFIle.count()"
   ]
  }
 ],
 "metadata": {
  "kernelspec": {
   "display_name": "Python 3",
   "language": "python",
   "name": "python3"
  },
  "language_info": {
   "codemirror_mode": {
    "name": "ipython",
    "version": 3
   },
   "file_extension": ".py",
   "mimetype": "text/x-python",
   "name": "python",
   "nbconvert_exporter": "python",
   "pygments_lexer": "ipython3",
   "version": "3.6.2"
  }
 },
 "nbformat": 4,
 "nbformat_minor": 2
}
