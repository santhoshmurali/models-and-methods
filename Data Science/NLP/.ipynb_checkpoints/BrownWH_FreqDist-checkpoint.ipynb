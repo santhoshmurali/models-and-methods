{
 "cells": [
  {
   "cell_type": "code",
   "execution_count": 38,
   "metadata": {},
   "outputs": [],
   "source": [
    "import numpy as np\n",
    "import pandas as pd\n",
    "from nltk.corpus import brown\n",
    "import nltk"
   ]
  },
  {
   "cell_type": "code",
   "execution_count": 39,
   "metadata": {},
   "outputs": [],
   "source": [
    "np.random.seed(100)"
   ]
  },
  {
   "cell_type": "code",
   "execution_count": 76,
   "metadata": {},
   "outputs": [],
   "source": [
    "genres = [brown.categories()[k] for k in range(len(brown.categories())) if k in np.random.randint(0,len(brown.categories()),5)]"
   ]
  },
  {
   "cell_type": "code",
   "execution_count": 82,
   "metadata": {},
   "outputs": [],
   "source": [
    "whwords = ['who','what','why','when','where','which','how']"
   ]
  },
  {
   "cell_type": "code",
   "execution_count": 79,
   "metadata": {},
   "outputs": [],
   "source": [
    "class frequency_distributions:\n",
    "    def __init__(self,Genre):\n",
    "            self.gWords = brown.words(categories=Genre)\n",
    "            self.fDist = nltk.FreqDist(self.gWords)\n",
    "    def get_Distribution(self,Word):\n",
    "            dDist = self.fDist[Word]\n",
    "            return({Word:dDist})"
   ]
  },
  {
   "cell_type": "code",
   "execution_count": 83,
   "metadata": {},
   "outputs": [
    {
     "name": "stdout",
     "output_type": "stream",
     "text": [
      "[{'who': 452}, {'what': 244}, {'why': 36}, {'when': 252}, {'where': 107}, {'which': 679}, {'how': 96}]\n",
      "[{'who': 74}, {'what': 43}, {'why': 6}, {'when': 56}, {'where': 46}, {'which': 263}, {'how': 16}]\n",
      "[{'who': 48}, {'what': 36}, {'why': 9}, {'when': 52}, {'where': 15}, {'which': 62}, {'how': 18}]\n",
      "[{'who': 80}, {'what': 109}, {'why': 25}, {'when': 114}, {'where': 59}, {'which': 58}, {'how': 37}]\n"
     ]
    }
   ],
   "source": [
    "for k in genres:\n",
    "    d = frequency_distributions(k)\n",
    "    print(list(map(d.get_Distribution,whwords)))"
   ]
  },
  {
   "cell_type": "code",
   "execution_count": null,
   "metadata": {},
   "outputs": [],
   "source": []
  }
 ],
 "metadata": {
  "kernelspec": {
   "display_name": "Python 3",
   "language": "python",
   "name": "python3"
  },
  "language_info": {
   "codemirror_mode": {
    "name": "ipython",
    "version": 3
   },
   "file_extension": ".py",
   "mimetype": "text/x-python",
   "name": "python",
   "nbconvert_exporter": "python",
   "pygments_lexer": "ipython3",
   "version": "3.6.2"
  }
 },
 "nbformat": 4,
 "nbformat_minor": 2
}
