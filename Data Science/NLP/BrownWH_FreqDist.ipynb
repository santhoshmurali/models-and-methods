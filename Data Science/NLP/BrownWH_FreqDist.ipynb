{
 "cells": [
  {
   "cell_type": "code",
   "execution_count": 38,
   "metadata": {},
   "outputs": [],
   "source": [
    "import numpy as np\n",
    "import pandas as pd\n",
    "from nltk.corpus import brown\n",
    "import nltk"
   ]
  },
  {
   "cell_type": "code",
   "execution_count": 39,
   "metadata": {},
   "outputs": [],
   "source": [
    "np.random.seed(100)"
   ]
  },
  {
   "cell_type": "code",
   "execution_count": 84,
   "metadata": {},
   "outputs": [],
   "source": [
    "genres = [brown.categories()[k] for k in range(len(brown.categories())) if k in np.random.randint(0,len(brown.categories()),5)]"
   ]
  },
  {
   "cell_type": "code",
   "execution_count": 82,
   "metadata": {},
   "outputs": [],
   "source": [
    "whwords = ['who','what','why','when','where','which','how']"
   ]
  },
  {
   "cell_type": "code",
   "execution_count": 79,
   "metadata": {},
   "outputs": [],
   "source": [
    "class frequency_distributions:\n",
    "    def __init__(self,Genre):\n",
    "            self.gWords = brown.words(categories=Genre)\n",
    "            self.fDist = nltk.FreqDist(self.gWords)\n",
    "    def get_Distribution(self,Word):\n",
    "            dDist = self.fDist[Word]\n",
    "            return({Word:dDist})"
   ]
  },
  {
   "cell_type": "code",
   "execution_count": 86,
   "metadata": {
    "scrolled": true
   },
   "outputs": [
    {
     "name": "stdout",
     "output_type": "stream",
     "text": [
      "belles_lettres\n",
      "[{'who': 452}, {'what': 244}, {'why': 36}, {'when': 252}, {'where': 107}, {'which': 679}, {'how': 96}]\n",
      "government\n",
      "[{'who': 74}, {'what': 43}, {'why': 6}, {'when': 56}, {'where': 46}, {'which': 263}, {'how': 16}]\n",
      "hobbies\n",
      "[{'who': 103}, {'what': 78}, {'why': 10}, {'when': 119}, {'where': 72}, {'which': 252}, {'how': 40}]\n",
      "learned\n",
      "[{'who': 212}, {'what': 141}, {'why': 20}, {'when': 227}, {'where': 118}, {'which': 832}, {'how': 61}]\n",
      "news\n",
      "[{'who': 268}, {'what': 76}, {'why': 9}, {'when': 128}, {'where': 58}, {'which': 244}, {'how': 37}]\n",
      "reviews\n",
      "[{'who': 128}, {'what': 44}, {'why': 9}, {'when': 54}, {'where': 25}, {'which': 123}, {'how': 26}]\n",
      "romance\n",
      "[{'who': 89}, {'what': 121}, {'why': 34}, {'when': 126}, {'where': 54}, {'which': 104}, {'how': 60}]\n"
     ]
    }
   ],
   "source": [
    "for k in genres:\n",
    "    d = frequency_distributions(k)\n",
    "    print(k)\n",
    "    print(list(map(d.get_Distribution,whwords)))"
   ]
  },
  {
   "cell_type": "code",
   "execution_count": null,
   "metadata": {},
   "outputs": [],
   "source": []
  }
 ],
 "metadata": {
  "kernelspec": {
   "display_name": "Python 3",
   "language": "python",
   "name": "python3"
  },
  "language_info": {
   "codemirror_mode": {
    "name": "ipython",
    "version": 3
   },
   "file_extension": ".py",
   "mimetype": "text/x-python",
   "name": "python",
   "nbconvert_exporter": "python",
   "pygments_lexer": "ipython3",
   "version": "3.6.2"
  }
 },
 "nbformat": 4,
 "nbformat_minor": 2
}
