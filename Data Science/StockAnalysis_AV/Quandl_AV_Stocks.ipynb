{
 "cells": [
  {
   "cell_type": "markdown",
   "metadata": {},
   "source": [
    "# Comparative Stock Market Analysis in R using Quandl & tidyverse- Part I"
   ]
  },
  {
   "cell_type": "markdown",
   "metadata": {},
   "source": [
    "## Introduction\n",
    "\n",
    "https://www.analyticsvidhya.com/blog/2017/09/comparative-stock-analysis/"
   ]
  },
  {
   "cell_type": "markdown",
   "metadata": {},
   "source": [
    "What differentiates the best data scientists from others? It is their focus on application of data science. The best data scientists I know of, see data science and its application every where they look. They look at this world as an outcome of flow of data and information.\n",
    "\n",
    "On the other hand, most beginners often ask the question – how do we apply our learning on real life problems?\n",
    "\n",
    "In this post (and another one following this), I have picked up a real life dataset (Stock Markets in India) and showed how I would use this data to come out with useful insights.\n",
    "\n",
    "I hope that you will find this useful. The idea is show the vast opportunities present in data science in a simple yet powerful manner. If you can think of more examples like this – let me know in comments below!\n",
    "\n",
    "For the best results, I would strongly recommend to build the application yourself as you follow the tutorial."
   ]
  },
  {
   "cell_type": "markdown",
   "metadata": {},
   "source": [
    "## Objective of this Tutorial"
   ]
  },
  {
   "cell_type": "markdown",
   "metadata": {},
   "source": [
    "In this article, we will analyze stock market in banking segment based on the bank stocks which are listed in NSE India. Our objective is to find the trends (Seasonal or cyclic) in banking stocks."
   ]
  },
  {
   "cell_type": "markdown",
   "metadata": {},
   "source": [
    "In our comparative analysis we will use several packages and the primary focus will be on tidy verse package. The emphasis will be given on grouping with the help of **tibble** dataframe from tidy verse package. This will help to perform similar operation on multiple groups at a time, hence reducing the code length and computational time"
   ]
  },
  {
   "cell_type": "markdown",
   "metadata": {},
   "source": [
    "This article also focuses on API Key, database code search using quandl, and finally how to directly download the data from R Console"
   ]
  },
  {
   "cell_type": "markdown",
   "metadata": {},
   "source": [
    "So lets get started!"
   ]
  },
  {
   "cell_type": "markdown",
   "metadata": {},
   "source": [
    "Note: The code that has been mentioned below is to be run on the R command line for best results."
   ]
  },
  {
   "cell_type": "markdown",
   "metadata": {},
   "source": [
    "Table of Contents\n",
    "* Setting up the system\n",
    "* Getting Started with Comparative Analysis\n",
    "* * Creating the dataset\n",
    "* * Visualizing the monthly prices\n",
    "* * Discovering the Relation between Total Traded Quantity vs Close Price\n",
    "* * Finding the Density Distribution of Deviation of High Price from Open Price\n",
    "* * Observing the Autocorrelation lags"
   ]
  },
  {
   "cell_type": "markdown",
   "metadata": {},
   "source": [
    "### Setting Up The System"
   ]
  },
  {
   "cell_type": "markdown",
   "metadata": {},
   "source": [
    "There are a few things you should take care of before you go on further. Below mentioned are the packages you need to install in the system"
   ]
  },
  {
   "cell_type": "markdown",
   "metadata": {},
   "source": [
    "- Quandl for Data Download\n",
    "- timetk to coerce the dataframe into xts\n",
    "- tidyverse to Use tibble for grouping and perform single operation on multiple groups\n",
    "- tidyquant for Time Series and Financial functions to perform the analysis\n",
    "- gglot for Plotting and Visualization\n",
    "- gganimate to plot the monthly prices. To get more information on gganimate, please read my previous post on Analytics Vidhya\n",
    "- forcats for modification of factor levels\n",
    "- stringr for string use"
   ]
  },
  {
   "cell_type": "code",
   "execution_count": 17,
   "metadata": {
    "collapsed": true
   },
   "outputs": [],
   "source": [
    "library(plyr)"
   ]
  },
  {
   "cell_type": "code",
   "execution_count": 7,
   "metadata": {},
   "outputs": [],
   "source": [
    "library(zoo)"
   ]
  },
  {
   "cell_type": "code",
   "execution_count": 8,
   "metadata": {
    "collapsed": true
   },
   "outputs": [],
   "source": [
    "library(Quandl)"
   ]
  },
  {
   "cell_type": "code",
   "execution_count": 10,
   "metadata": {},
   "outputs": [],
   "source": [
    "library(tidyverse)"
   ]
  },
  {
   "cell_type": "code",
   "execution_count": 11,
   "metadata": {},
   "outputs": [
    {
     "name": "stderr",
     "output_type": "stream",
     "text": [
      "Warning message:\n",
      "\"package 'timetk' was built under R version 3.4.2\""
     ]
    }
   ],
   "source": [
    "library(timetk)"
   ]
  },
  {
   "cell_type": "code",
   "execution_count": 12,
   "metadata": {},
   "outputs": [
    {
     "name": "stderr",
     "output_type": "stream",
     "text": [
      "Warning message:\n",
      "\"package 'forcats' was built under R version 3.4.2\""
     ]
    }
   ],
   "source": [
    "library(forcats)"
   ]
  },
  {
   "cell_type": "code",
   "execution_count": 13,
   "metadata": {
    "collapsed": true
   },
   "outputs": [],
   "source": [
    "library(stringr)"
   ]
  },
  {
   "cell_type": "code",
   "execution_count": 14,
   "metadata": {
    "collapsed": true
   },
   "outputs": [],
   "source": [
    "library(gganimate)"
   ]
  },
  {
   "cell_type": "code",
   "execution_count": 18,
   "metadata": {
    "collapsed": true
   },
   "outputs": [],
   "source": [
    "library(dplyr)"
   ]
  },
  {
   "cell_type": "code",
   "execution_count": 19,
   "metadata": {
    "collapsed": true
   },
   "outputs": [],
   "source": [
    "library(stringr)"
   ]
  },
  {
   "cell_type": "code",
   "execution_count": 20,
   "metadata": {
    "scrolled": true
   },
   "outputs": [
    {
     "name": "stderr",
     "output_type": "stream",
     "text": [
      "\n",
      "Attaching package: 'gridExtra'\n",
      "\n",
      "The following object is masked from 'package:dplyr':\n",
      "\n",
      "    combine\n",
      "\n"
     ]
    }
   ],
   "source": [
    "library(gridExtra)"
   ]
  },
  {
   "cell_type": "code",
   "execution_count": 305,
   "metadata": {},
   "outputs": [
    {
     "name": "stderr",
     "output_type": "stream",
     "text": [
      "\n",
      "Attaching package: 'plotly'\n",
      "\n",
      "The following objects are masked from 'package:plyr':\n",
      "\n",
      "    arrange, mutate, rename, summarise\n",
      "\n",
      "The following object is masked from 'package:ggplot2':\n",
      "\n",
      "    last_plot\n",
      "\n",
      "The following object is masked from 'package:stats':\n",
      "\n",
      "    filter\n",
      "\n",
      "The following object is masked from 'package:graphics':\n",
      "\n",
      "    layout\n",
      "\n"
     ]
    }
   ],
   "source": [
    "library(plotly)"
   ]
  },
  {
   "cell_type": "markdown",
   "metadata": {},
   "source": [
    "### Creating the Dataset\n",
    "We will be using Quandl is online repository for the core financial, macroeconomic statistics and forex. Quandl has a vast collection of free and open data collected from a variety of organizations: central banks, governments, multinational organizations and more. You can use it without payment and with few restrictions.\n",
    "\n",
    "Both Free and Premium data are available. Authenticated Free users have a limit of 300 calls per 10 seconds, 2,000 calls per 10 minutes and a limit of 50,000 calls per day. Premium data subscribers have a limit of 5,000 calls per 10 minutes and a limit of 720,000 calls per day.\n",
    "\n",
    "We will use this online repository to get our data using “Quandl” package directly from the R Console. Quandl package directly interacts with the Quandl API to offer data in a number of formats usable in R, downloading a zip with all data from a Quandl database, and the ability to search.\n",
    "\n",
    "For More information on Quandl Package, please visit this page. https://cran.r-project.org/web/packages/Quandl/Quandl.pdf\n",
    "\n",
    "To get started with Quandl, create an account and get the quandl API key. Please click here to create an account. Then click on the Login button provided on the top right corner of the screen. Once the registration is complete, please click here to get the API Key.\n",
    "\n",
    "Login : https://www.quandl.com/\n",
    "API Key : https://www.quandl.com/account/api\n",
    "\n",
    "unpw: my gmail uspw"
   ]
  },
  {
   "cell_type": "code",
   "execution_count": 21,
   "metadata": {
    "collapsed": true
   },
   "outputs": [],
   "source": [
    "## Setup the Quandl Free Account and API Key, Please copy and paste the API key in order to #authenticate\n",
    "Quandl.api_key(\"rMrxniUJH1-pmm4edrqA\")"
   ]
  },
  {
   "cell_type": "markdown",
   "metadata": {},
   "source": [
    "#### We will use MCX database with Lead commodity for analysis\n",
    "\n",
    "[MCX-Multi-Commodity-Exchange-India](www.quandl.com/data/MCX-Multi-Commodity-Exchange-India)"
   ]
  },
  {
   "cell_type": "markdown",
   "metadata": {},
   "source": [
    "\n",
    "You see there are Multiple data sets we have for Lead. Every contact is a seperate Data set. \n",
    "for  example\n",
    "- Lead Futures, October 2014, **PBV2014**, MCX\n",
    "- Lead Futures, February 2016, **PBG2016**, MCX\n",
    "\n",
    "We will have to get all those individual data sets seperatly and merge them as one set "
   ]
  },
  {
   "cell_type": "markdown",
   "metadata": {},
   "source": [
    "** Serach for Lead for last 36 contacts or 3 years of data**"
   ]
  },
  {
   "cell_type": "code",
   "execution_count": 244,
   "metadata": {},
   "outputs": [],
   "source": [
    "MCX_Search_Results = Quandl.search(\"Lead Futures\",per_page = 50,silent = TRUE)"
   ]
  },
  {
   "cell_type": "code",
   "execution_count": 245,
   "metadata": {
    "collapsed": true
   },
   "outputs": [],
   "source": [
    "MCXFuturesMeta_DF = data.frame(Name = MCX_Search_Results$name, Exchange = MCX_Search_Results$database_code,DataSetCode = MCX_Search_Results$dataset_code,ContractDate=as.Date(str_c('01 ',str_replace(word(MCX_Search_Results$name,3,4),\",\",\"\")),format = '%d %B %Y'),ContractExpiry=str_replace(word(MCX_Search_Results$name,3,4),\",\",\"\"))"
   ]
  },
  {
   "cell_type": "code",
   "execution_count": 246,
   "metadata": {
    "scrolled": true
   },
   "outputs": [],
   "source": [
    "MCXFuturesMeta_DF = MCXFuturesMeta_DF[order(MCXFuturesMeta_DF$ContractDate),]"
   ]
  },
  {
   "cell_type": "code",
   "execution_count": 247,
   "metadata": {},
   "outputs": [
    {
     "data": {
      "text/html": [
       "<table>\n",
       "<thead><tr><th></th><th scope=col>Name</th><th scope=col>Exchange</th><th scope=col>DataSetCode</th><th scope=col>ContractDate</th><th scope=col>ContractExpiry</th></tr></thead>\n",
       "<tbody>\n",
       "\t<tr><th scope=row>31</th><td>Lead Futures, December 2013, PBZ2013, MCX </td><td>MCX                                       </td><td>PBZ2013                                   </td><td>2013-12-01                                </td><td>December 2013                             </td></tr>\n",
       "\t<tr><th scope=row>41</th><td>Lead Futures, January 2014, PBF2014, MCX  </td><td>MCX                                       </td><td>PBF2014                                   </td><td>2014-01-01                                </td><td>January 2014                              </td></tr>\n",
       "\t<tr><th scope=row>13</th><td>Lead Futures, February 2014, PBG2014, MCX </td><td>MCX                                       </td><td>PBG2014                                   </td><td>2014-02-01                                </td><td>February 2014                             </td></tr>\n",
       "\t<tr><th scope=row>14</th><td>Lead Futures, March 2014, PBH2014, MCX    </td><td>MCX                                       </td><td>PBH2014                                   </td><td>2014-03-01                                </td><td>March 2014                                </td></tr>\n",
       "\t<tr><th scope=row>42</th><td>Lead Futures, April 2014, PBJ2014, MCX    </td><td>MCX                                       </td><td>PBJ2014                                   </td><td>2014-04-01                                </td><td>April 2014                                </td></tr>\n",
       "\t<tr><th scope=row>12</th><td>Lead Futures, June 2014, PBM2014, MCX     </td><td>MCX                                       </td><td>PBM2014                                   </td><td>2014-06-01                                </td><td>June 2014                                 </td></tr>\n",
       "\t<tr><th scope=row>43</th><td>Lead Futures, July 2014, PBN2014, MCX     </td><td>MCX                                       </td><td>PBN2014                                   </td><td>2014-07-01                                </td><td>July 2014                                 </td></tr>\n",
       "\t<tr><th scope=row>3</th><td>Lead Futures, August 2014, PBQ2014, MCX   </td><td>MCX                                       </td><td>PBQ2014                                   </td><td>2014-08-01                                </td><td>August 2014                               </td></tr>\n",
       "\t<tr><th scope=row>15</th><td>Lead Futures, September 2014, PBU2014, MCX</td><td>MCX                                       </td><td>PBU2014                                   </td><td>2014-09-01                                </td><td>September 2014                            </td></tr>\n",
       "\t<tr><th scope=row>1</th><td>Lead Futures, October 2014, PBV2014, MCX  </td><td>MCX                                       </td><td>PBV2014                                   </td><td>2014-10-01                                </td><td>October 2014                              </td></tr>\n",
       "\t<tr><th scope=row>7</th><td>Lead Futures, November 2014, PBX2014, MCX </td><td>MCX                                       </td><td>PBX2014                                   </td><td>2014-11-01                                </td><td>November 2014                             </td></tr>\n",
       "\t<tr><th scope=row>36</th><td>Lead Futures, December 2014, PBZ2014, MCX </td><td>MCX                                       </td><td>PBZ2014                                   </td><td>2014-12-01                                </td><td>December 2014                             </td></tr>\n",
       "\t<tr><th scope=row>6</th><td>Lead Futures, January 2015, PBF2015, MCX  </td><td>MCX                                       </td><td>PBF2015                                   </td><td>2015-01-01                                </td><td>January 2015                              </td></tr>\n",
       "\t<tr><th scope=row>16</th><td>Lead Futures, February 2015, PBG2015, MCX </td><td>MCX                                       </td><td>PBG2015                                   </td><td>2015-02-01                                </td><td>February 2015                             </td></tr>\n",
       "\t<tr><th scope=row>44</th><td>Lead Futures, March 2015, PBH2015, MCX    </td><td>MCX                                       </td><td>PBH2015                                   </td><td>2015-03-01                                </td><td>March 2015                                </td></tr>\n",
       "\t<tr><th scope=row>8</th><td>Lead Futures, April 2015, PBJ2015, MCX    </td><td>MCX                                       </td><td>PBJ2015                                   </td><td>2015-04-01                                </td><td>April 2015                                </td></tr>\n",
       "\t<tr><th scope=row>17</th><td>Lead Futures, May 2015, PBK2015, MCX      </td><td>MCX                                       </td><td>PBK2015                                   </td><td>2015-05-01                                </td><td>May 2015                                  </td></tr>\n",
       "\t<tr><th scope=row>18</th><td>Lead Futures, June 2015, PBM2015, MCX     </td><td>MCX                                       </td><td>PBM2015                                   </td><td>2015-06-01                                </td><td>June 2015                                 </td></tr>\n",
       "\t<tr><th scope=row>19</th><td>Lead Futures, July 2015, PBN2015, MCX     </td><td>MCX                                       </td><td>PBN2015                                   </td><td>2015-07-01                                </td><td>July 2015                                 </td></tr>\n",
       "\t<tr><th scope=row>20</th><td>Lead Futures, August 2015, PBQ2015, MCX   </td><td>MCX                                       </td><td>PBQ2015                                   </td><td>2015-08-01                                </td><td>August 2015                               </td></tr>\n",
       "\t<tr><th scope=row>21</th><td>Lead Futures, September 2015, PBU2015, MCX</td><td>MCX                                       </td><td>PBU2015                                   </td><td>2015-09-01                                </td><td>September 2015                            </td></tr>\n",
       "\t<tr><th scope=row>9</th><td>Lead Futures, October 2015, PBV2015, MCX  </td><td>MCX                                       </td><td>PBV2015                                   </td><td>2015-10-01                                </td><td>October 2015                              </td></tr>\n",
       "\t<tr><th scope=row>38</th><td>Lead Futures, November 2015, PBX2015, MCX </td><td>MCX                                       </td><td>PBX2015                                   </td><td>2015-11-01                                </td><td>November 2015                             </td></tr>\n",
       "\t<tr><th scope=row>39</th><td>Lead Futures, December 2015, PBZ2015, MCX </td><td>MCX                                       </td><td>PBZ2015                                   </td><td>2015-12-01                                </td><td>December 2015                             </td></tr>\n",
       "\t<tr><th scope=row>22</th><td>Lead Futures, January 2016, PBF2016, MCX  </td><td>MCX                                       </td><td>PBF2016                                   </td><td>2016-01-01                                </td><td>January 2016                              </td></tr>\n",
       "\t<tr><th scope=row>2</th><td>Lead Futures, February 2016, PBG2016, MCX </td><td>MCX                                       </td><td>PBG2016                                   </td><td>2016-02-01                                </td><td>February 2016                             </td></tr>\n",
       "\t<tr><th scope=row>32</th><td>Lead Futures, March 2016, PBH2016, MCX    </td><td>MCX                                       </td><td>PBH2016                                   </td><td>2016-03-01                                </td><td>March 2016                                </td></tr>\n",
       "\t<tr><th scope=row>45</th><td>Lead Futures, April 2016, PBJ2016, MCX    </td><td>MCX                                       </td><td>PBJ2016                                   </td><td>2016-04-01                                </td><td>April 2016                                </td></tr>\n",
       "\t<tr><th scope=row>4</th><td>Lead Futures, May 2016, PBK2016, MCX      </td><td>MCX                                       </td><td>PBK2016                                   </td><td>2016-05-01                                </td><td>May 2016                                  </td></tr>\n",
       "\t<tr><th scope=row>46</th><td>Lead Futures, June 2016, PBM2016, MCX     </td><td>MCX                                       </td><td>PBM2016                                   </td><td>2016-06-01                                </td><td>June 2016                                 </td></tr>\n",
       "\t<tr><th scope=row>33</th><td>Lead Futures, July 2016, PBN2016, MCX     </td><td>MCX                                       </td><td>PBN2016                                   </td><td>2016-07-01                                </td><td>July 2016                                 </td></tr>\n",
       "\t<tr><th scope=row>23</th><td>Lead Futures, August 2016, PBQ2016, MCX   </td><td>MCX                                       </td><td>PBQ2016                                   </td><td>2016-08-01                                </td><td>August 2016                               </td></tr>\n",
       "\t<tr><th scope=row>47</th><td>Lead Futures, September 2016, PBU2016, MCX</td><td>MCX                                       </td><td>PBU2016                                   </td><td>2016-09-01                                </td><td>September 2016                            </td></tr>\n",
       "\t<tr><th scope=row>10</th><td>Lead Futures, October 2016, PBV2016, MCX  </td><td>MCX                                       </td><td>PBV2016                                   </td><td>2016-10-01                                </td><td>October 2016                              </td></tr>\n",
       "\t<tr><th scope=row>24</th><td>Lead Futures, November 2016, PBX2016, MCX </td><td>MCX                                       </td><td>PBX2016                                   </td><td>2016-11-01                                </td><td>November 2016                             </td></tr>\n",
       "\t<tr><th scope=row>25</th><td>Lead Futures, December 2016, PBZ2016, MCX </td><td>MCX                                       </td><td>PBZ2016                                   </td><td>2016-12-01                                </td><td>December 2016                             </td></tr>\n",
       "\t<tr><th scope=row>34</th><td>Lead Futures, January 2017, PBF2017, MCX  </td><td>MCX                                       </td><td>PBF2017                                   </td><td>2017-01-01                                </td><td>January 2017                              </td></tr>\n",
       "\t<tr><th scope=row>35</th><td>Lead Futures, February 2017, PBG2017, MCX </td><td>MCX                                       </td><td>PBG2017                                   </td><td>2017-02-01                                </td><td>February 2017                             </td></tr>\n",
       "\t<tr><th scope=row>26</th><td>Lead Futures, March 2017, PBH2017, MCX    </td><td>MCX                                       </td><td>PBH2017                                   </td><td>2017-03-01                                </td><td>March 2017                                </td></tr>\n",
       "\t<tr><th scope=row>5</th><td>Lead Futures, April 2017, PBJ2017, MCX    </td><td>MCX                                       </td><td>PBJ2017                                   </td><td>2017-04-01                                </td><td>April 2017                                </td></tr>\n",
       "\t<tr><th scope=row>11</th><td>Lead Futures, May 2017, PBK2017, MCX      </td><td>MCX                                       </td><td>PBK2017                                   </td><td>2017-05-01                                </td><td>May 2017                                  </td></tr>\n",
       "\t<tr><th scope=row>27</th><td>Lead Futures, June 2017, PBM2017, MCX     </td><td>MCX                                       </td><td>PBM2017                                   </td><td>2017-06-01                                </td><td>June 2017                                 </td></tr>\n",
       "\t<tr><th scope=row>48</th><td>Lead Futures, July 2017, PBN2017, MCX     </td><td>MCX                                       </td><td>PBN2017                                   </td><td>2017-07-01                                </td><td>July 2017                                 </td></tr>\n",
       "\t<tr><th scope=row>37</th><td>Lead Futures, August 2017, PBQ2017, MCX   </td><td>MCX                                       </td><td>PBQ2017                                   </td><td>2017-08-01                                </td><td>August 2017                               </td></tr>\n",
       "\t<tr><th scope=row>28</th><td>Lead Futures, September 2017, PBU2017, MCX</td><td>MCX                                       </td><td>PBU2017                                   </td><td>2017-09-01                                </td><td>September 2017                            </td></tr>\n",
       "\t<tr><th scope=row>40</th><td>Lead Futures, October 2017, PBV2017, MCX  </td><td>MCX                                       </td><td>PBV2017                                   </td><td>2017-10-01                                </td><td>October 2017                              </td></tr>\n",
       "\t<tr><th scope=row>29</th><td>Lead Futures, November 2017, PBX2017, MCX </td><td>MCX                                       </td><td>PBX2017                                   </td><td>2017-11-01                                </td><td>November 2017                             </td></tr>\n",
       "\t<tr><th scope=row>30</th><td>Lead Futures, December 2017, PBZ2017, MCX </td><td>MCX                                       </td><td>PBZ2017                                   </td><td>2017-12-01                                </td><td>December 2017                             </td></tr>\n",
       "\t<tr><th scope=row>49</th><td>Lead Futures, January 2018, PBF2018, MCX  </td><td>MCX                                       </td><td>PBF2018                                   </td><td>2018-01-01                                </td><td>January 2018                              </td></tr>\n",
       "\t<tr><th scope=row>50</th><td>Lead Futures, February 2018, PBG2018, MCX </td><td>MCX                                       </td><td>PBG2018                                   </td><td>2018-02-01                                </td><td>February 2018                             </td></tr>\n",
       "</tbody>\n",
       "</table>\n"
      ],
      "text/latex": [
       "\\begin{tabular}{r|lllll}\n",
       "  & Name & Exchange & DataSetCode & ContractDate & ContractExpiry\\\\\n",
       "\\hline\n",
       "\t31 & Lead Futures, December 2013, PBZ2013, MCX  & MCX                                        & PBZ2013                                    & 2013-12-01                                 & December 2013                             \\\\\n",
       "\t41 & Lead Futures, January 2014, PBF2014, MCX   & MCX                                        & PBF2014                                    & 2014-01-01                                 & January 2014                              \\\\\n",
       "\t13 & Lead Futures, February 2014, PBG2014, MCX  & MCX                                        & PBG2014                                    & 2014-02-01                                 & February 2014                             \\\\\n",
       "\t14 & Lead Futures, March 2014, PBH2014, MCX     & MCX                                        & PBH2014                                    & 2014-03-01                                 & March 2014                                \\\\\n",
       "\t42 & Lead Futures, April 2014, PBJ2014, MCX     & MCX                                        & PBJ2014                                    & 2014-04-01                                 & April 2014                                \\\\\n",
       "\t12 & Lead Futures, June 2014, PBM2014, MCX      & MCX                                        & PBM2014                                    & 2014-06-01                                 & June 2014                                 \\\\\n",
       "\t43 & Lead Futures, July 2014, PBN2014, MCX      & MCX                                        & PBN2014                                    & 2014-07-01                                 & July 2014                                 \\\\\n",
       "\t3 & Lead Futures, August 2014, PBQ2014, MCX    & MCX                                        & PBQ2014                                    & 2014-08-01                                 & August 2014                               \\\\\n",
       "\t15 & Lead Futures, September 2014, PBU2014, MCX & MCX                                        & PBU2014                                    & 2014-09-01                                 & September 2014                            \\\\\n",
       "\t1 & Lead Futures, October 2014, PBV2014, MCX   & MCX                                        & PBV2014                                    & 2014-10-01                                 & October 2014                              \\\\\n",
       "\t7 & Lead Futures, November 2014, PBX2014, MCX  & MCX                                        & PBX2014                                    & 2014-11-01                                 & November 2014                             \\\\\n",
       "\t36 & Lead Futures, December 2014, PBZ2014, MCX  & MCX                                        & PBZ2014                                    & 2014-12-01                                 & December 2014                             \\\\\n",
       "\t6 & Lead Futures, January 2015, PBF2015, MCX   & MCX                                        & PBF2015                                    & 2015-01-01                                 & January 2015                              \\\\\n",
       "\t16 & Lead Futures, February 2015, PBG2015, MCX  & MCX                                        & PBG2015                                    & 2015-02-01                                 & February 2015                             \\\\\n",
       "\t44 & Lead Futures, March 2015, PBH2015, MCX     & MCX                                        & PBH2015                                    & 2015-03-01                                 & March 2015                                \\\\\n",
       "\t8 & Lead Futures, April 2015, PBJ2015, MCX     & MCX                                        & PBJ2015                                    & 2015-04-01                                 & April 2015                                \\\\\n",
       "\t17 & Lead Futures, May 2015, PBK2015, MCX       & MCX                                        & PBK2015                                    & 2015-05-01                                 & May 2015                                  \\\\\n",
       "\t18 & Lead Futures, June 2015, PBM2015, MCX      & MCX                                        & PBM2015                                    & 2015-06-01                                 & June 2015                                 \\\\\n",
       "\t19 & Lead Futures, July 2015, PBN2015, MCX      & MCX                                        & PBN2015                                    & 2015-07-01                                 & July 2015                                 \\\\\n",
       "\t20 & Lead Futures, August 2015, PBQ2015, MCX    & MCX                                        & PBQ2015                                    & 2015-08-01                                 & August 2015                               \\\\\n",
       "\t21 & Lead Futures, September 2015, PBU2015, MCX & MCX                                        & PBU2015                                    & 2015-09-01                                 & September 2015                            \\\\\n",
       "\t9 & Lead Futures, October 2015, PBV2015, MCX   & MCX                                        & PBV2015                                    & 2015-10-01                                 & October 2015                              \\\\\n",
       "\t38 & Lead Futures, November 2015, PBX2015, MCX  & MCX                                        & PBX2015                                    & 2015-11-01                                 & November 2015                             \\\\\n",
       "\t39 & Lead Futures, December 2015, PBZ2015, MCX  & MCX                                        & PBZ2015                                    & 2015-12-01                                 & December 2015                             \\\\\n",
       "\t22 & Lead Futures, January 2016, PBF2016, MCX   & MCX                                        & PBF2016                                    & 2016-01-01                                 & January 2016                              \\\\\n",
       "\t2 & Lead Futures, February 2016, PBG2016, MCX  & MCX                                        & PBG2016                                    & 2016-02-01                                 & February 2016                             \\\\\n",
       "\t32 & Lead Futures, March 2016, PBH2016, MCX     & MCX                                        & PBH2016                                    & 2016-03-01                                 & March 2016                                \\\\\n",
       "\t45 & Lead Futures, April 2016, PBJ2016, MCX     & MCX                                        & PBJ2016                                    & 2016-04-01                                 & April 2016                                \\\\\n",
       "\t4 & Lead Futures, May 2016, PBK2016, MCX       & MCX                                        & PBK2016                                    & 2016-05-01                                 & May 2016                                  \\\\\n",
       "\t46 & Lead Futures, June 2016, PBM2016, MCX      & MCX                                        & PBM2016                                    & 2016-06-01                                 & June 2016                                 \\\\\n",
       "\t33 & Lead Futures, July 2016, PBN2016, MCX      & MCX                                        & PBN2016                                    & 2016-07-01                                 & July 2016                                 \\\\\n",
       "\t23 & Lead Futures, August 2016, PBQ2016, MCX    & MCX                                        & PBQ2016                                    & 2016-08-01                                 & August 2016                               \\\\\n",
       "\t47 & Lead Futures, September 2016, PBU2016, MCX & MCX                                        & PBU2016                                    & 2016-09-01                                 & September 2016                            \\\\\n",
       "\t10 & Lead Futures, October 2016, PBV2016, MCX   & MCX                                        & PBV2016                                    & 2016-10-01                                 & October 2016                              \\\\\n",
       "\t24 & Lead Futures, November 2016, PBX2016, MCX  & MCX                                        & PBX2016                                    & 2016-11-01                                 & November 2016                             \\\\\n",
       "\t25 & Lead Futures, December 2016, PBZ2016, MCX  & MCX                                        & PBZ2016                                    & 2016-12-01                                 & December 2016                             \\\\\n",
       "\t34 & Lead Futures, January 2017, PBF2017, MCX   & MCX                                        & PBF2017                                    & 2017-01-01                                 & January 2017                              \\\\\n",
       "\t35 & Lead Futures, February 2017, PBG2017, MCX  & MCX                                        & PBG2017                                    & 2017-02-01                                 & February 2017                             \\\\\n",
       "\t26 & Lead Futures, March 2017, PBH2017, MCX     & MCX                                        & PBH2017                                    & 2017-03-01                                 & March 2017                                \\\\\n",
       "\t5 & Lead Futures, April 2017, PBJ2017, MCX     & MCX                                        & PBJ2017                                    & 2017-04-01                                 & April 2017                                \\\\\n",
       "\t11 & Lead Futures, May 2017, PBK2017, MCX       & MCX                                        & PBK2017                                    & 2017-05-01                                 & May 2017                                  \\\\\n",
       "\t27 & Lead Futures, June 2017, PBM2017, MCX      & MCX                                        & PBM2017                                    & 2017-06-01                                 & June 2017                                 \\\\\n",
       "\t48 & Lead Futures, July 2017, PBN2017, MCX      & MCX                                        & PBN2017                                    & 2017-07-01                                 & July 2017                                 \\\\\n",
       "\t37 & Lead Futures, August 2017, PBQ2017, MCX    & MCX                                        & PBQ2017                                    & 2017-08-01                                 & August 2017                               \\\\\n",
       "\t28 & Lead Futures, September 2017, PBU2017, MCX & MCX                                        & PBU2017                                    & 2017-09-01                                 & September 2017                            \\\\\n",
       "\t40 & Lead Futures, October 2017, PBV2017, MCX   & MCX                                        & PBV2017                                    & 2017-10-01                                 & October 2017                              \\\\\n",
       "\t29 & Lead Futures, November 2017, PBX2017, MCX  & MCX                                        & PBX2017                                    & 2017-11-01                                 & November 2017                             \\\\\n",
       "\t30 & Lead Futures, December 2017, PBZ2017, MCX  & MCX                                        & PBZ2017                                    & 2017-12-01                                 & December 2017                             \\\\\n",
       "\t49 & Lead Futures, January 2018, PBF2018, MCX   & MCX                                        & PBF2018                                    & 2018-01-01                                 & January 2018                              \\\\\n",
       "\t50 & Lead Futures, February 2018, PBG2018, MCX  & MCX                                        & PBG2018                                    & 2018-02-01                                 & February 2018                             \\\\\n",
       "\\end{tabular}\n"
      ],
      "text/markdown": [
       "\n",
       "| <!--/--> | Name | Exchange | DataSetCode | ContractDate | ContractExpiry | \n",
       "|---|---|---|---|---|---|---|---|---|---|---|---|---|---|---|---|---|---|---|---|---|---|---|---|---|---|---|---|---|---|---|---|---|---|---|---|---|---|---|---|---|---|---|---|---|---|---|---|---|---|\n",
       "| 31 | Lead Futures, December 2013, PBZ2013, MCX  | MCX                                        | PBZ2013                                    | 2013-12-01                                 | December 2013                              | \n",
       "| 41 | Lead Futures, January 2014, PBF2014, MCX   | MCX                                        | PBF2014                                    | 2014-01-01                                 | January 2014                               | \n",
       "| 13 | Lead Futures, February 2014, PBG2014, MCX  | MCX                                        | PBG2014                                    | 2014-02-01                                 | February 2014                              | \n",
       "| 14 | Lead Futures, March 2014, PBH2014, MCX     | MCX                                        | PBH2014                                    | 2014-03-01                                 | March 2014                                 | \n",
       "| 42 | Lead Futures, April 2014, PBJ2014, MCX     | MCX                                        | PBJ2014                                    | 2014-04-01                                 | April 2014                                 | \n",
       "| 12 | Lead Futures, June 2014, PBM2014, MCX      | MCX                                        | PBM2014                                    | 2014-06-01                                 | June 2014                                  | \n",
       "| 43 | Lead Futures, July 2014, PBN2014, MCX      | MCX                                        | PBN2014                                    | 2014-07-01                                 | July 2014                                  | \n",
       "| 3 | Lead Futures, August 2014, PBQ2014, MCX    | MCX                                        | PBQ2014                                    | 2014-08-01                                 | August 2014                                | \n",
       "| 15 | Lead Futures, September 2014, PBU2014, MCX | MCX                                        | PBU2014                                    | 2014-09-01                                 | September 2014                             | \n",
       "| 1 | Lead Futures, October 2014, PBV2014, MCX   | MCX                                        | PBV2014                                    | 2014-10-01                                 | October 2014                               | \n",
       "| 7 | Lead Futures, November 2014, PBX2014, MCX  | MCX                                        | PBX2014                                    | 2014-11-01                                 | November 2014                              | \n",
       "| 36 | Lead Futures, December 2014, PBZ2014, MCX  | MCX                                        | PBZ2014                                    | 2014-12-01                                 | December 2014                              | \n",
       "| 6 | Lead Futures, January 2015, PBF2015, MCX   | MCX                                        | PBF2015                                    | 2015-01-01                                 | January 2015                               | \n",
       "| 16 | Lead Futures, February 2015, PBG2015, MCX  | MCX                                        | PBG2015                                    | 2015-02-01                                 | February 2015                              | \n",
       "| 44 | Lead Futures, March 2015, PBH2015, MCX     | MCX                                        | PBH2015                                    | 2015-03-01                                 | March 2015                                 | \n",
       "| 8 | Lead Futures, April 2015, PBJ2015, MCX     | MCX                                        | PBJ2015                                    | 2015-04-01                                 | April 2015                                 | \n",
       "| 17 | Lead Futures, May 2015, PBK2015, MCX       | MCX                                        | PBK2015                                    | 2015-05-01                                 | May 2015                                   | \n",
       "| 18 | Lead Futures, June 2015, PBM2015, MCX      | MCX                                        | PBM2015                                    | 2015-06-01                                 | June 2015                                  | \n",
       "| 19 | Lead Futures, July 2015, PBN2015, MCX      | MCX                                        | PBN2015                                    | 2015-07-01                                 | July 2015                                  | \n",
       "| 20 | Lead Futures, August 2015, PBQ2015, MCX    | MCX                                        | PBQ2015                                    | 2015-08-01                                 | August 2015                                | \n",
       "| 21 | Lead Futures, September 2015, PBU2015, MCX | MCX                                        | PBU2015                                    | 2015-09-01                                 | September 2015                             | \n",
       "| 9 | Lead Futures, October 2015, PBV2015, MCX   | MCX                                        | PBV2015                                    | 2015-10-01                                 | October 2015                               | \n",
       "| 38 | Lead Futures, November 2015, PBX2015, MCX  | MCX                                        | PBX2015                                    | 2015-11-01                                 | November 2015                              | \n",
       "| 39 | Lead Futures, December 2015, PBZ2015, MCX  | MCX                                        | PBZ2015                                    | 2015-12-01                                 | December 2015                              | \n",
       "| 22 | Lead Futures, January 2016, PBF2016, MCX   | MCX                                        | PBF2016                                    | 2016-01-01                                 | January 2016                               | \n",
       "| 2 | Lead Futures, February 2016, PBG2016, MCX  | MCX                                        | PBG2016                                    | 2016-02-01                                 | February 2016                              | \n",
       "| 32 | Lead Futures, March 2016, PBH2016, MCX     | MCX                                        | PBH2016                                    | 2016-03-01                                 | March 2016                                 | \n",
       "| 45 | Lead Futures, April 2016, PBJ2016, MCX     | MCX                                        | PBJ2016                                    | 2016-04-01                                 | April 2016                                 | \n",
       "| 4 | Lead Futures, May 2016, PBK2016, MCX       | MCX                                        | PBK2016                                    | 2016-05-01                                 | May 2016                                   | \n",
       "| 46 | Lead Futures, June 2016, PBM2016, MCX      | MCX                                        | PBM2016                                    | 2016-06-01                                 | June 2016                                  | \n",
       "| 33 | Lead Futures, July 2016, PBN2016, MCX      | MCX                                        | PBN2016                                    | 2016-07-01                                 | July 2016                                  | \n",
       "| 23 | Lead Futures, August 2016, PBQ2016, MCX    | MCX                                        | PBQ2016                                    | 2016-08-01                                 | August 2016                                | \n",
       "| 47 | Lead Futures, September 2016, PBU2016, MCX | MCX                                        | PBU2016                                    | 2016-09-01                                 | September 2016                             | \n",
       "| 10 | Lead Futures, October 2016, PBV2016, MCX   | MCX                                        | PBV2016                                    | 2016-10-01                                 | October 2016                               | \n",
       "| 24 | Lead Futures, November 2016, PBX2016, MCX  | MCX                                        | PBX2016                                    | 2016-11-01                                 | November 2016                              | \n",
       "| 25 | Lead Futures, December 2016, PBZ2016, MCX  | MCX                                        | PBZ2016                                    | 2016-12-01                                 | December 2016                              | \n",
       "| 34 | Lead Futures, January 2017, PBF2017, MCX   | MCX                                        | PBF2017                                    | 2017-01-01                                 | January 2017                               | \n",
       "| 35 | Lead Futures, February 2017, PBG2017, MCX  | MCX                                        | PBG2017                                    | 2017-02-01                                 | February 2017                              | \n",
       "| 26 | Lead Futures, March 2017, PBH2017, MCX     | MCX                                        | PBH2017                                    | 2017-03-01                                 | March 2017                                 | \n",
       "| 5 | Lead Futures, April 2017, PBJ2017, MCX     | MCX                                        | PBJ2017                                    | 2017-04-01                                 | April 2017                                 | \n",
       "| 11 | Lead Futures, May 2017, PBK2017, MCX       | MCX                                        | PBK2017                                    | 2017-05-01                                 | May 2017                                   | \n",
       "| 27 | Lead Futures, June 2017, PBM2017, MCX      | MCX                                        | PBM2017                                    | 2017-06-01                                 | June 2017                                  | \n",
       "| 48 | Lead Futures, July 2017, PBN2017, MCX      | MCX                                        | PBN2017                                    | 2017-07-01                                 | July 2017                                  | \n",
       "| 37 | Lead Futures, August 2017, PBQ2017, MCX    | MCX                                        | PBQ2017                                    | 2017-08-01                                 | August 2017                                | \n",
       "| 28 | Lead Futures, September 2017, PBU2017, MCX | MCX                                        | PBU2017                                    | 2017-09-01                                 | September 2017                             | \n",
       "| 40 | Lead Futures, October 2017, PBV2017, MCX   | MCX                                        | PBV2017                                    | 2017-10-01                                 | October 2017                               | \n",
       "| 29 | Lead Futures, November 2017, PBX2017, MCX  | MCX                                        | PBX2017                                    | 2017-11-01                                 | November 2017                              | \n",
       "| 30 | Lead Futures, December 2017, PBZ2017, MCX  | MCX                                        | PBZ2017                                    | 2017-12-01                                 | December 2017                              | \n",
       "| 49 | Lead Futures, January 2018, PBF2018, MCX   | MCX                                        | PBF2018                                    | 2018-01-01                                 | January 2018                               | \n",
       "| 50 | Lead Futures, February 2018, PBG2018, MCX  | MCX                                        | PBG2018                                    | 2018-02-01                                 | February 2018                              | \n",
       "\n",
       "\n"
      ],
      "text/plain": [
       "   Name                                       Exchange DataSetCode ContractDate\n",
       "31 Lead Futures, December 2013, PBZ2013, MCX  MCX      PBZ2013     2013-12-01  \n",
       "41 Lead Futures, January 2014, PBF2014, MCX   MCX      PBF2014     2014-01-01  \n",
       "13 Lead Futures, February 2014, PBG2014, MCX  MCX      PBG2014     2014-02-01  \n",
       "14 Lead Futures, March 2014, PBH2014, MCX     MCX      PBH2014     2014-03-01  \n",
       "42 Lead Futures, April 2014, PBJ2014, MCX     MCX      PBJ2014     2014-04-01  \n",
       "12 Lead Futures, June 2014, PBM2014, MCX      MCX      PBM2014     2014-06-01  \n",
       "43 Lead Futures, July 2014, PBN2014, MCX      MCX      PBN2014     2014-07-01  \n",
       "3  Lead Futures, August 2014, PBQ2014, MCX    MCX      PBQ2014     2014-08-01  \n",
       "15 Lead Futures, September 2014, PBU2014, MCX MCX      PBU2014     2014-09-01  \n",
       "1  Lead Futures, October 2014, PBV2014, MCX   MCX      PBV2014     2014-10-01  \n",
       "7  Lead Futures, November 2014, PBX2014, MCX  MCX      PBX2014     2014-11-01  \n",
       "36 Lead Futures, December 2014, PBZ2014, MCX  MCX      PBZ2014     2014-12-01  \n",
       "6  Lead Futures, January 2015, PBF2015, MCX   MCX      PBF2015     2015-01-01  \n",
       "16 Lead Futures, February 2015, PBG2015, MCX  MCX      PBG2015     2015-02-01  \n",
       "44 Lead Futures, March 2015, PBH2015, MCX     MCX      PBH2015     2015-03-01  \n",
       "8  Lead Futures, April 2015, PBJ2015, MCX     MCX      PBJ2015     2015-04-01  \n",
       "17 Lead Futures, May 2015, PBK2015, MCX       MCX      PBK2015     2015-05-01  \n",
       "18 Lead Futures, June 2015, PBM2015, MCX      MCX      PBM2015     2015-06-01  \n",
       "19 Lead Futures, July 2015, PBN2015, MCX      MCX      PBN2015     2015-07-01  \n",
       "20 Lead Futures, August 2015, PBQ2015, MCX    MCX      PBQ2015     2015-08-01  \n",
       "21 Lead Futures, September 2015, PBU2015, MCX MCX      PBU2015     2015-09-01  \n",
       "9  Lead Futures, October 2015, PBV2015, MCX   MCX      PBV2015     2015-10-01  \n",
       "38 Lead Futures, November 2015, PBX2015, MCX  MCX      PBX2015     2015-11-01  \n",
       "39 Lead Futures, December 2015, PBZ2015, MCX  MCX      PBZ2015     2015-12-01  \n",
       "22 Lead Futures, January 2016, PBF2016, MCX   MCX      PBF2016     2016-01-01  \n",
       "2  Lead Futures, February 2016, PBG2016, MCX  MCX      PBG2016     2016-02-01  \n",
       "32 Lead Futures, March 2016, PBH2016, MCX     MCX      PBH2016     2016-03-01  \n",
       "45 Lead Futures, April 2016, PBJ2016, MCX     MCX      PBJ2016     2016-04-01  \n",
       "4  Lead Futures, May 2016, PBK2016, MCX       MCX      PBK2016     2016-05-01  \n",
       "46 Lead Futures, June 2016, PBM2016, MCX      MCX      PBM2016     2016-06-01  \n",
       "33 Lead Futures, July 2016, PBN2016, MCX      MCX      PBN2016     2016-07-01  \n",
       "23 Lead Futures, August 2016, PBQ2016, MCX    MCX      PBQ2016     2016-08-01  \n",
       "47 Lead Futures, September 2016, PBU2016, MCX MCX      PBU2016     2016-09-01  \n",
       "10 Lead Futures, October 2016, PBV2016, MCX   MCX      PBV2016     2016-10-01  \n",
       "24 Lead Futures, November 2016, PBX2016, MCX  MCX      PBX2016     2016-11-01  \n",
       "25 Lead Futures, December 2016, PBZ2016, MCX  MCX      PBZ2016     2016-12-01  \n",
       "34 Lead Futures, January 2017, PBF2017, MCX   MCX      PBF2017     2017-01-01  \n",
       "35 Lead Futures, February 2017, PBG2017, MCX  MCX      PBG2017     2017-02-01  \n",
       "26 Lead Futures, March 2017, PBH2017, MCX     MCX      PBH2017     2017-03-01  \n",
       "5  Lead Futures, April 2017, PBJ2017, MCX     MCX      PBJ2017     2017-04-01  \n",
       "11 Lead Futures, May 2017, PBK2017, MCX       MCX      PBK2017     2017-05-01  \n",
       "27 Lead Futures, June 2017, PBM2017, MCX      MCX      PBM2017     2017-06-01  \n",
       "48 Lead Futures, July 2017, PBN2017, MCX      MCX      PBN2017     2017-07-01  \n",
       "37 Lead Futures, August 2017, PBQ2017, MCX    MCX      PBQ2017     2017-08-01  \n",
       "28 Lead Futures, September 2017, PBU2017, MCX MCX      PBU2017     2017-09-01  \n",
       "40 Lead Futures, October 2017, PBV2017, MCX   MCX      PBV2017     2017-10-01  \n",
       "29 Lead Futures, November 2017, PBX2017, MCX  MCX      PBX2017     2017-11-01  \n",
       "30 Lead Futures, December 2017, PBZ2017, MCX  MCX      PBZ2017     2017-12-01  \n",
       "49 Lead Futures, January 2018, PBF2018, MCX   MCX      PBF2018     2018-01-01  \n",
       "50 Lead Futures, February 2018, PBG2018, MCX  MCX      PBG2018     2018-02-01  \n",
       "   ContractExpiry\n",
       "31 December 2013 \n",
       "41 January 2014  \n",
       "13 February 2014 \n",
       "14 March 2014    \n",
       "42 April 2014    \n",
       "12 June 2014     \n",
       "43 July 2014     \n",
       "3  August 2014   \n",
       "15 September 2014\n",
       "1  October 2014  \n",
       "7  November 2014 \n",
       "36 December 2014 \n",
       "6  January 2015  \n",
       "16 February 2015 \n",
       "44 March 2015    \n",
       "8  April 2015    \n",
       "17 May 2015      \n",
       "18 June 2015     \n",
       "19 July 2015     \n",
       "20 August 2015   \n",
       "21 September 2015\n",
       "9  October 2015  \n",
       "38 November 2015 \n",
       "39 December 2015 \n",
       "22 January 2016  \n",
       "2  February 2016 \n",
       "32 March 2016    \n",
       "45 April 2016    \n",
       "4  May 2016      \n",
       "46 June 2016     \n",
       "33 July 2016     \n",
       "23 August 2016   \n",
       "47 September 2016\n",
       "10 October 2016  \n",
       "24 November 2016 \n",
       "25 December 2016 \n",
       "34 January 2017  \n",
       "35 February 2017 \n",
       "26 March 2017    \n",
       "5  April 2017    \n",
       "11 May 2017      \n",
       "27 June 2017     \n",
       "48 July 2017     \n",
       "37 August 2017   \n",
       "28 September 2017\n",
       "40 October 2017  \n",
       "29 November 2017 \n",
       "30 December 2017 \n",
       "49 January 2018  \n",
       "50 February 2018 "
      ]
     },
     "metadata": {},
     "output_type": "display_data"
    }
   ],
   "source": [
    "MCXFuturesMeta_DF"
   ]
  },
  {
   "cell_type": "code",
   "execution_count": 248,
   "metadata": {},
   "outputs": [],
   "source": [
    "#Initial Set-up of the Data\n",
    "temp0_code = str_c(\"MCX/\",MCXFuturesMeta_DF$DataSetCode[1])\n",
    "temp0 = Quandl(temp0_code,type = \"raw\",collapse = \"daily\")\n",
    "temp0[\"ContractDate\"] = MCXFuturesMeta_DF$ContractDate[1]\n",
    "temp0[\"ContractExpiry\"] = MCXFuturesMeta_DF$ContractExpiry[1]\n",
    "temp0 = temp0[-c(1:nrow(temp0)),]"
   ]
  },
  {
   "cell_type": "code",
   "execution_count": 249,
   "metadata": {},
   "outputs": [
    {
     "data": {
      "text/html": [
       "<table>\n",
       "<thead><tr><th scope=col>Date</th><th scope=col>Open</th><th scope=col>High</th><th scope=col>Low</th><th scope=col>Close</th><th scope=col>Volume</th><th scope=col>Prev. Day Open Interest</th><th scope=col>ContractDate</th><th scope=col>ContractExpiry</th></tr></thead>\n",
       "<tbody>\n",
       "</tbody>\n",
       "</table>\n"
      ],
      "text/latex": [
       "\\begin{tabular}{r|lllllllll}\n",
       " Date & Open & High & Low & Close & Volume & Prev. Day Open Interest & ContractDate & ContractExpiry\\\\\n",
       "\\hline\n",
       "\\end{tabular}\n"
      ],
      "text/markdown": [
       "\n",
       "Date | Open | High | Low | Close | Volume | Prev. Day Open Interest | ContractDate | ContractExpiry | \n",
       "||\n",
       "\n",
       "\n"
      ],
      "text/plain": [
       "     Date Open High Low Close Volume Prev. Day Open Interest ContractDate\n",
       "     ContractExpiry"
      ]
     },
     "metadata": {},
     "output_type": "display_data"
    }
   ],
   "source": [
    "temp0"
   ]
  },
  {
   "cell_type": "code",
   "execution_count": 250,
   "metadata": {},
   "outputs": [
    {
     "name": "stdout",
     "output_type": "stream",
     "text": [
      "[1] \"Dataset for PBZ2013 is created. Its Contact Expiry month is December 2013\"\n",
      "[1] \"Dataset for PBF2014 is created. Its Contact Expiry month is January 2014\"\n",
      "[1] \"Dataset for PBG2014 is created. Its Contact Expiry month is February 2014\"\n",
      "[1] \"Dataset for PBH2014 is created. Its Contact Expiry month is March 2014\"\n",
      "[1] \"Dataset for PBJ2014 is created. Its Contact Expiry month is April 2014\"\n",
      "[1] \"Dataset for PBM2014 is created. Its Contact Expiry month is June 2014\"\n",
      "[1] \"Dataset for PBN2014 is created. Its Contact Expiry month is July 2014\"\n",
      "[1] \"Dataset for PBQ2014 is created. Its Contact Expiry month is August 2014\"\n",
      "[1] \"Dataset for PBU2014 is created. Its Contact Expiry month is September 2014\"\n",
      "[1] \"Dataset for PBV2014 is created. Its Contact Expiry month is October 2014\"\n",
      "[1] \"Dataset for PBX2014 is created. Its Contact Expiry month is November 2014\"\n",
      "[1] \"Dataset for PBZ2014 is created. Its Contact Expiry month is December 2014\"\n",
      "[1] \"Dataset for PBF2015 is created. Its Contact Expiry month is January 2015\"\n",
      "[1] \"Dataset for PBG2015 is created. Its Contact Expiry month is February 2015\"\n",
      "[1] \"Dataset for PBH2015 is created. Its Contact Expiry month is March 2015\"\n",
      "[1] \"Dataset for PBJ2015 is created. Its Contact Expiry month is April 2015\"\n",
      "[1] \"Dataset for PBK2015 is created. Its Contact Expiry month is May 2015\"\n",
      "[1] \"Dataset for PBM2015 is created. Its Contact Expiry month is June 2015\"\n",
      "[1] \"Dataset for PBN2015 is created. Its Contact Expiry month is July 2015\"\n",
      "[1] \"Dataset for PBQ2015 is created. Its Contact Expiry month is August 2015\"\n",
      "[1] \"Dataset for PBU2015 is created. Its Contact Expiry month is September 2015\"\n",
      "[1] \"Dataset for PBV2015 is created. Its Contact Expiry month is October 2015\"\n",
      "[1] \"Dataset for PBX2015 is created. Its Contact Expiry month is November 2015\"\n",
      "[1] \"Dataset for PBZ2015 is created. Its Contact Expiry month is December 2015\"\n",
      "[1] \"Dataset for PBF2016 is created. Its Contact Expiry month is January 2016\"\n",
      "[1] \"Dataset for PBG2016 is created. Its Contact Expiry month is February 2016\"\n",
      "[1] \"Dataset for PBH2016 is created. Its Contact Expiry month is March 2016\"\n",
      "[1] \"Dataset for PBJ2016 is created. Its Contact Expiry month is April 2016\"\n",
      "[1] \"Dataset for PBK2016 is created. Its Contact Expiry month is May 2016\"\n",
      "[1] \"Dataset for PBM2016 is created. Its Contact Expiry month is June 2016\"\n",
      "[1] \"Dataset for PBN2016 is created. Its Contact Expiry month is July 2016\"\n",
      "[1] \"Dataset for PBQ2016 is created. Its Contact Expiry month is August 2016\"\n",
      "[1] \"Dataset for PBU2016 is created. Its Contact Expiry month is September 2016\"\n",
      "[1] \"Dataset for PBV2016 is created. Its Contact Expiry month is October 2016\"\n",
      "[1] \"Dataset for PBX2016 is created. Its Contact Expiry month is November 2016\"\n",
      "[1] \"Dataset for PBZ2016 is created. Its Contact Expiry month is December 2016\"\n",
      "[1] \"Dataset for PBF2017 is created. Its Contact Expiry month is January 2017\"\n",
      "[1] \"Dataset for PBG2017 is created. Its Contact Expiry month is February 2017\"\n",
      "[1] \"Dataset for PBH2017 is created. Its Contact Expiry month is March 2017\"\n",
      "[1] \"Dataset for PBJ2017 is created. Its Contact Expiry month is April 2017\"\n",
      "[1] \"Dataset for PBK2017 is created. Its Contact Expiry month is May 2017\"\n",
      "[1] \"Dataset for PBM2017 is created. Its Contact Expiry month is June 2017\"\n",
      "[1] \"Dataset for PBN2017 is created. Its Contact Expiry month is July 2017\"\n",
      "[1] \"Dataset for PBQ2017 is created. Its Contact Expiry month is August 2017\"\n",
      "[1] \"Dataset for PBU2017 is created. Its Contact Expiry month is September 2017\"\n",
      "[1] \"Dataset for PBV2017 is created. Its Contact Expiry month is October 2017\"\n",
      "[1] \"Dataset for PBX2017 is created. Its Contact Expiry month is November 2017\"\n",
      "[1] \"Dataset for PBZ2017 is created. Its Contact Expiry month is December 2017\"\n",
      "[1] \"Dataset for PBF2018 is created. Its Contact Expiry month is January 2018\"\n",
      "[1] \"Dataset for PBG2018 is created. Its Contact Expiry month is February 2018\"\n"
     ]
    }
   ],
   "source": [
    "i=0\n",
    "\n",
    "for (k in MCXFuturesMeta_DF$DataSetCode){\n",
    "    MCX_code = str_c(\"MCX/\",k)\n",
    "    i=i+1\n",
    "    temp1 = Quandl(MCX_code,type = \"raw\",collapse = \"daily\")\n",
    "    temp1[\"ContractDate\"] = MCXFuturesMeta_DF$ContractDate[i]\n",
    "    temp1[\"ContractExpiry\"] = MCXFuturesMeta_DF$ContractExpiry[i]\n",
    "    if(identical(names(temp1),names(temp0)))\n",
    "        {\n",
    "        temp0 = rbind(temp0,temp1)\n",
    "        }\n",
    "    else\n",
    "        {\n",
    "        names(temp1) = names(temp0)\n",
    "        temp0 = rbind(temp0,temp1)\n",
    "        }\n",
    "   \n",
    "    msg = str_c(\"Dataset for \",k,\" is created. Its Contact Expiry month is \", MCXFuturesMeta_DF$ContractExpiry[i])\n",
    "    print(msg)\n",
    "}\n"
   ]
  },
  {
   "cell_type": "code",
   "execution_count": 255,
   "metadata": {},
   "outputs": [],
   "source": [
    "MCX_Master_Data = temp0"
   ]
  },
  {
   "cell_type": "code",
   "execution_count": 256,
   "metadata": {},
   "outputs": [
    {
     "data": {
      "text/html": [
       "4555"
      ],
      "text/latex": [
       "4555"
      ],
      "text/markdown": [
       "4555"
      ],
      "text/plain": [
       "[1] 4555"
      ]
     },
     "metadata": {},
     "output_type": "display_data"
    }
   ],
   "source": [
    "nrow(MCX_Master_Data)"
   ]
  },
  {
   "cell_type": "code",
   "execution_count": 261,
   "metadata": {
    "collapsed": true
   },
   "outputs": [],
   "source": [
    "MCX_Master_Data = MCX_Master_Data[order(MCX_Master_Data$ContractDate,MCX_Master_Data$Date),]"
   ]
  },
  {
   "cell_type": "markdown",
   "metadata": {},
   "source": [
    "#### Missing Value Treatment"
   ]
  },
  {
   "cell_type": "code",
   "execution_count": 269,
   "metadata": {
    "scrolled": true
   },
   "outputs": [],
   "source": [
    "MCX_Master_Data[\"WeekDay_Name\"] = weekdays(MCX_Master_Data$Date)"
   ]
  },
  {
   "cell_type": "markdown",
   "metadata": {},
   "source": [
    "##### Removing Saturdays"
   ]
  },
  {
   "cell_type": "code",
   "execution_count": 293,
   "metadata": {},
   "outputs": [],
   "source": [
    "MCX_Master_Data = MCX_Master_Data[!(MCX_Master_Data$WeekDay_Name==\"Saturday\"),]"
   ]
  },
  {
   "cell_type": "markdown",
   "metadata": {},
   "source": [
    "Before moving on to treatment for Missing values in \"Open\",\"Close\",\"High\" and \"Low\". Let us perform outlier treatment on volume"
   ]
  },
  {
   "cell_type": "code",
   "execution_count": 307,
   "metadata": {},
   "outputs": [],
   "source": [
    "p = plot_ly(x=~MCX_Master_Data$Volume, type=\"box\")"
   ]
  },
  {
   "cell_type": "code",
   "execution_count": 311,
   "metadata": {},
   "outputs": [
    {
     "ename": "ERROR",
     "evalue": "Error in setwd(dir): cannot change working directory\n",
     "output_type": "error",
     "traceback": [
      "Error in setwd(dir): cannot change working directory\nTraceback:\n",
      "1. embed_notebook(p)",
      "2. embed_notebook.plotly(p)",
      "3. htmlwidgets::saveWidget(p, tmp)",
      "4. htmltools::save_html(html, file = file, libdir = libdir, background = background)",
      "5. setwd(dir)"
     ]
    }
   ],
   "source": [
    "embed_notebook(p)"
   ]
  },
  {
   "cell_type": "code",
   "execution_count": 313,
   "metadata": {},
   "outputs": [
    {
     "data": {
      "text/html": [
       "<pre class=language-r><code>function (path = \".\", pattern = NULL, all.files = FALSE, full.names = FALSE, \n",
       "<span style=white-space:pre-wrap>    recursive = FALSE, ignore.case = FALSE, include.dirs = FALSE, </span>\n",
       "<span style=white-space:pre-wrap>    no.. = FALSE) </span>\n",
       ".Internal(list.files(path, pattern, all.files, full.names, recursive, \n",
       "<span style=white-space:pre-wrap>    ignore.case, include.dirs, no..))</span></code></pre>"
      ],
      "text/latex": [
       "\\begin{minted}{r}\n",
       "function (path = \".\", pattern = NULL, all.files = FALSE, full.names = FALSE, \n",
       "    recursive = FALSE, ignore.case = FALSE, include.dirs = FALSE, \n",
       "    no.. = FALSE) \n",
       ".Internal(list.files(path, pattern, all.files, full.names, recursive, \n",
       "    ignore.case, include.dirs, no..))\n",
       "\\end{minted}"
      ],
      "text/markdown": [
       "```r\n",
       "function (path = \".\", pattern = NULL, all.files = FALSE, full.names = FALSE, \n",
       "    recursive = FALSE, ignore.case = FALSE, include.dirs = FALSE, \n",
       "    no.. = FALSE) \n",
       ".Internal(list.files(path, pattern, all.files, full.names, recursive, \n",
       "    ignore.case, include.dirs, no..))\n",
       "```"
      ],
      "text/plain": [
       "function (path = \".\", pattern = NULL, all.files = FALSE, full.names = FALSE, \n",
       "    recursive = FALSE, ignore.case = FALSE, include.dirs = FALSE, \n",
       "    no.. = FALSE) \n",
       ".Internal(list.files(path, pattern, all.files, full.names, recursive, \n",
       "    ignore.case, include.dirs, no..))\n",
       "<bytecode: 0x00000000093b5bc0>\n",
       "<environment: namespace:base>"
      ]
     },
     "metadata": {},
     "output_type": "display_data"
    }
   ],
   "source": [
    "dir"
   ]
  },
  {
   "cell_type": "code",
   "execution_count": 315,
   "metadata": {},
   "outputs": [
    {
     "data": {
      "text/html": [
       "<time datetime=\"2018-02-01\">2018-02-01</time>"
      ],
      "text/latex": [
       "2018-02-01"
      ],
      "text/markdown": [
       "2018-02-01"
      ],
      "text/plain": [
       "[1] \"2018-02-01\""
      ]
     },
     "metadata": {},
     "output_type": "display_data"
    }
   ],
   "source": [
    "max(MCXFuturesMeta_DF$ContractDate)"
   ]
  },
  {
   "cell_type": "code",
   "execution_count": 329,
   "metadata": {},
   "outputs": [
    {
     "data": {
      "text/html": [
       "0"
      ],
      "text/latex": [
       "0"
      ],
      "text/markdown": [
       "0"
      ],
      "text/plain": [
       "[1] 0"
      ]
     },
     "metadata": {},
     "output_type": "display_data"
    }
   ],
   "source": [
    "as.integer(str_sub(as.character.Date(Sys.Date()),9))-1"
   ]
  },
  {
   "cell_type": "code",
   "execution_count": 379,
   "metadata": {},
   "outputs": [
    {
     "ename": "ERROR",
     "evalue": "Error in View(head(MCXFuturesMeta_DF)): 'View()' not yet supported in the Jupyter R kernel\n",
     "output_type": "error",
     "traceback": [
      "Error in View(head(MCXFuturesMeta_DF)): 'View()' not yet supported in the Jupyter R kernel\nTraceback:\n",
      "1. View(head(MCXFuturesMeta_DF))",
      "2. stop(sQuote(\"View()\"), \" not yet supported in the Jupyter R kernel\")"
     ]
    }
   ],
   "source": [
    "MCX_Search_Results = Quandl.search(\"Lead Futures\",per_page = 50,silent = TRUE)\n",
    "MCXFuturesMeta_DF = data.frame(Name = MCX_Search_Results$name, Exchange = MCX_Search_Results$database_code,DataSetCode = MCX_Search_Results$dataset_code,ContractDate=as.Date(str_c('01 ',str_replace(word(MCX_Search_Results$name,3,4),\",\",\"\")),format = '%d %B %Y'),ContractExpiry=str_replace(word(MCX_Search_Results$name,3,4),\",\",\"\"))\n",
    "MCXFuturesMeta_DF[\"ExpiryMonth\"]=word(MCXFuturesMeta_DF$ContractExpiry,1)\n",
    "MCXFuturesMeta_DF[\"ExpiryYear\"]=word(MCXFuturesMeta_DF$ContractExpiry,2)\n",
    "MCXFuturesMeta_DF[\"Code_Abbrv\"] = str_sub(MCXFuturesMeta_DF$DataSetCode,1,3)\n",
    "MCXFuturesMeta_DF = MCXFuturesMeta_DF[order(MCXFuturesMeta_DF$ContractDate),]\n"
   ]
  },
  {
   "cell_type": "code",
   "execution_count": 380,
   "metadata": {
    "collapsed": true
   },
   "outputs": [],
   "source": [
    "MCX_Future_Code_Month_Mapping = unique(MCXFuturesMeta_DF[,c(\"ExpiryMonth\",\"Code_Abbrv\")])"
   ]
  },
  {
   "cell_type": "code",
   "execution_count": 383,
   "metadata": {},
   "outputs": [],
   "source": [
    "MCX_Future_Code_Month_Mapping[\"Key\"]=1"
   ]
  },
  {
   "cell_type": "code",
   "execution_count": 392,
   "metadata": {},
   "outputs": [
    {
     "data": {
      "text/html": [
       "<table>\n",
       "<thead><tr><th></th><th scope=col>ExpiryMonth</th><th scope=col>Code_Abbrv</th><th scope=col>Key</th></tr></thead>\n",
       "<tbody>\n",
       "\t<tr><th scope=row>31</th><td>December </td><td>PBZ      </td><td>12       </td></tr>\n",
       "\t<tr><th scope=row>41</th><td>January  </td><td>PBF      </td><td> 1       </td></tr>\n",
       "\t<tr><th scope=row>13</th><td>February </td><td>PBG      </td><td> 2       </td></tr>\n",
       "\t<tr><th scope=row>14</th><td>March    </td><td>PBH      </td><td> 3       </td></tr>\n",
       "\t<tr><th scope=row>42</th><td>April    </td><td>PBJ      </td><td> 4       </td></tr>\n",
       "\t<tr><th scope=row>12</th><td>June     </td><td>PBM      </td><td> 6       </td></tr>\n",
       "\t<tr><th scope=row>43</th><td>July     </td><td>PBN      </td><td> 7       </td></tr>\n",
       "\t<tr><th scope=row>3</th><td>August   </td><td>PBQ      </td><td> 8       </td></tr>\n",
       "\t<tr><th scope=row>15</th><td>September</td><td>PBU      </td><td> 9       </td></tr>\n",
       "\t<tr><th scope=row>1</th><td>October  </td><td>PBV      </td><td>10       </td></tr>\n",
       "\t<tr><th scope=row>7</th><td>November </td><td>PBX      </td><td>11       </td></tr>\n",
       "\t<tr><th scope=row>17</th><td>May      </td><td>PBK      </td><td> 5       </td></tr>\n",
       "</tbody>\n",
       "</table>\n"
      ],
      "text/latex": [
       "\\begin{tabular}{r|lll}\n",
       "  & ExpiryMonth & Code\\_Abbrv & Key\\\\\n",
       "\\hline\n",
       "\t31 & December  & PBZ       & 12       \\\\\n",
       "\t41 & January   & PBF       &  1       \\\\\n",
       "\t13 & February  & PBG       &  2       \\\\\n",
       "\t14 & March     & PBH       &  3       \\\\\n",
       "\t42 & April     & PBJ       &  4       \\\\\n",
       "\t12 & June      & PBM       &  6       \\\\\n",
       "\t43 & July      & PBN       &  7       \\\\\n",
       "\t3 & August    & PBQ       &  8       \\\\\n",
       "\t15 & September & PBU       &  9       \\\\\n",
       "\t1 & October   & PBV       & 10       \\\\\n",
       "\t7 & November  & PBX       & 11       \\\\\n",
       "\t17 & May       & PBK       &  5       \\\\\n",
       "\\end{tabular}\n"
      ],
      "text/markdown": [
       "\n",
       "| <!--/--> | ExpiryMonth | Code_Abbrv | Key | \n",
       "|---|---|---|---|---|---|---|---|---|---|---|---|\n",
       "| 31 | December  | PBZ       | 12        | \n",
       "| 41 | January   | PBF       |  1        | \n",
       "| 13 | February  | PBG       |  2        | \n",
       "| 14 | March     | PBH       |  3        | \n",
       "| 42 | April     | PBJ       |  4        | \n",
       "| 12 | June      | PBM       |  6        | \n",
       "| 43 | July      | PBN       |  7        | \n",
       "| 3 | August    | PBQ       |  8        | \n",
       "| 15 | September | PBU       |  9        | \n",
       "| 1 | October   | PBV       | 10        | \n",
       "| 7 | November  | PBX       | 11        | \n",
       "| 17 | May       | PBK       |  5        | \n",
       "\n",
       "\n"
      ],
      "text/plain": [
       "   ExpiryMonth Code_Abbrv Key\n",
       "31 December    PBZ        12 \n",
       "41 January     PBF         1 \n",
       "13 February    PBG         2 \n",
       "14 March       PBH         3 \n",
       "42 April       PBJ         4 \n",
       "12 June        PBM         6 \n",
       "43 July        PBN         7 \n",
       "3  August      PBQ         8 \n",
       "15 September   PBU         9 \n",
       "1  October     PBV        10 \n",
       "7  November    PBX        11 \n",
       "17 May         PBK         5 "
      ]
     },
     "metadata": {},
     "output_type": "display_data"
    }
   ],
   "source": [
    "MCX_Future_Code_Month_Mapping"
   ]
  },
  {
   "cell_type": "code",
   "execution_count": 388,
   "metadata": {},
   "outputs": [],
   "source": [
    "MCX_Future_Code_Month_Mapping[MCX_Future_Code_Month_Mapping$ExpiryMonth=='December',\"Key\"]=12"
   ]
  },
  {
   "cell_type": "code",
   "execution_count": 390,
   "metadata": {
    "collapsed": true
   },
   "outputs": [],
   "source": [
    "MCX_Future_Code_Month_Mapping[MCX_Future_Code_Month_Mapping$ExpiryMonth=='November',\"Key\"]=11"
   ]
  },
  {
   "cell_type": "code",
   "execution_count": 391,
   "metadata": {
    "collapsed": true
   },
   "outputs": [],
   "source": [
    "MCX_Future_Code_Month_Mapping[MCX_Future_Code_Month_Mapping$ExpiryMonth=='February',\"Key\"]=2\n",
    "MCX_Future_Code_Month_Mapping[MCX_Future_Code_Month_Mapping$ExpiryMonth=='March',\"Key\"]=3\n",
    "MCX_Future_Code_Month_Mapping[MCX_Future_Code_Month_Mapping$ExpiryMonth=='April',\"Key\"]=4\n",
    "MCX_Future_Code_Month_Mapping[MCX_Future_Code_Month_Mapping$ExpiryMonth=='May',\"Key\"]=5\n",
    "MCX_Future_Code_Month_Mapping[MCX_Future_Code_Month_Mapping$ExpiryMonth=='June',\"Key\"]=6\n",
    "MCX_Future_Code_Month_Mapping[MCX_Future_Code_Month_Mapping$ExpiryMonth=='July',\"Key\"]=7\n",
    "MCX_Future_Code_Month_Mapping[MCX_Future_Code_Month_Mapping$ExpiryMonth=='August',\"Key\"]=8\n",
    "MCX_Future_Code_Month_Mapping[MCX_Future_Code_Month_Mapping$ExpiryMonth=='September',\"Key\"]=9\n",
    "MCX_Future_Code_Month_Mapping[MCX_Future_Code_Month_Mapping$ExpiryMonth=='October',\"Key\"]=10\n",
    "MCX_Future_Code_Month_Mapping[MCX_Future_Code_Month_Mapping$ExpiryMonth=='November',\"Key\"]=11\n",
    "MCX_Future_Code_Month_Mapping[MCX_Future_Code_Month_Mapping$ExpiryMonth=='December',\"Key\"]=12"
   ]
  },
  {
   "cell_type": "code",
   "execution_count": 404,
   "metadata": {},
   "outputs": [
    {
     "data": {
      "text/html": [
       "3"
      ],
      "text/latex": [
       "3"
      ],
      "text/markdown": [
       "3"
      ],
      "text/plain": [
       "[1] 3"
      ]
     },
     "metadata": {},
     "output_type": "display_data"
    }
   ],
   "source": [
    "as.integer(str_sub(as.character.Date(max(MCXFuturesMeta_DF$ContractDate)),6,-4))+1"
   ]
  },
  {
   "cell_type": "code",
   "execution_count": 395,
   "metadata": {},
   "outputs": [
    {
     "data": {
      "text/html": [
       "4"
      ],
      "text/latex": [
       "4"
      ],
      "text/markdown": [
       "4"
      ],
      "text/plain": [
       "[1] 4"
      ]
     },
     "metadata": {},
     "output_type": "display_data"
    }
   ],
   "source": [
    "as.integer(str_sub(as.character.Date(max(Sys.Date())),6,-4))"
   ]
  },
  {
   "cell_type": "code",
   "execution_count": 405,
   "metadata": {},
   "outputs": [
    {
     "name": "stdout",
     "output_type": "stream",
     "text": [
      "[1] 3\n",
      "[1] 4\n"
     ]
    }
   ],
   "source": [
    "for (k in c(3:4)){\n",
    "    \n",
    "    print(k)\n",
    "}"
   ]
  },
  {
   "cell_type": "code",
   "execution_count": 406,
   "metadata": {
    "collapsed": true
   },
   "outputs": [],
   "source": [
    "MaximumAvailableMonth = as.integer(str_sub(as.character.Date(max(MCXFuturesMeta_DF$ContractDate)),6,-4))+1\n",
    "CurrentMonth = as.integer(str_sub(as.character.Date(max(Sys.Date())),6,-4))\n",
    "CurrentYear = str_sub(as.character.Date(max(Sys.Date())),1,-7)"
   ]
  },
  {
   "cell_type": "code",
   "execution_count": 419,
   "metadata": {},
   "outputs": [
    {
     "data": {
      "text/html": [
       "'2018'"
      ],
      "text/latex": [
       "'2018'"
      ],
      "text/markdown": [
       "'2018'"
      ],
      "text/plain": [
       "[1] \"2018\""
      ]
     },
     "metadata": {},
     "output_type": "display_data"
    }
   ],
   "source": [
    "str"
   ]
  },
  {
   "cell_type": "code",
   "execution_count": 450,
   "metadata": {},
   "outputs": [
    {
     "name": "stdout",
     "output_type": "stream",
     "text": [
      "[1] \"PBH2018\"\n",
      "[1] \"PBJ2018\"\n"
     ]
    }
   ],
   "source": [
    "newCode=\"\"\n",
    "i=1\n",
    "for (m in c(MaximumAvailableMonth:CurrentMonth)){\n",
    "    code_new = str_c(MCX_Future_Code_Month_Mapping[MCX_Future_Code_Month_Mapping$Key==m,\"Code_Abbrv\"],CurrentYear)\n",
    "    newCode[i]=code_new\n",
    "    print(code_new)\n",
    "    i= i + 1\n",
    "}"
   ]
  },
  {
   "cell_type": "code",
   "execution_count": 454,
   "metadata": {},
   "outputs": [
    {
     "data": {
      "text/html": [
       "<ol class=list-inline>\n",
       "\t<li>'PBH2018'</li>\n",
       "\t<li>'PBJ2018'</li>\n",
       "</ol>\n"
      ],
      "text/latex": [
       "\\begin{enumerate*}\n",
       "\\item 'PBH2018'\n",
       "\\item 'PBJ2018'\n",
       "\\end{enumerate*}\n"
      ],
      "text/markdown": [
       "1. 'PBH2018'\n",
       "2. 'PBJ2018'\n",
       "\n",
       "\n"
      ],
      "text/plain": [
       "[1] \"PBH2018\" \"PBJ2018\""
      ]
     },
     "metadata": {},
     "output_type": "display_data"
    }
   ],
   "source": []
  },
  {
   "cell_type": "code",
   "execution_count": 440,
   "metadata": {},
   "outputs": [
    {
     "ename": "ERROR",
     "evalue": "Error in newCode.append(\"s\"): could not find function \"newCode.append\"\n",
     "output_type": "error",
     "traceback": [
      "Error in newCode.append(\"s\"): could not find function \"newCode.append\"\nTraceback:\n"
     ]
    }
   ],
   "source": []
  }
 ],
 "metadata": {
  "kernelspec": {
   "display_name": "R",
   "language": "R",
   "name": "ir"
  },
  "language_info": {
   "codemirror_mode": "r",
   "file_extension": ".r",
   "mimetype": "text/x-r-source",
   "name": "R",
   "pygments_lexer": "r",
   "version": "3.4.1"
  }
 },
 "nbformat": 4,
 "nbformat_minor": 2
}
